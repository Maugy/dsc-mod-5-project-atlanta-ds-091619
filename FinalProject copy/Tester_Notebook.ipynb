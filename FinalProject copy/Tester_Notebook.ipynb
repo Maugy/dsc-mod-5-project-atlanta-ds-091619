{
 "cells": [
  {
   "cell_type": "code",
   "execution_count": 1,
   "metadata": {
    "ExecuteTime": {
     "end_time": "2019-12-12T19:08:54.671629Z",
     "start_time": "2019-12-12T19:08:52.195513Z"
    },
    "scrolled": true
   },
   "outputs": [],
   "source": [
    "import pandas as pd \n",
    "import numpy as np\n",
    "from bs4 import BeautifulSoup\n",
    "import requests\n",
    "import json\n",
    "from time import sleep, time\n",
    "import lxml\n",
    "import re\n",
    "from urllib.parse import urljoin\n",
    "import unicodedata\n",
    "from collections import defaultdict, Counter\n",
    "import WebScrape_Indeed\n",
    "import WebScrape_LinkedIn\n",
    "import streamlit as st \n",
    "import nltk\n",
    "from nltk.corpus import stopwords\n",
    "import string\n",
    "from nltk import word_tokenize, FreqDist\n",
    "from sklearn.feature_extraction.text import TfidfVectorizer\n",
    "import matplotlib.pyplot as plt\n",
    "import pandas as pd \n",
    "import numpy as np\n",
    "from bs4 import BeautifulSoup\n",
    "import requests\n",
    "import json\n",
    "from time import sleep, time\n",
    "import lxml\n",
    "import re\n",
    "from urllib.parse import urljoin\n",
    "import unicodedata\n",
    "from collections import defaultdict, Counter\n",
    "import WebScrape_Indeed\n",
    "import WebScrape_LinkedIn\n",
    "import streamlit as st \n",
    "import terms \n",
    "import Cities \n",
    "import functions\n",
    "import time\n",
    "import plotly.figure_factory as ff\n",
    "import nltk\n",
    "from nltk.corpus import stopwords\n",
    "import string\n",
    "from nltk import word_tokenize, FreqDist\n",
    "from sklearn.feature_extraction.text import TfidfVectorizer\n",
    "import matplotlib.pyplot as plt\n",
    "\n",
    "import pandas as pd \n",
    "import numpy as np\n",
    "from bs4 import BeautifulSoup\n",
    "import requests\n",
    "import json\n",
    "from time import sleep, time\n",
    "import lxml\n",
    "import re\n",
    "from urllib.parse import urljoin\n",
    "import unicodedata\n",
    "from collections import defaultdict, Counter\n",
    "import WebScrape_Indeed\n",
    "import WebScrape_LinkedIn\n",
    "import streamlit as st \n",
    "import terms \n",
    "import Cities \n",
    "import functions\n"
   ]
  },
  {
   "cell_type": "code",
   "execution_count": 2,
   "metadata": {
    "ExecuteTime": {
     "end_time": "2019-12-12T19:09:27.202029Z",
     "start_time": "2019-12-12T19:09:27.065772Z"
    },
    "scrolled": true
   },
   "outputs": [
    {
     "data": {
      "text/html": [
       "<div>\n",
       "<style scoped>\n",
       "    .dataframe tbody tr th:only-of-type {\n",
       "        vertical-align: middle;\n",
       "    }\n",
       "\n",
       "    .dataframe tbody tr th {\n",
       "        vertical-align: top;\n",
       "    }\n",
       "\n",
       "    .dataframe thead th {\n",
       "        text-align: right;\n",
       "    }\n",
       "</style>\n",
       "<table border=\"1\" class=\"dataframe\">\n",
       "  <thead>\n",
       "    <tr style=\"text-align: right;\">\n",
       "      <th></th>\n",
       "      <th>city</th>\n",
       "      <th>city_ascii</th>\n",
       "      <th>state_id</th>\n",
       "      <th>state_name</th>\n",
       "      <th>county_fips</th>\n",
       "      <th>county_name</th>\n",
       "      <th>county_fips_all</th>\n",
       "      <th>county_name_all</th>\n",
       "      <th>lat</th>\n",
       "      <th>lng</th>\n",
       "      <th>population</th>\n",
       "      <th>density</th>\n",
       "      <th>source</th>\n",
       "      <th>military</th>\n",
       "      <th>incorporated</th>\n",
       "      <th>timezone</th>\n",
       "      <th>ranking</th>\n",
       "      <th>zips</th>\n",
       "      <th>id</th>\n",
       "    </tr>\n",
       "  </thead>\n",
       "  <tbody>\n",
       "    <tr>\n",
       "      <th>0</th>\n",
       "      <td>South Creek</td>\n",
       "      <td>South Creek</td>\n",
       "      <td>WA</td>\n",
       "      <td>Washington</td>\n",
       "      <td>53053</td>\n",
       "      <td>Pierce</td>\n",
       "      <td>53053</td>\n",
       "      <td>Pierce</td>\n",
       "      <td>46.9994</td>\n",
       "      <td>-122.3921</td>\n",
       "      <td>2500.0</td>\n",
       "      <td>125.0</td>\n",
       "      <td>polygon</td>\n",
       "      <td>False</td>\n",
       "      <td>True</td>\n",
       "      <td>America/Los_Angeles</td>\n",
       "      <td>3</td>\n",
       "      <td>98580 98387 98338</td>\n",
       "      <td>1840042075</td>\n",
       "    </tr>\n",
       "    <tr>\n",
       "      <th>1</th>\n",
       "      <td>Roslyn</td>\n",
       "      <td>Roslyn</td>\n",
       "      <td>WA</td>\n",
       "      <td>Washington</td>\n",
       "      <td>53037</td>\n",
       "      <td>Kittitas</td>\n",
       "      <td>53037</td>\n",
       "      <td>Kittitas</td>\n",
       "      <td>47.2507</td>\n",
       "      <td>-121.0989</td>\n",
       "      <td>947.0</td>\n",
       "      <td>84.0</td>\n",
       "      <td>polygon</td>\n",
       "      <td>False</td>\n",
       "      <td>True</td>\n",
       "      <td>America/Los_Angeles</td>\n",
       "      <td>3</td>\n",
       "      <td>98941 98068 98925</td>\n",
       "      <td>1840019842</td>\n",
       "    </tr>\n",
       "    <tr>\n",
       "      <th>2</th>\n",
       "      <td>Sprague</td>\n",
       "      <td>Sprague</td>\n",
       "      <td>WA</td>\n",
       "      <td>Washington</td>\n",
       "      <td>53043</td>\n",
       "      <td>Lincoln</td>\n",
       "      <td>53043</td>\n",
       "      <td>Lincoln</td>\n",
       "      <td>47.3048</td>\n",
       "      <td>-117.9713</td>\n",
       "      <td>441.0</td>\n",
       "      <td>163.0</td>\n",
       "      <td>polygon</td>\n",
       "      <td>False</td>\n",
       "      <td>True</td>\n",
       "      <td>America/Los_Angeles</td>\n",
       "      <td>3</td>\n",
       "      <td>99032</td>\n",
       "      <td>1840021107</td>\n",
       "    </tr>\n",
       "    <tr>\n",
       "      <th>3</th>\n",
       "      <td>Gig Harbor</td>\n",
       "      <td>Gig Harbor</td>\n",
       "      <td>WA</td>\n",
       "      <td>Washington</td>\n",
       "      <td>53053</td>\n",
       "      <td>Pierce</td>\n",
       "      <td>53053</td>\n",
       "      <td>Pierce</td>\n",
       "      <td>47.3352</td>\n",
       "      <td>-122.5968</td>\n",
       "      <td>9507.0</td>\n",
       "      <td>622.0</td>\n",
       "      <td>polygon</td>\n",
       "      <td>False</td>\n",
       "      <td>True</td>\n",
       "      <td>America/Los_Angeles</td>\n",
       "      <td>3</td>\n",
       "      <td>98332 98335</td>\n",
       "      <td>1840019855</td>\n",
       "    </tr>\n",
       "    <tr>\n",
       "      <th>4</th>\n",
       "      <td>Lake Cassidy</td>\n",
       "      <td>Lake Cassidy</td>\n",
       "      <td>WA</td>\n",
       "      <td>Washington</td>\n",
       "      <td>53061</td>\n",
       "      <td>Snohomish</td>\n",
       "      <td>53061</td>\n",
       "      <td>Snohomish</td>\n",
       "      <td>48.0639</td>\n",
       "      <td>-122.0920</td>\n",
       "      <td>3591.0</td>\n",
       "      <td>131.0</td>\n",
       "      <td>polygon</td>\n",
       "      <td>False</td>\n",
       "      <td>True</td>\n",
       "      <td>America/Los_Angeles</td>\n",
       "      <td>3</td>\n",
       "      <td>98223 98258 98270</td>\n",
       "      <td>1840041959</td>\n",
       "    </tr>\n",
       "  </tbody>\n",
       "</table>\n",
       "</div>"
      ],
      "text/plain": [
       "           city    city_ascii state_id  state_name  county_fips county_name  \\\n",
       "0   South Creek   South Creek       WA  Washington        53053      Pierce   \n",
       "1        Roslyn        Roslyn       WA  Washington        53037    Kittitas   \n",
       "2       Sprague       Sprague       WA  Washington        53043     Lincoln   \n",
       "3    Gig Harbor    Gig Harbor       WA  Washington        53053      Pierce   \n",
       "4  Lake Cassidy  Lake Cassidy       WA  Washington        53061   Snohomish   \n",
       "\n",
       "  county_fips_all county_name_all      lat       lng  population  density  \\\n",
       "0           53053          Pierce  46.9994 -122.3921      2500.0    125.0   \n",
       "1           53037        Kittitas  47.2507 -121.0989       947.0     84.0   \n",
       "2           53043         Lincoln  47.3048 -117.9713       441.0    163.0   \n",
       "3           53053          Pierce  47.3352 -122.5968      9507.0    622.0   \n",
       "4           53061       Snohomish  48.0639 -122.0920      3591.0    131.0   \n",
       "\n",
       "    source  military  incorporated             timezone  ranking  \\\n",
       "0  polygon     False          True  America/Los_Angeles        3   \n",
       "1  polygon     False          True  America/Los_Angeles        3   \n",
       "2  polygon     False          True  America/Los_Angeles        3   \n",
       "3  polygon     False          True  America/Los_Angeles        3   \n",
       "4  polygon     False          True  America/Los_Angeles        3   \n",
       "\n",
       "                zips          id  \n",
       "0  98580 98387 98338  1840042075  \n",
       "1  98941 98068 98925  1840019842  \n",
       "2              99032  1840021107  \n",
       "3        98332 98335  1840019855  \n",
       "4  98223 98258 98270  1840041959  "
      ]
     },
     "execution_count": 2,
     "metadata": {},
     "output_type": "execute_result"
    }
   ],
   "source": [
    "census = pd.read_csv('uscities.csv')\n",
    "census.head()"
   ]
  },
  {
   "cell_type": "code",
   "execution_count": 3,
   "metadata": {
    "ExecuteTime": {
     "end_time": "2019-12-12T19:12:54.940859Z",
     "start_time": "2019-12-12T19:12:54.935686Z"
    }
   },
   "outputs": [],
   "source": [
    "census_brief = census[['city','state_id','lat','lng',]]"
   ]
  },
  {
   "cell_type": "code",
   "execution_count": 4,
   "metadata": {
    "ExecuteTime": {
     "end_time": "2019-12-12T19:13:02.012381Z",
     "start_time": "2019-12-12T19:13:02.002475Z"
    }
   },
   "outputs": [
    {
     "data": {
      "text/html": [
       "<div>\n",
       "<style scoped>\n",
       "    .dataframe tbody tr th:only-of-type {\n",
       "        vertical-align: middle;\n",
       "    }\n",
       "\n",
       "    .dataframe tbody tr th {\n",
       "        vertical-align: top;\n",
       "    }\n",
       "\n",
       "    .dataframe thead th {\n",
       "        text-align: right;\n",
       "    }\n",
       "</style>\n",
       "<table border=\"1\" class=\"dataframe\">\n",
       "  <thead>\n",
       "    <tr style=\"text-align: right;\">\n",
       "      <th></th>\n",
       "      <th>city</th>\n",
       "      <th>state_id</th>\n",
       "      <th>lat</th>\n",
       "      <th>lng</th>\n",
       "    </tr>\n",
       "  </thead>\n",
       "  <tbody>\n",
       "    <tr>\n",
       "      <th>0</th>\n",
       "      <td>South Creek</td>\n",
       "      <td>WA</td>\n",
       "      <td>46.9994</td>\n",
       "      <td>-122.3921</td>\n",
       "    </tr>\n",
       "    <tr>\n",
       "      <th>1</th>\n",
       "      <td>Roslyn</td>\n",
       "      <td>WA</td>\n",
       "      <td>47.2507</td>\n",
       "      <td>-121.0989</td>\n",
       "    </tr>\n",
       "    <tr>\n",
       "      <th>2</th>\n",
       "      <td>Sprague</td>\n",
       "      <td>WA</td>\n",
       "      <td>47.3048</td>\n",
       "      <td>-117.9713</td>\n",
       "    </tr>\n",
       "    <tr>\n",
       "      <th>3</th>\n",
       "      <td>Gig Harbor</td>\n",
       "      <td>WA</td>\n",
       "      <td>47.3352</td>\n",
       "      <td>-122.5968</td>\n",
       "    </tr>\n",
       "    <tr>\n",
       "      <th>4</th>\n",
       "      <td>Lake Cassidy</td>\n",
       "      <td>WA</td>\n",
       "      <td>48.0639</td>\n",
       "      <td>-122.0920</td>\n",
       "    </tr>\n",
       "  </tbody>\n",
       "</table>\n",
       "</div>"
      ],
      "text/plain": [
       "           city state_id      lat       lng\n",
       "0   South Creek       WA  46.9994 -122.3921\n",
       "1        Roslyn       WA  47.2507 -121.0989\n",
       "2       Sprague       WA  47.3048 -117.9713\n",
       "3    Gig Harbor       WA  47.3352 -122.5968\n",
       "4  Lake Cassidy       WA  48.0639 -122.0920"
      ]
     },
     "execution_count": 4,
     "metadata": {},
     "output_type": "execute_result"
    }
   ],
   "source": [
    "census_brief.head()"
   ]
  },
  {
   "cell_type": "code",
   "execution_count": null,
   "metadata": {},
   "outputs": [],
   "source": []
  },
  {
   "cell_type": "code",
   "execution_count": 2,
   "metadata": {
    "ExecuteTime": {
     "end_time": "2019-12-12T16:44:27.138797Z",
     "start_time": "2019-12-12T16:44:27.135958Z"
    }
   },
   "outputs": [],
   "source": [
    "search_terms = terms.total_terms"
   ]
  },
  {
   "cell_type": "code",
   "execution_count": 3,
   "metadata": {
    "ExecuteTime": {
     "end_time": "2019-12-12T16:44:27.145844Z",
     "start_time": "2019-12-12T16:44:27.142065Z"
    }
   },
   "outputs": [],
   "source": [
    "def clean(raw):\n",
    "    raw = ' '.join(raw.tolist())\n",
    "    for char in '-.,\\n':\n",
    "        raw = raw.replace(char,' ')\n",
    "    \n",
    "    pattern = \"([a-zA-Z]+(?:'[a-z]+)?)\"\n",
    "    raw = nltk.regexp_tokenize(raw, pattern)\n",
    "    return raw\n",
    "\n",
    "\n",
    "def word_count(string):\n",
    "    freq = defaultdict(int)\n",
    "    List1 = [x.lower() for x in search_terms]\n",
    "    List2 = [x.lower() for x in string]\n",
    "\n",
    "    for item in List1:\n",
    "        if item in List2:\n",
    "            freq[item] = List2.count(item)\n",
    "        else:\n",
    "            freq[item] = 0 \n",
    "    return freq"
   ]
  },
  {
   "cell_type": "code",
   "execution_count": 4,
   "metadata": {
    "ExecuteTime": {
     "end_time": "2019-12-12T16:44:30.758683Z",
     "start_time": "2019-12-12T16:44:30.756048Z"
    }
   },
   "outputs": [],
   "source": [
    "option = 'Software Engineer'"
   ]
  },
  {
   "cell_type": "code",
   "execution_count": 5,
   "metadata": {
    "ExecuteTime": {
     "end_time": "2019-12-12T16:44:31.486200Z",
     "start_time": "2019-12-12T16:44:31.474549Z"
    }
   },
   "outputs": [
    {
     "data": {
      "text/plain": [
       "str"
      ]
     },
     "execution_count": 5,
     "metadata": {},
     "output_type": "execute_result"
    }
   ],
   "source": [
    "type(option)"
   ]
  },
  {
   "cell_type": "code",
   "execution_count": 6,
   "metadata": {
    "ExecuteTime": {
     "end_time": "2019-12-12T16:44:32.374662Z",
     "start_time": "2019-12-12T16:44:32.317176Z"
    }
   },
   "outputs": [],
   "source": [
    "dtotal = pd.read_csv('total_data.csv')\n",
    "dtitle = dtotal[dtotal['title'].astype(str).str.contains(option)]"
   ]
  },
  {
   "cell_type": "code",
   "execution_count": 7,
   "metadata": {
    "ExecuteTime": {
     "end_time": "2019-12-12T16:44:33.498344Z",
     "start_time": "2019-12-12T16:44:33.490855Z"
    }
   },
   "outputs": [
    {
     "data": {
      "text/plain": [
       "684     [      What Software Engineering contributes t...\n",
       "742     [      What Software Engineering contributes t...\n",
       "768     [      What Software Engineering contributes t...\n",
       "807     [   Triplebyte is working with a company that ...\n",
       "826     [      What Software Engineering contributes t...\n",
       "                              ...                        \n",
       "2381    [   We're eager to meet all types of engineers...\n",
       "2490    [   Triplebyte is working with a company that ...\n",
       "2555    [   Triplebyte is working with a company that ...\n",
       "2589    [   Triplebyte is working with a company that ...\n",
       "2621    [   Triplebyte is working with a company that ...\n",
       "Name: description, Length: 888, dtype: object"
      ]
     },
     "execution_count": 7,
     "metadata": {},
     "output_type": "execute_result"
    }
   ],
   "source": [
    "dtitle['description']"
   ]
  },
  {
   "cell_type": "code",
   "execution_count": 8,
   "metadata": {
    "ExecuteTime": {
     "end_time": "2019-12-12T16:44:37.165288Z",
     "start_time": "2019-12-12T16:44:34.455630Z"
    },
    "scrolled": true
   },
   "outputs": [],
   "source": [
    "dtotal = dtotal['description']\n",
    "dtotal = clean(dtotal)\n",
    "dtotal = word_count(dtotal)\n",
    "\n",
    "ctotal = Counter(dtotal)\n",
    "total = sum(ctotal.values())\n",
    "Ctotaldict = [(i, ctotal[i] / total * 100.0) for i in ctotal]\n",
    "\n",
    "total_result = pd.DataFrame(Ctotaldict, columns=['Tech','Percentage'])\n",
    "\n",
    "total_results = total_result.nlargest(10, 'Percentage') \n",
    "# total_result_chart = total_result.sort_values('Percentage', ascending=False)\n",
    "total_result_chart = total_results.set_index('Tech',drop=True)"
   ]
  },
  {
   "cell_type": "code",
   "execution_count": 13,
   "metadata": {
    "ExecuteTime": {
     "end_time": "2019-12-12T16:46:07.060862Z",
     "start_time": "2019-12-12T16:46:07.056388Z"
    }
   },
   "outputs": [
    {
     "data": {
      "text/plain": [
       "131"
      ]
     },
     "execution_count": 13,
     "metadata": {},
     "output_type": "execute_result"
    }
   ],
   "source": [
    "len(total_result)"
   ]
  },
  {
   "cell_type": "code",
   "execution_count": null,
   "metadata": {},
   "outputs": [],
   "source": [
    "df_new = df[['LanguageDesireNextYear',\n",
    "       'DatabaseDesireNextYear', \n",
    "       'PlatformDesireNextYear', \n",
    "       'WebFrameDesireNextYear', \n",
    "       'MiscTechDesireNextYear', 'DevEnviron', 'OpSys', 'Containers']]"
   ]
  },
  {
   "cell_type": "code",
   "execution_count": null,
   "metadata": {
    "scrolled": false
   },
   "outputs": [],
   "source": [
    "df_new.head()"
   ]
  },
  {
   "cell_type": "code",
   "execution_count": null,
   "metadata": {},
   "outputs": [],
   "source": [
    "d1 = df_new['LanguageDesireNextYear']\n",
    "d2 = df_new['DatabaseDesireNextYear'] \n",
    "d3 = df_new['PlatformDesireNextYear'] \n",
    "d4 = df_new['WebFrameDesireNextYear'] \n",
    "d5 = df_new['MiscTechDesireNextYear'] \n",
    "d6 = df_new['DevEnviron']\n",
    "d7 = df_new['OpSys']\n",
    "d8 = df_new['Containers']"
   ]
  },
  {
   "cell_type": "code",
   "execution_count": null,
   "metadata": {
    "scrolled": true
   },
   "outputs": [],
   "source": [
    "d6.unique()"
   ]
  },
  {
   "cell_type": "code",
   "execution_count": null,
   "metadata": {},
   "outputs": [],
   "source": [
    "d1 = d1.unique()\n",
    "d2 = d2.unique()\n",
    "d3 = d3.unique()\n",
    "d4 = d4.unique()\n",
    "d5 = d5.unique()\n",
    "d6 = d6.unique()\n",
    "d7 = d7.unique()"
   ]
  },
  {
   "cell_type": "code",
   "execution_count": null,
   "metadata": {},
   "outputs": [],
   "source": [
    "d1 = str(d1)\n",
    "d2 = str(d2)\n",
    "d3 = str(d3)\n",
    "d4 = str(d4)\n",
    "d5 = str(d5)\n",
    "d6 = str(d6)\n",
    "d7 = str(d7)"
   ]
  },
  {
   "cell_type": "code",
   "execution_count": null,
   "metadata": {},
   "outputs": [],
   "source": [
    "def clean(raw):\n",
    "    for char in '-.,\\n':\n",
    "        raw = raw.replace(char,' ')\n",
    "    \n",
    "    pattern = \"([a-zA-Z]+(?:'[a-z]+)?)\"\n",
    "    raw = nltk.regexp_tokenize(raw, pattern)\n",
    "    return raw"
   ]
  },
  {
   "cell_type": "code",
   "execution_count": null,
   "metadata": {},
   "outputs": [],
   "source": [
    "d1 = clean(d1)\n",
    "d2 = clean(d2)\n",
    "d3 = clean(d3)\n",
    "d4 = clean(d4)\n",
    "d5 = clean(d5)\n",
    "d6 = clean(d6)\n",
    "d7 = clean(d7)\n"
   ]
  },
  {
   "cell_type": "code",
   "execution_count": null,
   "metadata": {},
   "outputs": [],
   "source": [
    "dtest = d1+d2+d3+d4+d5+d6+d7"
   ]
  },
  {
   "cell_type": "code",
   "execution_count": null,
   "metadata": {},
   "outputs": [],
   "source": [
    "terms = set(dtest)"
   ]
  },
  {
   "cell_type": "code",
   "execution_count": null,
   "metadata": {},
   "outputs": [],
   "source": [
    "terms = str(terms)"
   ]
  },
  {
   "cell_type": "code",
   "execution_count": null,
   "metadata": {
    "scrolled": true
   },
   "outputs": [],
   "source": [
    "terms"
   ]
  },
  {
   "cell_type": "code",
   "execution_count": null,
   "metadata": {},
   "outputs": [],
   "source": [
    "total_terms = [\n",
    "    \"Python\",\n",
    "    \"SQL\",\n",
    "    \"R\",\n",
    "    \"Spark\",\n",
    "    \"Hadoop\",\n",
    "    \"Java\",\n",
    "    \"Tableau\",\n",
    "    \"AWS\",\n",
    "    \"SAS\",\n",
    "    \"Hive\",\n",
    "    \"Scala\",\n",
    "    \"Excel\",\n",
    "    \"TensorFlow\",\n",
    "    \"C++\",\n",
    "    \"Azure\",\n",
    "    \"NoSQL\",\n",
    "    \"Linux\",\n",
    "    \"C\",\n",
    "    \"Matlab\",\n",
    "    \"Scikit-learn\",\n",
    "    \"sklearn\",\n",
    "    \"XGBoost\",\n",
    "    \"NLP\",\n",
    "    \"Pandas\",\n",
    "    \"Git\",\n",
    "    \"Keras\",\n",
    "    \"Javascript\",\n",
    "    \"Pig\",\n",
    "    \"Hbase\",\n",
    "    \"Google Cloud\",\n",
    "    \"Docker\",\n",
    "    \"NumPy\",\n",
    "    \"PyTorch\",\n",
    "    \"C#\",\n",
    "    \"SPSS\",\n",
    "    \"MySQL\",\n",
    "    \"Perl\",\n",
    "    \"Cassandra\",\n",
    "    \"MongoDB\",\n",
    "    \"GCP\",\n",
    "    \"Kubernetes\",\n",
    "    \"D3\",\n",
    "    \"Databricks\",\n",
    "    \"postgresql\",\n",
    "    \"mapreduce\",\n",
    "    \"Caffe\",\n",
    "    \"Airflow\",\n",
    "    \"Alteryx\",\n",
    "    \"BigQuery\",\n",
    "    \"Fastai\",\n",
    "    \"WordPress\", \"Excel\", \"Photoshop\", \"Illustrator\", \"InDesign\", \"Acrobat\", \"Netsuite\", \"Salesforce\", \"SAP\", \"PowerPoint\", \"C#\", \"C++\", \"XML\", \"Perl\", \"PHP\", \"AJAX\", \"ASP.NET\", \"Project Management\", \"PMP\", \"Agile\", \"Scrum\", \"TextMate\", \"IBM\", \"Ansible\", \"Couchbase\", \"Arduino\", \"TensorFlow\", \"PyTorch\", \"BSD\", \"Watson\", \"NetBeans\", \"Cassandra\", \"Studio\", \"Xcode\", \"JavaScript\", \"Cloud\", \"React\", \"Jupyter\", \"MariaDB\", \"ASP\", \"Ruby\", \"Unity\", \"Xamarin\", \"Puppet\", \"Microsoft\", \"iOS\", \"Docker\", \"Rails\", \"Visual Studio\", \"Komodo\", \"SQLite\", \"IPython\", \"Sublime\", \"Pandas\", \"RubyMine\", \"Shell\", \"MacOS\", \"DynamoDB\", \"Android\", \"Spark\", \"AWS\", \"Windows\", \"Bash\", \"Torch\", \"PostgreSQL\", \"Oracle\", \"Spring\", \"PyCharm\", \"Raspberry\", \"Chef\", \"Laravel\", \"WebAssembly\", \"PHPStorm\", \"Flask\", \"Linux\", \"Platform\", \"Java\", \"Azure\", \"jQuery\", \"PowerShell\", \"Zend\", \"CSS\", \"Pi\", \"NET\", \"Hadoop\", \"HTML\", \"C\", \"Elixir\", \"Apache\", \"SQL\", \"MongoDB\", \"Python\", \"Vue\", \"Unreal Engine\", \"MySQL\", \"Drupal\", \"Objective C\", \"Django\", \"WordPress\", \"CryEngine\", \"IntelliJ\", \"Firebase\", \"Node\", \"Atom\", \"Swift\", \"Notepad\", \"Angular\"]"
   ]
  },
  {
   "cell_type": "code",
   "execution_count": null,
   "metadata": {},
   "outputs": [],
   "source": [
    "totals = set(total_terms)"
   ]
  },
  {
   "cell_type": "code",
   "execution_count": null,
   "metadata": {},
   "outputs": [],
   "source": [
    "totals"
   ]
  },
  {
   "cell_type": "code",
   "execution_count": null,
   "metadata": {},
   "outputs": [],
   "source": [
    "def clean(raw):\n",
    "    raw = ' '.join(raw.tolist())\n",
    "    for char in '-.,\\n':\n",
    "        raw = raw.replace(char,' ')\n",
    "    \n",
    "    pattern = \"([a-zA-Z]+(?:'[a-z]+)?)\"\n",
    "    raw = nltk.regexp_tokenize(raw, pattern)\n",
    "    return raw\n",
    "\n",
    "\n",
    "def word_count(string):\n",
    "    freq = defaultdict(int)\n",
    "    List1 = [x.lower() for x in search_terms]\n",
    "    List2 = [x.lower() for x in string]\n",
    "\n",
    "    for item in List1:\n",
    "        if item in List2:\n",
    "            freq[item] = List2.count(item)\n",
    "        else:\n",
    "            freq[item] = 0 \n",
    "    return freq"
   ]
  },
  {
   "cell_type": "code",
   "execution_count": null,
   "metadata": {},
   "outputs": [],
   "source": [
    "data_li = hist_li['description']\n",
    "data_li = clean(data_li)\n",
    "test = word_count(data_li)\n",
    "\n",
    "data_ind = hist_ind['description']\n",
    "data_ind = clean(data_ind)\n",
    "test2 = word_count(data_ind)\n",
    "\n",
    "c = Counter(test) + Counter(test2) \n",
    "total = sum(c.values())\n",
    "Cdict = [(i, c[i] / total * 100.0) for i in c]\n",
    "\n",
    "result = pd.DataFrame(Cdict, columns=['Tech','Percentage'])\n",
    "\n",
    "result_chart = result.set_index('Tech',drop=True)"
   ]
  },
  {
   "cell_type": "code",
   "execution_count": null,
   "metadata": {},
   "outputs": [],
   "source": [
    "# result_chart.to_csv('/users/dmauger/Flatiron/FinalProject/' + 'historic_data.csv', encoding='utf-8', index=True)"
   ]
  },
  {
   "cell_type": "code",
   "execution_count": null,
   "metadata": {},
   "outputs": [],
   "source": [
    "# df = pd.read_csv('historic_data.csv', index_col='Tech')\n",
    "# df.head()"
   ]
  },
  {
   "cell_type": "code",
   "execution_count": null,
   "metadata": {},
   "outputs": [],
   "source": []
  },
  {
   "cell_type": "code",
   "execution_count": null,
   "metadata": {
    "scrolled": true
   },
   "outputs": [],
   "source": [
    "# import os\n",
    "# import logging\n",
    "# import pandas\n",
    "# from datetime import datetime \n",
    "# from google.cloud import storage\n",
    "# from google_pandas_load import Loader, LoaderQuickSetup\n",
    "# from google_pandas_load import LoadConfig\n",
    "# import pandas as pd"
   ]
  },
  {
   "cell_type": "code",
   "execution_count": null,
   "metadata": {},
   "outputs": [],
   "source": [
    "# os.environ[\"GOOGLE_APPLICATION_CREDENTIALS\"] = \"/users/dmauger/Flatiron/FinalProject/WebScraping-676f89d97ac9.json\""
   ]
  },
  {
   "cell_type": "code",
   "execution_count": null,
   "metadata": {},
   "outputs": [],
   "source": [
    "# project_id = 'webscraping-261119'\n",
    "# dataset_id = 'webscraping-261119:Web_Scraping'\n",
    "# bucket_name = 'web_scrape_data'\n",
    "# # gs_dir_path is the path in\n",
    "# # the bucket of the directory that\n",
    "# # will contain the data in Storage.\n",
    "# gs_dir_path = None\n",
    "# local_dir_path = '/users/dmauger/Flatiron/FinalProject/'\n"
   ]
  },
  {
   "cell_type": "code",
   "execution_count": null,
   "metadata": {},
   "outputs": [],
   "source": [
    "# if not os.path.isdir(local_dir_path):\n",
    "#     os.makedirs(local_dir_path)"
   ]
  },
  {
   "cell_type": "code",
   "execution_count": null,
   "metadata": {},
   "outputs": [],
   "source": [
    "# gpl = LoaderQuickSetup(\n",
    "#     project_id=project_id,\n",
    "#     dataset_id=dataset_id,\n",
    "#     bucket_name=bucket_name,\n",
    "#     gs_dir_path=gs_dir_path,\n",
    "#     credentials=None,\n",
    "#     local_dir_path=local_dir_path)"
   ]
  },
  {
   "cell_type": "code",
   "execution_count": null,
   "metadata": {},
   "outputs": [],
   "source": [
    "# Final Project\n"
   ]
  },
  {
   "cell_type": "code",
   "execution_count": null,
   "metadata": {},
   "outputs": [],
   "source": [
    "ind_cities = Cities.ind_cities\n",
    "li_cities = Cities.li_cities\n",
    "search_terms = terms.total_terms\n",
    "\n",
    "def clean(raw):\n",
    "    raw = ' '.join(raw.tolist())\n",
    "    for char in '-.,\\n':\n",
    "        raw = raw.replace(char,' ')\n",
    "    \n",
    "    pattern = \"([a-zA-Z]+(?:'[a-z]+)?)\"\n",
    "    raw = nltk.regexp_tokenize(raw, pattern)\n",
    "    return raw\n",
    "\n",
    "\n",
    "def word_count(string):\n",
    "    freq = defaultdict(int)\n",
    "    List1 = [x.lower() for x in search_terms]\n",
    "    List2 = [x.lower() for x in string]\n",
    "\n",
    "    for item in List1:\n",
    "        if item in List2:\n",
    "            freq[item] = List2.count(item)\n",
    "        else:\n",
    "            freq[item] = 0 \n",
    "    return freq"
   ]
  },
  {
   "cell_type": "code",
   "execution_count": null,
   "metadata": {},
   "outputs": [],
   "source": [
    "https://www.linkedin.com/jobs/search?keywords=Data%20Scientist&location=Georgia%2C%20&trk=guest_job_search_jobs-search-bar_search-submit&redirect=false&position=1&pageNum=0&f_TP=1%2C2\"\n",
    "    "
   ]
  },
  {
   "cell_type": "code",
   "execution_count": null,
   "metadata": {},
   "outputs": [],
   "source": [
    "ind_url = []\n",
    "li_url = []\n",
    "for i in ind_cities:\n",
    "    ind = \"https://www.indeed.com/jobs?q=title%3A(%22data+scientist%22+OR+%22data+science%22+OR+%22data+analyst%22)&l=\"+i+\"&radius=50&sort=date\" \n",
    "    ind_url.append(ind)       \n",
    "\n",
    "for i in li_cities:\n",
    "    li = \"https://www.linkedin.com/jobs/search?keywords=Data%20Scientist&location=\"+i+\"&trk=guest_job_search_jobs-search-bar_search-submit&redirect=false&position=1&pageNum=0&f_TP=1%2C2\"\n",
    "    li_url.append(li)\n",
    "\n",
    "\n",
    "for x in ind_url:\n",
    "    indeed = WebScrape_Indeed.extract_title(x)\n",
    "    \n",
    "\n",
    "for x in li_url:\n",
    "    linkedin = WebScrape_Indeed.extract_title(x)\n",
    "\n",
    "     \n",
    "\n",
    "data_li = linkedin['description']\n",
    "data_li = clean(data_li)\n",
    "test = word_count(data_li)\n",
    "\n",
    "data_ind = indeed['description']\n",
    "data_ind = clean(data_ind)\n",
    "test2 = word_count(data_ind)"
   ]
  },
  {
   "cell_type": "code",
   "execution_count": null,
   "metadata": {
    "scrolled": true
   },
   "outputs": [],
   "source": [
    "c = Counter(test) + Counter(test2) \n",
    "total = sum(c.values())\n",
    "Cdict = [(i, c[i] / total * 100.0) for i in c]\n",
    "\n",
    "result = pd.DataFrame(Cdict, columns=['Tech','Percentage'])\n",
    "\n",
    "result_chart = result.set_index('Tech',drop=True)\n",
    "result_chart"
   ]
  },
  {
   "cell_type": "code",
   "execution_count": null,
   "metadata": {},
   "outputs": [],
   "source": []
  }
 ],
 "metadata": {
  "kernelspec": {
   "display_name": "Python [conda env:learn-env] *",
   "language": "python",
   "name": "conda-env-learn-env-py"
  },
  "language_info": {
   "codemirror_mode": {
    "name": "ipython",
    "version": 3
   },
   "file_extension": ".py",
   "mimetype": "text/x-python",
   "name": "python",
   "nbconvert_exporter": "python",
   "pygments_lexer": "ipython3",
   "version": "3.6.6"
  }
 },
 "nbformat": 4,
 "nbformat_minor": 2
}
