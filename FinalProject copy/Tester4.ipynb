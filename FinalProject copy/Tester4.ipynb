{
 "cells": [
  {
   "cell_type": "code",
   "execution_count": 1,
   "metadata": {
    "ExecuteTime": {
     "end_time": "2019-12-15T15:24:38.247351Z",
     "start_time": "2019-12-15T15:24:36.823963Z"
    }
   },
   "outputs": [],
   "source": [
    "import nltk\n",
    "from nltk.corpus import stopwords\n",
    "import string\n",
    "from nltk import word_tokenize, FreqDist\n",
    "from sklearn.feature_extraction.text import TfidfVectorizer\n",
    "import matplotlib.pyplot as plt\n",
    "\n",
    "import pandas as pd \n",
    "import numpy as np\n",
    "from bs4 import BeautifulSoup\n",
    "import requests\n",
    "import json\n",
    "from time import sleep, time\n",
    "import lxml\n",
    "import re\n",
    "from urllib.parse import urljoin\n",
    "import unicodedata\n",
    "from collections import defaultdict, Counter\n",
    "import WebScrape_Indeed\n",
    "import WebScrape_LinkedIn\n",
    "import streamlit as st \n",
    "import terms \n",
    "import Cities \n",
    "import functions\n",
    "import time\n",
    "\n",
    "\n"
   ]
  },
  {
   "cell_type": "code",
   "execution_count": null,
   "metadata": {},
   "outputs": [],
   "source": [
    "# dtotal = pd.read_csv('total_data.csv')\n",
    "\n",
    "# # dtotal = functions.clean(dtotal)"
   ]
  },
  {
   "cell_type": "code",
   "execution_count": null,
   "metadata": {},
   "outputs": [],
   "source": [
    "# dtotal = dtotal['description']"
   ]
  },
  {
   "cell_type": "code",
   "execution_count": null,
   "metadata": {},
   "outputs": [],
   "source": [
    "# dtotal = str(dtotal)"
   ]
  },
  {
   "cell_type": "code",
   "execution_count": null,
   "metadata": {},
   "outputs": [],
   "source": [
    "# type(dtotal)"
   ]
  },
  {
   "cell_type": "code",
   "execution_count": 2,
   "metadata": {
    "ExecuteTime": {
     "end_time": "2019-12-15T15:24:40.191775Z",
     "start_time": "2019-12-15T15:24:40.179424Z"
    }
   },
   "outputs": [
    {
     "data": {
      "text/plain": [
       "['AJAX',\n",
       " 'ASP',\n",
       " 'ASP.NET',\n",
       " 'AWS',\n",
       " 'Acrobat',\n",
       " 'Airflow',\n",
       " 'Alteryx',\n",
       " 'Android',\n",
       " 'Angular',\n",
       " 'Ansible',\n",
       " 'Apache',\n",
       " 'Arduino',\n",
       " 'Atom',\n",
       " 'Azure',\n",
       " 'BSD',\n",
       " 'Bash',\n",
       " 'BigQuery',\n",
       " 'C#',\n",
       " 'C++',\n",
       " 'CSS',\n",
       " 'Caffe',\n",
       " 'Cassandra',\n",
       " 'Chef',\n",
       " 'Couchbase',\n",
       " 'CryEngine',\n",
       " 'D3',\n",
       " 'Databricks',\n",
       " 'Django',\n",
       " 'Docker',\n",
       " 'Drupal',\n",
       " 'DynamoDB',\n",
       " 'Elixir',\n",
       " 'Excel',\n",
       " 'Fastai',\n",
       " 'Firebase',\n",
       " 'Flask',\n",
       " 'GCP',\n",
       " 'Git',\n",
       " 'Google Cloud',\n",
       " 'HTML',\n",
       " 'Hadoop',\n",
       " 'Hbase',\n",
       " 'Hive',\n",
       " 'IBM',\n",
       " 'IPython',\n",
       " 'Illustrator',\n",
       " 'InDesign',\n",
       " 'IntelliJ',\n",
       " 'Java',\n",
       " 'JavaScript',\n",
       " 'Javascript',\n",
       " 'Jupyter',\n",
       " 'Keras',\n",
       " 'Komodo',\n",
       " 'Kubernetes',\n",
       " 'Laravel',\n",
       " 'Linux',\n",
       " 'MacOS',\n",
       " 'MariaDB',\n",
       " 'Matlab',\n",
       " 'Microsoft',\n",
       " 'MongoDB',\n",
       " 'MySQL',\n",
       " 'NET',\n",
       " 'NLP',\n",
       " 'NetBeans',\n",
       " 'Netsuite',\n",
       " 'NoSQL',\n",
       " 'Node',\n",
       " 'Notepad',\n",
       " 'NumPy',\n",
       " 'Objective C',\n",
       " 'Oracle',\n",
       " 'PHP',\n",
       " 'PHPStorm',\n",
       " 'PMP',\n",
       " 'Pandas',\n",
       " 'Perl',\n",
       " 'Photoshop',\n",
       " 'Pi',\n",
       " 'Pig',\n",
       " 'PostgreSQL',\n",
       " 'PowerPoint',\n",
       " 'PowerShell',\n",
       " 'Project Management',\n",
       " 'Puppet',\n",
       " 'PyCharm',\n",
       " 'PyTorch',\n",
       " 'Python',\n",
       " 'R',\n",
       " 'Rails',\n",
       " 'Raspberry',\n",
       " 'React',\n",
       " 'Ruby',\n",
       " 'RubyMine',\n",
       " 'SAP',\n",
       " 'SAS',\n",
       " 'SPSS',\n",
       " 'SQL',\n",
       " 'SQLite',\n",
       " 'Salesforce',\n",
       " 'Scala',\n",
       " 'Scikit-learn',\n",
       " 'Scrum',\n",
       " 'Shell',\n",
       " 'Spark',\n",
       " 'Spring',\n",
       " 'Sublime',\n",
       " 'Swift',\n",
       " 'Tableau',\n",
       " 'TensorFlow',\n",
       " 'TextMate',\n",
       " 'Torch',\n",
       " 'Unity',\n",
       " 'Unreal Engine',\n",
       " 'Visual Studio',\n",
       " 'Vue',\n",
       " 'Watson',\n",
       " 'WebAssembly',\n",
       " 'Windows',\n",
       " 'WordPress',\n",
       " 'XGBoost',\n",
       " 'XML',\n",
       " 'Xamarin',\n",
       " 'Xcode',\n",
       " 'Zend',\n",
       " 'iOS',\n",
       " 'jQuery',\n",
       " 'mapreduce',\n",
       " 'postgresql',\n",
       " 'sklearn']"
      ]
     },
     "execution_count": 2,
     "metadata": {},
     "output_type": "execute_result"
    }
   ],
   "source": [
    "search_terms = terms.total_terms\n",
    "search_terms"
   ]
  },
  {
   "cell_type": "code",
   "execution_count": 23,
   "metadata": {
    "ExecuteTime": {
     "end_time": "2019-12-15T15:33:36.273673Z",
     "start_time": "2019-12-15T15:33:36.270065Z"
    }
   },
   "outputs": [],
   "source": [
    "test = \"I am just trying to find and match C++ or c++ as well as C# and also c#. Sometimes Java or javascript are important. I hear that python and ruby are starting to overtake them all. I also need to write python and java a few times to test this function. So I'll just write Python again a few ways, like python, Python.\""
   ]
  },
  {
   "cell_type": "code",
   "execution_count": 24,
   "metadata": {
    "ExecuteTime": {
     "end_time": "2019-12-15T15:33:41.122755Z",
     "start_time": "2019-12-15T15:33:41.118322Z"
    }
   },
   "outputs": [
    {
     "data": {
      "text/plain": [
       "str"
      ]
     },
     "execution_count": 24,
     "metadata": {},
     "output_type": "execute_result"
    }
   ],
   "source": [
    "type(test)"
   ]
  },
  {
   "cell_type": "code",
   "execution_count": null,
   "metadata": {},
   "outputs": [],
   "source": [
    "test2 = \"Responsibilities In this role, you should expect to: Assist in design and coding of software product components, units, and modules according to detailed specifications. Participate in analysis and development of test plans. Tests assigned components and units. Provide test results and recommend corrections to senior developers and/or team manager. Determine and document user requirements for task overviews. Create and review task designs. Implement projects according to design. Test development code. Schedule and track time spent on projects and other tasks. Investigate bugs and determine appropriate fixes. Peer review code. Collaborate and provide technical assistance to others. Complete professional development tasks. Provide assistance for documentation. Perform competitive analysis when necessary.Why do you want this job? Because you are:Passionate about building and innovating client facing software. A curious problem solver that enjoys building elegant solutions. Looking to grow your hands-on expertise in many disparate technologies ranging from front-end user interface to back-end systems as well as all points in between. Qualifications Why do we want you? Because you have:A minimum of 60 college credits in the computer science or related field is required. BS in computer science or related field preferred. 4 + years of experience in software development. Practical knowledge of Mac and/or Windows operating systems, and of programming languages such as C and C++ Knowledge of computer graphics and imaging, architecture, user interface, geometric algorithms. Experience using or developing CAD applications. All around development skills in software and systems: C++, command line, build systems, test systems, etc. Ability to identify and resolve security holes in various components written in C++. Background in math.\""
   ]
  },
  {
   "cell_type": "code",
   "execution_count": null,
   "metadata": {},
   "outputs": [],
   "source": [
    "ind = \"https://www.indeed.com/jobs?q=software+engineer&l=United+States\"  "
   ]
  },
  {
   "cell_type": "code",
   "execution_count": null,
   "metadata": {},
   "outputs": [],
   "source": [
    "indeed = WebScrape_Indeed.extract_title(ind) "
   ]
  },
  {
   "cell_type": "code",
   "execution_count": null,
   "metadata": {},
   "outputs": [],
   "source": [
    "indeed"
   ]
  },
  {
   "cell_type": "code",
   "execution_count": 4,
   "metadata": {
    "ExecuteTime": {
     "end_time": "2019-12-15T15:24:54.628689Z",
     "start_time": "2019-12-15T15:24:54.624860Z"
    }
   },
   "outputs": [],
   "source": [
    "def cleanhtml(raw_html):\n",
    "    cleanr = re.compile('<.*?>')\n",
    "    clean = re.sub(cleanr, ' ', str(raw_html))\n",
    "    cleaner = clean.strip()\n",
    "    cleantext = re.sub('\\n', ' ', cleaner)\n",
    "    return cleantext"
   ]
  },
  {
   "cell_type": "code",
   "execution_count": 5,
   "metadata": {
    "ExecuteTime": {
     "end_time": "2019-12-15T15:24:55.017055Z",
     "start_time": "2019-12-15T15:24:55.013889Z"
    }
   },
   "outputs": [],
   "source": [
    "def clean(raw):\n",
    "    raw = ' '.join(raw.tolist())\n",
    "    for char in '-.,\\n':\n",
    "        raw = raw.replace(char,' ')\n",
    "    \n",
    "    pattern = \"([a-zA-Z]+(?:'[a-z]+)?)\"\n",
    "    raw = nltk.regexp_tokenize(raw, pattern)\n",
    "    return raw"
   ]
  },
  {
   "cell_type": "code",
   "execution_count": 6,
   "metadata": {
    "ExecuteTime": {
     "end_time": "2019-12-15T15:24:56.069718Z",
     "start_time": "2019-12-15T15:24:56.066262Z"
    }
   },
   "outputs": [],
   "source": [
    "def C_plus(raw):\n",
    "    Cplus = re.findall(r'(?i)\\bC\\+\\+(?!\\w)', str(raw.split()))\n",
    "    return Cplus\n"
   ]
  },
  {
   "cell_type": "code",
   "execution_count": 7,
   "metadata": {
    "ExecuteTime": {
     "end_time": "2019-12-15T15:24:56.439282Z",
     "start_time": "2019-12-15T15:24:56.436114Z"
    }
   },
   "outputs": [],
   "source": [
    "def C_sharp(raw):\n",
    "    Csharp = re.findall(r'(?i)\\bC\\#(?!\\w)', str(raw))\n",
    "    return Csharp"
   ]
  },
  {
   "cell_type": "code",
   "execution_count": 8,
   "metadata": {
    "ExecuteTime": {
     "end_time": "2019-12-15T15:24:56.851664Z",
     "start_time": "2019-12-15T15:24:56.848514Z"
    }
   },
   "outputs": [],
   "source": [
    "def tokenize(raw):\n",
    "    pattern = \"([a-zA-Z]+(?:'[a-z]+)?)\"\n",
    "    raw = nltk.regexp_tokenize(raw, pattern)\n",
    "    return raw "
   ]
  },
  {
   "cell_type": "code",
   "execution_count": 9,
   "metadata": {
    "ExecuteTime": {
     "end_time": "2019-12-15T15:24:58.206593Z",
     "start_time": "2019-12-15T15:24:58.202422Z"
    }
   },
   "outputs": [],
   "source": [
    "def word_count(string):\n",
    "    freq = defaultdict(int)\n",
    "    List1 = [x.lower() for x in search_terms]\n",
    "    List2 = [x.lower() for x in string]\n",
    "\n",
    "    for item in List1:\n",
    "        if item in List2:\n",
    "            freq[item] = List2.count(item)\n",
    "        else:\n",
    "            freq[item] = 0 \n",
    "    return freq"
   ]
  },
  {
   "cell_type": "code",
   "execution_count": null,
   "metadata": {
    "scrolled": true
   },
   "outputs": [],
   "source": [
    "data_ind = indeed['description']\n",
    "# data_ind = cleanhtml(data_ind)\n",
    "data_indz = str(data_ind)"
   ]
  },
  {
   "cell_type": "code",
   "execution_count": null,
   "metadata": {},
   "outputs": [],
   "source": [
    "type(data_ind)"
   ]
  },
  {
   "cell_type": "code",
   "execution_count": null,
   "metadata": {},
   "outputs": [],
   "source": [
    "data_indz"
   ]
  },
  {
   "cell_type": "code",
   "execution_count": null,
   "metadata": {},
   "outputs": [],
   "source": [
    "data_len2 = len(data_indz)\n",
    "data_len2"
   ]
  },
  {
   "cell_type": "code",
   "execution_count": null,
   "metadata": {},
   "outputs": [],
   "source": [
    "data_ind2 = clean(data_ind)"
   ]
  },
  {
   "cell_type": "code",
   "execution_count": null,
   "metadata": {
    "scrolled": true
   },
   "outputs": [],
   "source": [
    "data_ind2"
   ]
  },
  {
   "cell_type": "code",
   "execution_count": null,
   "metadata": {},
   "outputs": [],
   "source": [
    "data_len2 = len(data_ind2)\n",
    "data_len2"
   ]
  },
  {
   "cell_type": "code",
   "execution_count": null,
   "metadata": {},
   "outputs": [],
   "source": [
    "\n",
    "test2 = functions.word_count(data_ind2)"
   ]
  },
  {
   "cell_type": "code",
   "execution_count": 14,
   "metadata": {
    "ExecuteTime": {
     "end_time": "2019-12-15T15:27:24.874275Z",
     "start_time": "2019-12-15T15:27:24.869305Z"
    }
   },
   "outputs": [
    {
     "data": {
      "text/plain": [
       "\"I am just trying to find and match C++ or c++ as well as C# and also c#. Sometimes Java or javascript are important. I hear that python and ruby are starting to overtake them all. I also need to write python and java a few times to test this function. So I'll just write Python again a few ways, like python, Python.\""
      ]
     },
     "execution_count": 14,
     "metadata": {},
     "output_type": "execute_result"
    }
   ],
   "source": [
    "z = tokenize(test)\n",
    "# z = word_count(test)\n",
    "test"
   ]
  },
  {
   "cell_type": "code",
   "execution_count": 15,
   "metadata": {
    "ExecuteTime": {
     "end_time": "2019-12-15T15:28:03.935821Z",
     "start_time": "2019-12-15T15:28:03.929121Z"
    }
   },
   "outputs": [
    {
     "data": {
      "text/plain": [
       "Counter({'C++': 1, 'c++': 1, 'C#': 1, 'c#': 1})"
      ]
     },
     "execution_count": 15,
     "metadata": {},
     "output_type": "execute_result"
    }
   ],
   "source": [
    "t = C_plus(test)\n",
    "s = C_sharp(test)\n",
    "h = Counter(t) + Counter(s)\n",
    "h"
   ]
  },
  {
   "cell_type": "code",
   "execution_count": 18,
   "metadata": {
    "ExecuteTime": {
     "end_time": "2019-12-15T15:29:24.953235Z",
     "start_time": "2019-12-15T15:29:24.945975Z"
    }
   },
   "outputs": [
    {
     "data": {
      "text/plain": [
       "Counter({'ajax': 0,\n",
       "         'asp': 0,\n",
       "         'asp.net': 0,\n",
       "         'aws': 0,\n",
       "         'acrobat': 0,\n",
       "         'airflow': 0,\n",
       "         'alteryx': 0,\n",
       "         'android': 0,\n",
       "         'angular': 0,\n",
       "         'ansible': 0,\n",
       "         'apache': 0,\n",
       "         'arduino': 0,\n",
       "         'atom': 0,\n",
       "         'azure': 0,\n",
       "         'bsd': 0,\n",
       "         'bash': 0,\n",
       "         'bigquery': 0,\n",
       "         'c#': 0,\n",
       "         'c++': 0,\n",
       "         'css': 0,\n",
       "         'caffe': 0,\n",
       "         'cassandra': 0,\n",
       "         'chef': 0,\n",
       "         'couchbase': 0,\n",
       "         'cryengine': 0,\n",
       "         'd3': 0,\n",
       "         'databricks': 0,\n",
       "         'django': 0,\n",
       "         'docker': 0,\n",
       "         'drupal': 0,\n",
       "         'dynamodb': 0,\n",
       "         'elixir': 0,\n",
       "         'excel': 0,\n",
       "         'fastai': 0,\n",
       "         'firebase': 0,\n",
       "         'flask': 0,\n",
       "         'gcp': 0,\n",
       "         'git': 0,\n",
       "         'google cloud': 0,\n",
       "         'html': 0,\n",
       "         'hadoop': 0,\n",
       "         'hbase': 0,\n",
       "         'hive': 0,\n",
       "         'ibm': 0,\n",
       "         'ipython': 0,\n",
       "         'illustrator': 0,\n",
       "         'indesign': 0,\n",
       "         'intellij': 0,\n",
       "         'java': 2,\n",
       "         'javascript': 1,\n",
       "         'jupyter': 0,\n",
       "         'keras': 0,\n",
       "         'komodo': 0,\n",
       "         'kubernetes': 0,\n",
       "         'laravel': 0,\n",
       "         'linux': 0,\n",
       "         'macos': 0,\n",
       "         'mariadb': 0,\n",
       "         'matlab': 0,\n",
       "         'microsoft': 0,\n",
       "         'mongodb': 0,\n",
       "         'mysql': 0,\n",
       "         'net': 0,\n",
       "         'nlp': 0,\n",
       "         'netbeans': 0,\n",
       "         'netsuite': 0,\n",
       "         'nosql': 0,\n",
       "         'node': 0,\n",
       "         'notepad': 0,\n",
       "         'numpy': 0,\n",
       "         'objective c': 0,\n",
       "         'oracle': 0,\n",
       "         'php': 0,\n",
       "         'phpstorm': 0,\n",
       "         'pmp': 0,\n",
       "         'pandas': 0,\n",
       "         'perl': 0,\n",
       "         'photoshop': 0,\n",
       "         'pi': 0,\n",
       "         'pig': 0,\n",
       "         'postgresql': 0,\n",
       "         'powerpoint': 0,\n",
       "         'powershell': 0,\n",
       "         'project management': 0,\n",
       "         'puppet': 0,\n",
       "         'pycharm': 0,\n",
       "         'pytorch': 0,\n",
       "         'python': 5,\n",
       "         'r': 0,\n",
       "         'rails': 0,\n",
       "         'raspberry': 0,\n",
       "         'react': 0,\n",
       "         'ruby': 1,\n",
       "         'rubymine': 0,\n",
       "         'sap': 0,\n",
       "         'sas': 0,\n",
       "         'spss': 0,\n",
       "         'sql': 0,\n",
       "         'sqlite': 0,\n",
       "         'salesforce': 0,\n",
       "         'scala': 0,\n",
       "         'scikit-learn': 0,\n",
       "         'scrum': 0,\n",
       "         'shell': 0,\n",
       "         'spark': 0,\n",
       "         'spring': 0,\n",
       "         'sublime': 0,\n",
       "         'swift': 0,\n",
       "         'tableau': 0,\n",
       "         'tensorflow': 0,\n",
       "         'textmate': 0,\n",
       "         'torch': 0,\n",
       "         'unity': 0,\n",
       "         'unreal engine': 0,\n",
       "         'visual studio': 0,\n",
       "         'vue': 0,\n",
       "         'watson': 0,\n",
       "         'webassembly': 0,\n",
       "         'windows': 0,\n",
       "         'wordpress': 0,\n",
       "         'xgboost': 0,\n",
       "         'xml': 0,\n",
       "         'xamarin': 0,\n",
       "         'xcode': 0,\n",
       "         'zend': 0,\n",
       "         'ios': 0,\n",
       "         'jquery': 0,\n",
       "         'mapreduce': 0,\n",
       "         'sklearn': 0})"
      ]
     },
     "execution_count": 18,
     "metadata": {},
     "output_type": "execute_result"
    }
   ],
   "source": [
    "j = word_count(z)\n",
    "k = Counter(j)\n",
    "k"
   ]
  },
  {
   "cell_type": "code",
   "execution_count": 19,
   "metadata": {
    "ExecuteTime": {
     "end_time": "2019-12-15T15:29:44.082780Z",
     "start_time": "2019-12-15T15:29:44.079709Z"
    }
   },
   "outputs": [],
   "source": [
    "t2 = Counter(t) + Counter(s) + Counter(j)"
   ]
  },
  {
   "cell_type": "code",
   "execution_count": 20,
   "metadata": {
    "ExecuteTime": {
     "end_time": "2019-12-15T15:29:49.564628Z",
     "start_time": "2019-12-15T15:29:49.559654Z"
    }
   },
   "outputs": [
    {
     "data": {
      "text/plain": [
       "Counter({'C++': 1,\n",
       "         'c++': 1,\n",
       "         'C#': 1,\n",
       "         'c#': 1,\n",
       "         'java': 2,\n",
       "         'javascript': 1,\n",
       "         'python': 5,\n",
       "         'ruby': 1})"
      ]
     },
     "execution_count": 20,
     "metadata": {},
     "output_type": "execute_result"
    }
   ],
   "source": [
    "t2"
   ]
  },
  {
   "cell_type": "code",
   "execution_count": 21,
   "metadata": {
    "ExecuteTime": {
     "end_time": "2019-12-15T15:30:21.065496Z",
     "start_time": "2019-12-15T15:30:21.062116Z"
    }
   },
   "outputs": [],
   "source": [
    "c = t2\n",
    "total = sum(c.values())\n",
    "Cdict = [(i, c[i] / total * 100.0) for i in c]"
   ]
  },
  {
   "cell_type": "code",
   "execution_count": 22,
   "metadata": {
    "ExecuteTime": {
     "end_time": "2019-12-15T15:30:27.283063Z",
     "start_time": "2019-12-15T15:30:27.278041Z"
    }
   },
   "outputs": [
    {
     "data": {
      "text/plain": [
       "[('C++', 7.6923076923076925),\n",
       " ('c++', 7.6923076923076925),\n",
       " ('C#', 7.6923076923076925),\n",
       " ('c#', 7.6923076923076925),\n",
       " ('java', 15.384615384615385),\n",
       " ('javascript', 7.6923076923076925),\n",
       " ('python', 38.46153846153847),\n",
       " ('ruby', 7.6923076923076925)]"
      ]
     },
     "execution_count": 22,
     "metadata": {},
     "output_type": "execute_result"
    }
   ],
   "source": [
    "Cdict"
   ]
  },
  {
   "cell_type": "code",
   "execution_count": null,
   "metadata": {},
   "outputs": [],
   "source": [
    "\n",
    "\n",
    "test2a = C_sharp(data_ind2)\n",
    "test2b = C_plus(data_ind2)"
   ]
  },
  {
   "cell_type": "code",
   "execution_count": null,
   "metadata": {},
   "outputs": [],
   "source": [
    "test2a"
   ]
  },
  {
   "cell_type": "code",
   "execution_count": null,
   "metadata": {},
   "outputs": [],
   "source": [
    "a = Counter(test2) \n",
    "b = Counter(test2a) \n",
    "d = Counter(test2b)"
   ]
  },
  {
   "cell_type": "code",
   "execution_count": null,
   "metadata": {},
   "outputs": [],
   "source": [
    "type(a)"
   ]
  },
  {
   "cell_type": "code",
   "execution_count": null,
   "metadata": {},
   "outputs": [],
   "source": [
    "c = Counter(test2) + Counter(test2a) + Counter(test2b)\n",
    "total = sum(c.values())\n",
    "Cdict = [(i, c[i] / total * 100.0) for i in c]"
   ]
  },
  {
   "cell_type": "code",
   "execution_count": null,
   "metadata": {},
   "outputs": [],
   "source": [
    "Cdict"
   ]
  },
  {
   "cell_type": "code",
   "execution_count": null,
   "metadata": {},
   "outputs": [],
   "source": []
  },
  {
   "cell_type": "code",
   "execution_count": null,
   "metadata": {},
   "outputs": [],
   "source": [
    "text = str(dtotal)\n",
    "Cplus = re.findall(r'(?i)\\bC\\+\\+(?!\\w)', text)\n",
    "Csharp = re.findall(r'(?i)\\bC\\#(?!\\w)', text)"
   ]
  },
  {
   "cell_type": "code",
   "execution_count": null,
   "metadata": {},
   "outputs": [],
   "source": [
    "def word_count(string):\n",
    "    freq = defaultdict(int)\n",
    "    List1 = [x.lower() for x in search_terms]\n",
    "    List2 = [x.lower() for x in string]\n",
    "\n",
    "    Cplus = re.findall(r'(?i)\\bC\\+\\+(?!\\w)', List2)\n",
    "    Csharp = re.findall(r'(?i)\\bC\\#(?!\\w)', List2)\n",
    "\n",
    "    for item in List1:\n",
    "        if item in List2:\n",
    "            freq[item] = List2.count(item)\n",
    "        \n",
    "        \n",
    "        else:\n",
    "            freq[item] = 0 \n",
    "    return freq"
   ]
  },
  {
   "cell_type": "code",
   "execution_count": null,
   "metadata": {},
   "outputs": [],
   "source": [
    "Cplus"
   ]
  },
  {
   "cell_type": "code",
   "execution_count": null,
   "metadata": {},
   "outputs": [],
   "source": [
    "def C_plus(raw):\n",
    "    plus = []\n",
    "    raw = str(raw)\n",
    "    plus = [i for i in raw.split() if i.endswith(\"+\")]\n",
    "    return plus"
   ]
  },
  {
   "cell_type": "code",
   "execution_count": null,
   "metadata": {},
   "outputs": [],
   "source": [
    "def C_sharp(raw):\n",
    "    sharp = []\n",
    "    raw = str(raw)\n",
    "    sharp = [i for i in raw.split() if i.endswith(\"#\")]\n",
    "    return sharp"
   ]
  },
  {
   "cell_type": "code",
   "execution_count": null,
   "metadata": {},
   "outputs": [],
   "source": [
    "C_sharp(test2)"
   ]
  },
  {
   "cell_type": "code",
   "execution_count": null,
   "metadata": {},
   "outputs": [],
   "source": [
    "def C_sharp(raw):\n",
    "    Csharp = []\n",
    "    raw = str(raw)\n",
    "    raw = raw.split()\n",
    "    Csharp = re.findall(r'(?i)\\bC\\#(?!\\w)', text)\n",
    "    return Csharp"
   ]
  },
  {
   "cell_type": "code",
   "execution_count": null,
   "metadata": {},
   "outputs": [],
   "source": [
    "def C_plus(raw):\n",
    "    Cplus = []\n",
    "    raw = str(raw)\n",
    "    raw = raw.split()\n",
    "    Csharp = re.findall(r'(?i)\\bC\\#(?!\\w)', text)\n",
    "    return Cplus"
   ]
  },
  {
   "cell_type": "code",
   "execution_count": null,
   "metadata": {},
   "outputs": [],
   "source": [
    "C_sharp(test)"
   ]
  },
  {
   "cell_type": "code",
   "execution_count": null,
   "metadata": {},
   "outputs": [],
   "source": [
    "test = \"I am just trying to find and match C++ or c++ as well as C# and also c#.\""
   ]
  },
  {
   "cell_type": "code",
   "execution_count": null,
   "metadata": {},
   "outputs": [],
   "source": [
    "text = str(dtotal)\n",
    "Cplus = re.findall(r'(?i)\\bC\\+\\+(?!\\w)', text)\n",
    "Csharp = re.findall(r'(?i)\\bc\\+\\+(?!\\w)', text)\n",
    "# test = re.findall(r\"#(\\w+)\", dtotal)"
   ]
  },
  {
   "cell_type": "code",
   "execution_count": null,
   "metadata": {},
   "outputs": [],
   "source": [
    "Csharp"
   ]
  },
  {
   "cell_type": "code",
   "execution_count": null,
   "metadata": {},
   "outputs": [],
   "source": [
    "text = test\n",
    "Csharp = re.findall(r'(?i)\\bC\\#(?!\\w)', text)"
   ]
  },
  {
   "cell_type": "code",
   "execution_count": null,
   "metadata": {},
   "outputs": [],
   "source": [
    "text = str(dtotal)"
   ]
  },
  {
   "cell_type": "code",
   "execution_count": null,
   "metadata": {},
   "outputs": [],
   "source": [
    "pattern = \"(\\bc\\+\\+(?!\\w))\"\n",
    "raw = nltk.regexp_tokenize(text, pattern)"
   ]
  },
  {
   "cell_type": "code",
   "execution_count": null,
   "metadata": {},
   "outputs": [],
   "source": [
    "raw"
   ]
  },
  {
   "cell_type": "code",
   "execution_count": null,
   "metadata": {},
   "outputs": [],
   "source": [
    "type(text)"
   ]
  },
  {
   "cell_type": "code",
   "execution_count": null,
   "metadata": {},
   "outputs": [],
   "source": [
    "for i in test:\n",
    "    print(i)"
   ]
  },
  {
   "cell_type": "code",
   "execution_count": null,
   "metadata": {},
   "outputs": [],
   "source": [
    "string = dtotal\n",
    "\n",
    "# plus = []\n",
    "# sharp =[]\n",
    "def C_clean(string):\n",
    "    C = {'Csharp': [],'Cplus': []}\n",
    "    for word in string.split():\n",
    "        if word.endswith(\"+\") == True:\n",
    "            C['Csharp'] += 1\n",
    "        elif word.endswith(\"#\") == True:\n",
    "            C['Cplus'] += 1\n",
    "    return C"
   ]
  },
  {
   "cell_type": "code",
   "execution_count": null,
   "metadata": {},
   "outputs": [],
   "source": [
    "C_clean(dtotal)"
   ]
  },
  {
   "cell_type": "code",
   "execution_count": null,
   "metadata": {},
   "outputs": [],
   "source": [
    "type(dtotal)"
   ]
  },
  {
   "cell_type": "code",
   "execution_count": null,
   "metadata": {},
   "outputs": [],
   "source": [
    "\n",
    "dtotal = functions.word_count(dtotal)\n",
    "ctotal = Counter(dtotal)\n",
    "total = sum(ctotal.values())"
   ]
  },
  {
   "cell_type": "code",
   "execution_count": null,
   "metadata": {},
   "outputs": [],
   "source": [
    "Csharp = [i for i in s.split() if i.endswith(\"#\")]\n",
    "Cplus = [i for i in s.split() if i.endswith(\"+\")]"
   ]
  },
  {
   "cell_type": "code",
   "execution_count": null,
   "metadata": {},
   "outputs": [],
   "source": []
  },
  {
   "cell_type": "code",
   "execution_count": null,
   "metadata": {},
   "outputs": [],
   "source": []
  },
  {
   "cell_type": "code",
   "execution_count": null,
   "metadata": {},
   "outputs": [],
   "source": [
    "c = C_plus(dtotal)\n",
    "c2 = C_sharp(dtotal)"
   ]
  },
  {
   "cell_type": "code",
   "execution_count": null,
   "metadata": {},
   "outputs": [],
   "source": [
    "dtotal = str(dtotal)\n",
    "dtotal"
   ]
  },
  {
   "cell_type": "code",
   "execution_count": null,
   "metadata": {},
   "outputs": [],
   "source": []
  },
  {
   "cell_type": "code",
   "execution_count": null,
   "metadata": {},
   "outputs": [],
   "source": [
    "sharp"
   ]
  },
  {
   "cell_type": "code",
   "execution_count": null,
   "metadata": {},
   "outputs": [],
   "source": [
    "def word_count(string):\n",
    "    freq = defaultdict(int)\n",
    "    List1 = [x.lower() for x in search_terms]\n",
    "    List2 = [x.lower() for x in string]\n",
    "\n",
    "    for item in List1:\n",
    "        if item in List2:\n",
    "            freq[item] = List2.count(item)\n",
    "        else:\n",
    "            freq[item] = 0 \n",
    "    return freq"
   ]
  },
  {
   "cell_type": "code",
   "execution_count": null,
   "metadata": {},
   "outputs": [],
   "source": [
    "search_terms = terms.total_terms"
   ]
  },
  {
   "cell_type": "code",
   "execution_count": null,
   "metadata": {},
   "outputs": [],
   "source": [
    "skills = search_terms[10:20]"
   ]
  },
  {
   "cell_type": "code",
   "execution_count": null,
   "metadata": {},
   "outputs": [],
   "source": [
    "linkedin = pd.read_csv('linkedin.csv')\n",
    "indeed = pd.read_csv('indeed.csv')"
   ]
  },
  {
   "cell_type": "code",
   "execution_count": null,
   "metadata": {},
   "outputs": [],
   "source": [
    "data_li = linkedin['description']\n",
    "data_len = len(data_li)\n",
    "data_li = functions.clean(data_li)\n",
    "test = functions.word_count(data_li)\n",
    "\n",
    "data_ind = indeed['description']\n",
    "data_len2 = len(data_ind)\n",
    "data_ind = functions.clean(data_ind)\n",
    "test2 = functions.word_count(data_ind)\n",
    "web_len = data_len + data_len2\n",
    "\n",
    "c = Counter(test) + Counter(test2) \n",
    "total = sum(c.values())\n",
    "Cdict = [(i, c[i] / total * 100.0) for i in c]\n",
    "\n",
    "results = pd.DataFrame(Cdict, columns=['Tech','Percentage'])"
   ]
  },
  {
   "cell_type": "code",
   "execution_count": null,
   "metadata": {},
   "outputs": [],
   "source": [
    "results"
   ]
  },
  {
   "cell_type": "code",
   "execution_count": null,
   "metadata": {},
   "outputs": [],
   "source": [
    "dtotal = pd.read_csv('total_data.csv')"
   ]
  },
  {
   "cell_type": "code",
   "execution_count": null,
   "metadata": {
    "scrolled": true
   },
   "outputs": [],
   "source": [
    "dtotal.head()"
   ]
  },
  {
   "cell_type": "code",
   "execution_count": null,
   "metadata": {},
   "outputs": [],
   "source": [
    "dtotal = dtotal['description']"
   ]
  },
  {
   "cell_type": "code",
   "execution_count": null,
   "metadata": {},
   "outputs": [],
   "source": [
    "dtotal = functions.clean(dtotal)"
   ]
  },
  {
   "cell_type": "code",
   "execution_count": null,
   "metadata": {},
   "outputs": [],
   "source": [
    "dtotal = functions.word_count(dtotal)"
   ]
  },
  {
   "cell_type": "code",
   "execution_count": null,
   "metadata": {},
   "outputs": [],
   "source": [
    "ctotal = Counter(dtotal)"
   ]
  },
  {
   "cell_type": "code",
   "execution_count": null,
   "metadata": {},
   "outputs": [],
   "source": [
    "total = sum(ctotal.values())"
   ]
  },
  {
   "cell_type": "code",
   "execution_count": null,
   "metadata": {},
   "outputs": [],
   "source": [
    "total"
   ]
  },
  {
   "cell_type": "code",
   "execution_count": null,
   "metadata": {},
   "outputs": [],
   "source": [
    "Ctotaldict = [(i, ctotal[i] / total * 100.0) for i in ctotal]"
   ]
  },
  {
   "cell_type": "code",
   "execution_count": null,
   "metadata": {},
   "outputs": [],
   "source": [
    "Ctotaldict"
   ]
  },
  {
   "cell_type": "code",
   "execution_count": null,
   "metadata": {},
   "outputs": [],
   "source": [
    "total_result = pd.DataFrame(Ctotaldict, columns=['Tech','Percentage'])"
   ]
  },
  {
   "cell_type": "code",
   "execution_count": null,
   "metadata": {},
   "outputs": [],
   "source": [
    "total_result = total_result.set_index('Tech', drop=True)"
   ]
  },
  {
   "cell_type": "code",
   "execution_count": null,
   "metadata": {},
   "outputs": [],
   "source": [
    "total_result"
   ]
  },
  {
   "cell_type": "code",
   "execution_count": null,
   "metadata": {},
   "outputs": [],
   "source": [
    "total_col = total_result['Percentage']"
   ]
  },
  {
   "cell_type": "code",
   "execution_count": null,
   "metadata": {},
   "outputs": [],
   "source": [
    "total_col"
   ]
  },
  {
   "cell_type": "code",
   "execution_count": null,
   "metadata": {},
   "outputs": [],
   "source": [
    "results = results.set_index('Tech', drop=True)"
   ]
  },
  {
   "cell_type": "code",
   "execution_count": null,
   "metadata": {
    "scrolled": true
   },
   "outputs": [],
   "source": [
    "merged = results.merge(total_result, left_index=True, right_index=True)"
   ]
  },
  {
   "cell_type": "code",
   "execution_count": null,
   "metadata": {},
   "outputs": [],
   "source": [
    "merged_chart = merged.sort_values('Percentage_x', ascending=False)"
   ]
  },
  {
   "cell_type": "code",
   "execution_count": null,
   "metadata": {},
   "outputs": [],
   "source": [
    "merged_chart.index"
   ]
  },
  {
   "cell_type": "code",
   "execution_count": null,
   "metadata": {},
   "outputs": [],
   "source": [
    "skills"
   ]
  },
  {
   "cell_type": "code",
   "execution_count": null,
   "metadata": {},
   "outputs": [],
   "source": [
    "# skills = st.multiselect('Skill Comparison: ', options=search_terms)\n",
    "# st.write('You selected: ', skills)"
   ]
  },
  {
   "cell_type": "code",
   "execution_count": null,
   "metadata": {},
   "outputs": [],
   "source": [
    "word = 'java'\n",
    "\n",
    "if word in results.index:\n",
    "    print(results.loc[word])"
   ]
  },
  {
   "cell_type": "code",
   "execution_count": null,
   "metadata": {},
   "outputs": [],
   "source": [
    "def compare(word, result):\n",
    "    \n",
    "    test = []\n",
    "    List1 = [x.lower() for x in word]\n",
    "    List2 = [x.lower() for x in result.index]\n",
    "    for x in List1:\n",
    "        if x in result.index: \n",
    "            test.append(result.loc[x])\n",
    "    return test\n",
    "        \n",
    "        "
   ]
  },
  {
   "cell_type": "code",
   "execution_count": null,
   "metadata": {},
   "outputs": [],
   "source": [
    "plz = compare(skills, results)"
   ]
  },
  {
   "cell_type": "code",
   "execution_count": null,
   "metadata": {},
   "outputs": [],
   "source": [
    "plz"
   ]
  },
  {
   "cell_type": "code",
   "execution_count": null,
   "metadata": {},
   "outputs": [],
   "source": [
    "plz1 = compare(skills, results)\n",
    "plz2 = compare(skills, total_result)\n",
    "df_test1 = pd.DataFrame(plz1)\n",
    "df_test2 = pd.DataFrame(plz2)\n",
    "df_test3 = df_test1.subtract(df_test2, fill_value=0)"
   ]
  },
  {
   "cell_type": "code",
   "execution_count": null,
   "metadata": {},
   "outputs": [],
   "source": [
    "test_again = df_test3.reset_index()"
   ]
  },
  {
   "cell_type": "code",
   "execution_count": null,
   "metadata": {},
   "outputs": [],
   "source": [
    "test_again2 = test_again.rename(columns={'index':'Tech'})"
   ]
  },
  {
   "cell_type": "code",
   "execution_count": null,
   "metadata": {},
   "outputs": [],
   "source": [
    "test_again2"
   ]
  },
  {
   "cell_type": "code",
   "execution_count": null,
   "metadata": {
    "scrolled": true
   },
   "outputs": [],
   "source": []
  },
  {
   "cell_type": "code",
   "execution_count": null,
   "metadata": {},
   "outputs": [],
   "source": [
    "df_test3"
   ]
  },
  {
   "cell_type": "code",
   "execution_count": null,
   "metadata": {
    "scrolled": true
   },
   "outputs": [],
   "source": [
    "df_test2"
   ]
  },
  {
   "cell_type": "code",
   "execution_count": null,
   "metadata": {},
   "outputs": [],
   "source": [
    "df_test1"
   ]
  },
  {
   "cell_type": "code",
   "execution_count": null,
   "metadata": {},
   "outputs": [],
   "source": [
    "equal = (str(testy))"
   ]
  },
  {
   "cell_type": "code",
   "execution_count": null,
   "metadata": {},
   "outputs": [],
   "source": [
    "equal2 = (str(testy2))"
   ]
  },
  {
   "cell_type": "code",
   "execution_count": null,
   "metadata": {},
   "outputs": [],
   "source": [
    "equal3 = equal - equal2"
   ]
  },
  {
   "cell_type": "code",
   "execution_count": null,
   "metadata": {},
   "outputs": [],
   "source": [
    "results = pd.DataFrame(Cdict, columns=['Tech','Percentage'])\n",
    "# results = results.Percentage.astype(float)\n",
    "# results = result.sort_values('Percentage', ascending=False)\n",
    "# results= results.nlargest(n=10, columns='Percentage')\n",
    "resulty = results.set_index('Tech',drop=True)\n",
    "result_chart = results.sort_values('Percentage', ascending=False).head(10)\n",
    "# result_chart = results.nlargest(10, 'Percentage')\n",
    "merged = results.merge(total_result, left_index=True, right_index=True)\n",
    "merged_chart = merged.sort_values('Percentage_x', ascending=False).head(10)"
   ]
  },
  {
   "cell_type": "code",
   "execution_count": null,
   "metadata": {},
   "outputs": [],
   "source": [
    "import plotly.graph_objects as go\n",
    "\n",
    "months = ['Jan', 'Feb', 'Mar', 'Apr', 'May', 'Jun',\n",
    "          'Jul', 'Aug', 'Sep', 'Oct', 'Nov', 'Dec']\n",
    "\n",
    "fig = go.Figure()\n",
    "fig.add_trace(go.Bar(\n",
    "    x=months,\n",
    "    y=[20, 14, 25, 16, 18, 22, 19, 15, 12, 16, 14, 17],\n",
    "    name='Primary Product',\n",
    "    marker_color='indianred'\n",
    "))\n",
    "fig.add_trace(go.Bar(\n",
    "    x=months,\n",
    "    y=[19, 14, 22, 14, 16, 19, 15, 14, 10, 12, 12, 16],\n",
    "    name='Secondary Product',\n",
    "    marker_color='lightsalmon'\n",
    "))\n",
    "\n",
    "# Here we modify the tickangle of the xaxis, resulting in rotated labels.\n",
    "fig.update_layout(barmode='group', xaxis_tickangle=-45)\n",
    "fig.show()"
   ]
  },
  {
   "cell_type": "code",
   "execution_count": null,
   "metadata": {},
   "outputs": [],
   "source": []
  }
 ],
 "metadata": {
  "kernelspec": {
   "display_name": "Python [conda env:learn-env] *",
   "language": "python",
   "name": "conda-env-learn-env-py"
  },
  "language_info": {
   "codemirror_mode": {
    "name": "ipython",
    "version": 3
   },
   "file_extension": ".py",
   "mimetype": "text/x-python",
   "name": "python",
   "nbconvert_exporter": "python",
   "pygments_lexer": "ipython3",
   "version": "3.6.6"
  }
 },
 "nbformat": 4,
 "nbformat_minor": 2
}
