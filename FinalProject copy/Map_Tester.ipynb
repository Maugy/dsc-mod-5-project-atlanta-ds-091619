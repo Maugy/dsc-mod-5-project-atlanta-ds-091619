{
 "cells": [
  {
   "cell_type": "code",
   "execution_count": 2,
   "metadata": {
    "ExecuteTime": {
     "end_time": "2019-12-19T18:03:10.052727Z",
     "start_time": "2019-12-19T18:03:07.545489Z"
    }
   },
   "outputs": [
    {
     "name": "stdout",
     "output_type": "stream",
     "text": [
      "Collecting pydeck\n",
      "\u001b[?25l  Downloading https://files.pythonhosted.org/packages/c2/d6/f7b5ed0cde59833077a9c65ce2c08dca06557edd42eda70046441761a8ce/pydeck-0.1.dev5-py2.py3-none-any.whl (66kB)\n",
      "\u001b[K     |████████████████████████████████| 71kB 3.9MB/s eta 0:00:01\n",
      "\u001b[?25hRequirement already satisfied: jinja2>=2.10.1 in /Users/dmauger/anaconda3/envs/learn-env/lib/python3.6/site-packages (from pydeck) (2.10.3)\n",
      "Requirement already satisfied: ipywidgets<8,>=7.0.0 in /Users/dmauger/anaconda3/envs/learn-env/lib/python3.6/site-packages (from pydeck) (7.5.1)\n",
      "Requirement already satisfied: ipykernel>=5.1.2; python_version >= \"3.4\" in /Users/dmauger/anaconda3/envs/learn-env/lib/python3.6/site-packages (from pydeck) (5.1.2)\n",
      "Requirement already satisfied: traitlets>=4.3.2 in /Users/dmauger/anaconda3/envs/learn-env/lib/python3.6/site-packages (from pydeck) (4.3.2)\n",
      "Requirement already satisfied: MarkupSafe>=0.23 in /Users/dmauger/anaconda3/envs/learn-env/lib/python3.6/site-packages (from jinja2>=2.10.1->pydeck) (1.1.1)\n",
      "Requirement already satisfied: ipython>=4.0.0; python_version >= \"3.3\" in /Users/dmauger/anaconda3/envs/learn-env/lib/python3.6/site-packages (from ipywidgets<8,>=7.0.0->pydeck) (6.5.0)\n",
      "Requirement already satisfied: widgetsnbextension~=3.5.0 in /Users/dmauger/anaconda3/envs/learn-env/lib/python3.6/site-packages (from ipywidgets<8,>=7.0.0->pydeck) (3.5.1)\n",
      "Requirement already satisfied: nbformat>=4.2.0 in /Users/dmauger/anaconda3/envs/learn-env/lib/python3.6/site-packages (from ipywidgets<8,>=7.0.0->pydeck) (4.4.0)\n",
      "Requirement already satisfied: tornado>=4.2 in /Users/dmauger/anaconda3/envs/learn-env/lib/python3.6/site-packages (from ipykernel>=5.1.2; python_version >= \"3.4\"->pydeck) (5.1.1)\n",
      "Requirement already satisfied: jupyter-client in /Users/dmauger/anaconda3/envs/learn-env/lib/python3.6/site-packages (from ipykernel>=5.1.2; python_version >= \"3.4\"->pydeck) (5.3.3)\n",
      "Requirement already satisfied: ipython_genutils in /Users/dmauger/anaconda3/envs/learn-env/lib/python3.6/site-packages (from traitlets>=4.3.2->pydeck) (0.2.0)\n",
      "Requirement already satisfied: six in /Users/dmauger/anaconda3/envs/learn-env/lib/python3.6/site-packages (from traitlets>=4.3.2->pydeck) (1.11.0)\n",
      "Requirement already satisfied: decorator in /Users/dmauger/anaconda3/envs/learn-env/lib/python3.6/site-packages (from traitlets>=4.3.2->pydeck) (4.3.0)\n",
      "Requirement already satisfied: backcall in /Users/dmauger/anaconda3/envs/learn-env/lib/python3.6/site-packages (from ipython>=4.0.0; python_version >= \"3.3\"->ipywidgets<8,>=7.0.0->pydeck) (0.1.0)\n",
      "Requirement already satisfied: setuptools>=18.5 in /Users/dmauger/anaconda3/envs/learn-env/lib/python3.6/site-packages (from ipython>=4.0.0; python_version >= \"3.3\"->ipywidgets<8,>=7.0.0->pydeck) (42.0.2)\n",
      "Requirement already satisfied: pygments in /Users/dmauger/anaconda3/envs/learn-env/lib/python3.6/site-packages (from ipython>=4.0.0; python_version >= \"3.3\"->ipywidgets<8,>=7.0.0->pydeck) (2.2.0)\n",
      "Requirement already satisfied: prompt-toolkit<2.0.0,>=1.0.15 in /Users/dmauger/anaconda3/envs/learn-env/lib/python3.6/site-packages (from ipython>=4.0.0; python_version >= \"3.3\"->ipywidgets<8,>=7.0.0->pydeck) (1.0.15)\n",
      "Requirement already satisfied: jedi>=0.10 in /Users/dmauger/anaconda3/envs/learn-env/lib/python3.6/site-packages (from ipython>=4.0.0; python_version >= \"3.3\"->ipywidgets<8,>=7.0.0->pydeck) (0.12.1)\n",
      "Requirement already satisfied: pexpect; sys_platform != \"win32\" in /Users/dmauger/anaconda3/envs/learn-env/lib/python3.6/site-packages (from ipython>=4.0.0; python_version >= \"3.3\"->ipywidgets<8,>=7.0.0->pydeck) (4.6.0)\n",
      "Requirement already satisfied: pickleshare in /Users/dmauger/anaconda3/envs/learn-env/lib/python3.6/site-packages (from ipython>=4.0.0; python_version >= \"3.3\"->ipywidgets<8,>=7.0.0->pydeck) (0.7.4)\n",
      "Requirement already satisfied: appnope; sys_platform == \"darwin\" in /Users/dmauger/anaconda3/envs/learn-env/lib/python3.6/site-packages (from ipython>=4.0.0; python_version >= \"3.3\"->ipywidgets<8,>=7.0.0->pydeck) (0.1.0)\n",
      "Requirement already satisfied: simplegeneric>0.8 in /Users/dmauger/anaconda3/envs/learn-env/lib/python3.6/site-packages (from ipython>=4.0.0; python_version >= \"3.3\"->ipywidgets<8,>=7.0.0->pydeck) (0.8.1)\n",
      "Requirement already satisfied: notebook>=4.4.1 in /Users/dmauger/anaconda3/envs/learn-env/lib/python3.6/site-packages (from widgetsnbextension~=3.5.0->ipywidgets<8,>=7.0.0->pydeck) (6.0.1)\n",
      "Requirement already satisfied: jsonschema!=2.5.0,>=2.4 in /Users/dmauger/anaconda3/envs/learn-env/lib/python3.6/site-packages (from nbformat>=4.2.0->ipywidgets<8,>=7.0.0->pydeck) (2.6.0)\n",
      "Requirement already satisfied: jupyter_core in /Users/dmauger/anaconda3/envs/learn-env/lib/python3.6/site-packages (from nbformat>=4.2.0->ipywidgets<8,>=7.0.0->pydeck) (4.4.0)\n",
      "Requirement already satisfied: python-dateutil>=2.1 in /Users/dmauger/anaconda3/envs/learn-env/lib/python3.6/site-packages (from jupyter-client->ipykernel>=5.1.2; python_version >= \"3.4\"->pydeck) (2.8.0)\n",
      "Requirement already satisfied: pyzmq>=13 in /Users/dmauger/anaconda3/envs/learn-env/lib/python3.6/site-packages (from jupyter-client->ipykernel>=5.1.2; python_version >= \"3.4\"->pydeck) (18.1.0)\n",
      "Requirement already satisfied: wcwidth in /Users/dmauger/anaconda3/envs/learn-env/lib/python3.6/site-packages (from prompt-toolkit<2.0.0,>=1.0.15->ipython>=4.0.0; python_version >= \"3.3\"->ipywidgets<8,>=7.0.0->pydeck) (0.1.7)\n",
      "Requirement already satisfied: parso>=0.3.0 in /Users/dmauger/anaconda3/envs/learn-env/lib/python3.6/site-packages (from jedi>=0.10->ipython>=4.0.0; python_version >= \"3.3\"->ipywidgets<8,>=7.0.0->pydeck) (0.3.1)\n",
      "Requirement already satisfied: ptyprocess>=0.5 in /Users/dmauger/anaconda3/envs/learn-env/lib/python3.6/site-packages (from pexpect; sys_platform != \"win32\"->ipython>=4.0.0; python_version >= \"3.3\"->ipywidgets<8,>=7.0.0->pydeck) (0.6.0)\n",
      "Requirement already satisfied: nbconvert in /Users/dmauger/anaconda3/envs/learn-env/lib/python3.6/site-packages (from notebook>=4.4.1->widgetsnbextension~=3.5.0->ipywidgets<8,>=7.0.0->pydeck) (5.6.0)\n",
      "Requirement already satisfied: terminado>=0.8.1 in /Users/dmauger/anaconda3/envs/learn-env/lib/python3.6/site-packages (from notebook>=4.4.1->widgetsnbextension~=3.5.0->ipywidgets<8,>=7.0.0->pydeck) (0.8.2)\n",
      "Requirement already satisfied: Send2Trash in /Users/dmauger/anaconda3/envs/learn-env/lib/python3.6/site-packages (from notebook>=4.4.1->widgetsnbextension~=3.5.0->ipywidgets<8,>=7.0.0->pydeck) (1.5.0)\n",
      "Requirement already satisfied: prometheus-client in /Users/dmauger/anaconda3/envs/learn-env/lib/python3.6/site-packages (from notebook>=4.4.1->widgetsnbextension~=3.5.0->ipywidgets<8,>=7.0.0->pydeck) (0.7.1)\n",
      "Requirement already satisfied: pandocfilters>=1.4.1 in /Users/dmauger/anaconda3/envs/learn-env/lib/python3.6/site-packages (from nbconvert->notebook>=4.4.1->widgetsnbextension~=3.5.0->ipywidgets<8,>=7.0.0->pydeck) (1.4.2)\n",
      "Requirement already satisfied: bleach in /Users/dmauger/anaconda3/envs/learn-env/lib/python3.6/site-packages (from nbconvert->notebook>=4.4.1->widgetsnbextension~=3.5.0->ipywidgets<8,>=7.0.0->pydeck) (3.1.0)\n",
      "Requirement already satisfied: defusedxml in /Users/dmauger/anaconda3/envs/learn-env/lib/python3.6/site-packages (from nbconvert->notebook>=4.4.1->widgetsnbextension~=3.5.0->ipywidgets<8,>=7.0.0->pydeck) (0.6.0)\n",
      "Requirement already satisfied: testpath in /Users/dmauger/anaconda3/envs/learn-env/lib/python3.6/site-packages (from nbconvert->notebook>=4.4.1->widgetsnbextension~=3.5.0->ipywidgets<8,>=7.0.0->pydeck) (0.4.2)\n",
      "Requirement already satisfied: mistune<2,>=0.8.1 in /Users/dmauger/anaconda3/envs/learn-env/lib/python3.6/site-packages (from nbconvert->notebook>=4.4.1->widgetsnbextension~=3.5.0->ipywidgets<8,>=7.0.0->pydeck) (0.8.4)\n",
      "Requirement already satisfied: entrypoints>=0.2.2 in /Users/dmauger/anaconda3/envs/learn-env/lib/python3.6/site-packages (from nbconvert->notebook>=4.4.1->widgetsnbextension~=3.5.0->ipywidgets<8,>=7.0.0->pydeck) (0.3)\n",
      "Requirement already satisfied: webencodings in /Users/dmauger/anaconda3/envs/learn-env/lib/python3.6/site-packages (from bleach->nbconvert->notebook>=4.4.1->widgetsnbextension~=3.5.0->ipywidgets<8,>=7.0.0->pydeck) (0.5.1)\n",
      "Installing collected packages: pydeck\n"
     ]
    },
    {
     "name": "stdout",
     "output_type": "stream",
     "text": [
      "Successfully installed pydeck-0.1.dev5\r\n"
     ]
    }
   ],
   "source": [
    "!pip install pydeck"
   ]
  },
  {
   "cell_type": "code",
   "execution_count": 18,
   "metadata": {
    "ExecuteTime": {
     "end_time": "2019-12-19T18:37:18.481880Z",
     "start_time": "2019-12-19T18:37:18.451370Z"
    }
   },
   "outputs": [
    {
     "data": {
      "text/html": [
       "        <script type=\"text/javascript\">\n",
       "        window.PlotlyConfig = {MathJaxConfig: 'local'};\n",
       "        if (window.MathJax) {MathJax.Hub.Config({SVG: {font: \"STIX-Web\"}});}\n",
       "        if (typeof require !== 'undefined') {\n",
       "        require.undef(\"plotly\");\n",
       "        requirejs.config({\n",
       "            paths: {\n",
       "                'plotly': ['https://cdn.plot.ly/plotly-latest.min']\n",
       "            }\n",
       "        });\n",
       "        require(['plotly'], function(Plotly) {\n",
       "            window._Plotly = Plotly;\n",
       "        });\n",
       "        }\n",
       "        </script>\n",
       "        "
      ]
     },
     "metadata": {},
     "output_type": "display_data"
    }
   ],
   "source": [
    "import os\n",
    "import logging\n",
    "import pandas\n",
    "from datetime import datetime \n",
    "\n",
    "import nltk\n",
    "from nltk.corpus import stopwords\n",
    "import string\n",
    "from nltk import word_tokenize, FreqDist\n",
    "from sklearn.feature_extraction.text import TfidfVectorizer\n",
    "import matplotlib.pyplot as plt\n",
    "import altair as alt\n",
    "import plotly.graph_objects as go\n",
    "import plotly.figure_factory as ff\n",
    "\n",
    "\n",
    "import pandas as pd \n",
    "import numpy as np\n",
    "from bs4 import BeautifulSoup\n",
    "import requests\n",
    "import json\n",
    "from time import sleep, time\n",
    "import lxml\n",
    "import re\n",
    "from urllib.parse import urljoin\n",
    "import unicodedata\n",
    "from collections import defaultdict, Counter\n",
    "import WebScrape_Indeed\n",
    "import WebScrape_LinkedIn\n",
    "import streamlit as st \n",
    "import terms \n",
    "import Cities \n",
    "import functions\n",
    "import time\n",
    "from google.cloud import bigquery, storage\n",
    "from google_pandas_load import Loader, LoaderQuickSetup\n",
    "from google_pandas_load import LoadConfig\n",
    "\n",
    "import chart_studio.plotly \n",
    "import plotly.graph_objects as go\n",
    "import plotly\n",
    "import pandas as pd\n",
    "\n",
    "import pydeck as pdk\n",
    "from plotly.offline import init_notebook_mode, iplot\n",
    "init_notebook_mode(connected=True)     "
   ]
  },
  {
   "cell_type": "code",
   "execution_count": 5,
   "metadata": {
    "ExecuteTime": {
     "end_time": "2019-12-19T18:05:20.486388Z",
     "start_time": "2019-12-19T18:05:20.357973Z"
    }
   },
   "outputs": [],
   "source": [
    "# st.header(\"Location Distribution: \")\n",
    "option = 'Data Analyst'\n",
    "dtotal = pd.read_csv('total_data_date.csv')\n",
    "dtotal= dtotal[dtotal['title'].astype(str).str.contains(option)]\n",
    "census = pd.read_csv('census_location.csv', index_col='city')\n",
    "dblocation = dtotal['location']\n",
    "dblocation = dblocation.to_list()\n",
    "dbcity = [x.split(',')[0] for x in dblocation if isinstance(x, str)]"
   ]
  },
  {
   "cell_type": "code",
   "execution_count": 19,
   "metadata": {
    "ExecuteTime": {
     "end_time": "2019-12-19T18:37:33.124632Z",
     "start_time": "2019-12-19T18:37:32.953414Z"
    }
   },
   "outputs": [],
   "source": [
    "\n",
    "\n",
    "\n",
    "\n",
    "# @st.cache(show_spinner=True, allow_output_mutation=True, suppress_st_warning=True)\n",
    "def locate(word):\n",
    "    location = []\n",
    "    for x in census.index:\n",
    "        if x in cities:\n",
    "            location.append(census.loc[x])\n",
    "    return location\n",
    "\n",
    "# @st.cache(show_spinner=True, allow_output_mutation=True, suppress_st_warning=True)\n",
    "def dblocate(word):\n",
    "    locationdb = []\n",
    "    for x in census.index:\n",
    "        if x in dbcity:\n",
    "            locationdb.append(census.loc[x])\n",
    "    return locationdb\n",
    "\n",
    "db_city = dblocate(dbcity)\n",
    "db_graph = pd.DataFrame(db_city, columns=['lat','lon'])\n",
    "\n",
    "# location = linkedin['location']\n",
    "# location = location.to_list()\n",
    "# city = [x.split(',')[0] for x in location if isinstance(x, str)]\n",
    "\n",
    "# location2 = indeed['location']\n",
    "# location2 = location2.to_list()\n",
    "# city2 = [x.split(',')[0] for x in location2 if isinstance(x, str)]\n",
    "\n",
    "# cities = city+city2\n",
    "\n",
    "# city_list = locate(cities)\n",
    "# map_graph = pd.DataFrame(city_list, columns=['lat','lon'])\n",
    "\n",
    "# st.deck_gl_chart(viewport={\n",
    "#                 'latitude': db_graph['lat'].median(),\n",
    "#                 'longitude':  db_graph['lon'].median(),\n",
    "#                 'zoom': 2.5},\n",
    "#                  layers=[\n",
    "#                 {'type': 'ScatterplotLayer',\n",
    "#                  'data': db_graph,\n",
    "#                  'radiusScale': 250,\n",
    "#                  'radiusMinPixels': 5,\n",
    "#                  'getFillColor': [55,83,109],\n",
    "#                  'pickable': True}])"
   ]
  },
  {
   "cell_type": "code",
   "execution_count": 20,
   "metadata": {
    "ExecuteTime": {
     "end_time": "2019-12-19T18:37:33.524231Z",
     "start_time": "2019-12-19T18:37:33.516795Z"
    }
   },
   "outputs": [],
   "source": [
    "mapbox_access_token = 'pk.eyJ1IjoiZG1hdWdlciIsImEiOiJjazE4OXhuYmgxZ3d2M21uaXV5eWt6Nm5iIn0.8mXDhVPh7XaS9VSr1Uj7cw'\n",
    "chart_studio.tools.set_credentials_file(username='dmauger', api_key='AikWpcnd27N8lxreryv3')"
   ]
  },
  {
   "cell_type": "code",
   "execution_count": 30,
   "metadata": {
    "ExecuteTime": {
     "end_time": "2019-12-19T18:43:22.232950Z",
     "start_time": "2019-12-19T18:43:22.216446Z"
    },
    "scrolled": true
   },
   "outputs": [
    {
     "data": {
      "text/html": [
       "<div>\n",
       "<style scoped>\n",
       "    .dataframe tbody tr th:only-of-type {\n",
       "        vertical-align: middle;\n",
       "    }\n",
       "\n",
       "    .dataframe tbody tr th {\n",
       "        vertical-align: top;\n",
       "    }\n",
       "\n",
       "    .dataframe thead th {\n",
       "        text-align: right;\n",
       "    }\n",
       "</style>\n",
       "<table border=\"1\" class=\"dataframe\">\n",
       "  <thead>\n",
       "    <tr style=\"text-align: right;\">\n",
       "      <th></th>\n",
       "      <th>lat</th>\n",
       "      <th>lon</th>\n",
       "    </tr>\n",
       "  </thead>\n",
       "  <tbody>\n",
       "    <tr>\n",
       "      <th>Maplewood</th>\n",
       "      <td>47.3715</td>\n",
       "      <td>-122.5689</td>\n",
       "    </tr>\n",
       "    <tr>\n",
       "      <th>Seattle</th>\n",
       "      <td>47.6211</td>\n",
       "      <td>-122.3244</td>\n",
       "    </tr>\n",
       "    <tr>\n",
       "      <th>Everett</th>\n",
       "      <td>47.9524</td>\n",
       "      <td>-122.1670</td>\n",
       "    </tr>\n",
       "    <tr>\n",
       "      <th>Burbank</th>\n",
       "      <td>46.1991</td>\n",
       "      <td>-118.9728</td>\n",
       "    </tr>\n",
       "    <tr>\n",
       "      <th>Bellevue</th>\n",
       "      <td>47.5953</td>\n",
       "      <td>-122.1550</td>\n",
       "    </tr>\n",
       "    <tr>\n",
       "      <th>...</th>\n",
       "      <td>...</td>\n",
       "      <td>...</td>\n",
       "    </tr>\n",
       "    <tr>\n",
       "      <th>Shakopee</th>\n",
       "      <td>44.7744</td>\n",
       "      <td>-93.4764</td>\n",
       "    </tr>\n",
       "    <tr>\n",
       "      <th>Lenexa</th>\n",
       "      <td>38.9609</td>\n",
       "      <td>-94.8018</td>\n",
       "    </tr>\n",
       "    <tr>\n",
       "      <th>Guaynabo</th>\n",
       "      <td>18.3839</td>\n",
       "      <td>-66.1134</td>\n",
       "    </tr>\n",
       "    <tr>\n",
       "      <th>North Charleston</th>\n",
       "      <td>32.9067</td>\n",
       "      <td>-80.0722</td>\n",
       "    </tr>\n",
       "    <tr>\n",
       "      <th>Spartanburg</th>\n",
       "      <td>34.9437</td>\n",
       "      <td>-81.9256</td>\n",
       "    </tr>\n",
       "  </tbody>\n",
       "</table>\n",
       "<p>160 rows × 2 columns</p>\n",
       "</div>"
      ],
      "text/plain": [
       "                      lat       lon\n",
       "Maplewood         47.3715 -122.5689\n",
       "Seattle           47.6211 -122.3244\n",
       "Everett           47.9524 -122.1670\n",
       "Burbank           46.1991 -118.9728\n",
       "Bellevue          47.5953 -122.1550\n",
       "...                   ...       ...\n",
       "Shakopee          44.7744  -93.4764\n",
       "Lenexa            38.9609  -94.8018\n",
       "Guaynabo          18.3839  -66.1134\n",
       "North Charleston  32.9067  -80.0722\n",
       "Spartanburg       34.9437  -81.9256\n",
       "\n",
       "[160 rows x 2 columns]"
      ]
     },
     "execution_count": 30,
     "metadata": {},
     "output_type": "execute_result"
    }
   ],
   "source": [
    "db_graph"
   ]
  },
  {
   "cell_type": "code",
   "execution_count": 54,
   "metadata": {
    "ExecuteTime": {
     "end_time": "2019-12-19T19:50:50.724351Z",
     "start_time": "2019-12-19T19:50:50.705188Z"
    }
   },
   "outputs": [
    {
     "ename": "NameError",
     "evalue": "name 'map_graph' is not defined",
     "output_type": "error",
     "traceback": [
      "\u001b[0;31m---------------------------------------------------------------------------\u001b[0m",
      "\u001b[0;31mNameError\u001b[0m                                 Traceback (most recent call last)",
      "\u001b[0;32m<ipython-input-54-96e3337c0fa5>\u001b[0m in \u001b[0;36m<module>\u001b[0;34m()\u001b[0m\n\u001b[1;32m      1\u001b[0m st.deck_gl_chart(\n\u001b[1;32m      2\u001b[0m             viewport={\n\u001b[0;32m----> 3\u001b[0;31m                 \u001b[0;34m'latitude'\u001b[0m\u001b[0;34m:\u001b[0m \u001b[0mmap_graph\u001b[0m\u001b[0;34m[\u001b[0m\u001b[0;34m'lat'\u001b[0m\u001b[0;34m]\u001b[0m\u001b[0;34m.\u001b[0m\u001b[0mmedian\u001b[0m\u001b[0;34m(\u001b[0m\u001b[0;34m)\u001b[0m\u001b[0;34m,\u001b[0m\u001b[0;34m\u001b[0m\u001b[0m\n\u001b[0m\u001b[1;32m      4\u001b[0m                 \u001b[0;34m'longitude'\u001b[0m\u001b[0;34m:\u001b[0m  \u001b[0mmap_graph\u001b[0m\u001b[0;34m[\u001b[0m\u001b[0;34m'lon'\u001b[0m\u001b[0;34m]\u001b[0m\u001b[0;34m.\u001b[0m\u001b[0mmedian\u001b[0m\u001b[0;34m(\u001b[0m\u001b[0;34m)\u001b[0m\u001b[0;34m,\u001b[0m\u001b[0;34m\u001b[0m\u001b[0m\n\u001b[1;32m      5\u001b[0m                 'zoom': 2.5},\n",
      "\u001b[0;31mNameError\u001b[0m: name 'map_graph' is not defined"
     ]
    }
   ],
   "source": [
    "st.deck_gl_chart(\n",
    "            viewport={\n",
    "                'latitude': map_graph['lat'].median(),\n",
    "                'longitude':  map_graph['lon'].median(),\n",
    "                'zoom': 2.5},\n",
    "            layers=[{\n",
    "                'type': 'ScatterplotLayer',\n",
    "                'data': map_graph,\n",
    "                'radiusScale': 10,\n",
    "                'get_position': [lon, lat],\n",
    "                'radiusMinPixels': 2,\n",
    "                'getFillColor': [180, 0, 200, 140],\n",
    "                'pickable': True,\n",
    "                'auto_highlight': True},\n",
    "                {'type': 'ScatterplotLayer',\n",
    "                'data': db_graph,\n",
    "                'get_position': [lon, lat],\n",
    "                'radiusScale': 10,\n",
    "                'radiusMinPixels': 2,\n",
    "                'getFillColor': [55,83,109, 140],\n",
    "                'pickable': True,\n",
    "                'auto_highlight': True}])\n",
    "    "
   ]
  },
  {
   "cell_type": "code",
   "execution_count": 49,
   "metadata": {
    "ExecuteTime": {
     "end_time": "2019-12-19T18:53:42.359511Z",
     "start_time": "2019-12-19T18:53:42.352065Z"
    }
   },
   "outputs": [],
   "source": [
    "view_state = pdk.ViewState(latitude=db_graph['lat'].median(\n",
    "), longitude=db_graph['lon'].median(), zoom=2.5)\n",
    "db_layer = pdk.Layer('ScatterplotLayer', db_graph, get_position='[lon, lat]', radiusScale=10,\n",
    "                     radiusMinPixels=2, get_fill_color=[55, 83, 109, 140], pickable=True, auto_highlight=True)\n",
    "web_layer = pdk.Layer('ScatterplotLayer', map_graph, get_position='[lon, lat]', radiusScale=10,\n",
    "                      radiusMinPixels=2, get_fill_color=[180, 0, 200, 140], pickable=True, auto_highlight=True)"
   ]
  },
  {
   "cell_type": "code",
   "execution_count": 50,
   "metadata": {
    "ExecuteTime": {
     "end_time": "2019-12-19T18:53:42.888313Z",
     "start_time": "2019-12-19T18:53:42.878902Z"
    }
   },
   "outputs": [],
   "source": [
    "r = pdk.Deck(layers=[db_layer, web_layer],initial_view_state=view_state, mapbox_key='pk.eyJ1IjoiZG1hdWdlciIsImEiOiJjazE4OXhuYmgxZ3d2M21uaXV5eWt6Nm5iIn0.8mXDhVPh7XaS9VSr1Uj7cw')"
   ]
  },
  {
   "cell_type": "code",
   "execution_count": 53,
   "metadata": {
    "ExecuteTime": {
     "end_time": "2019-12-19T19:40:53.471232Z",
     "start_time": "2019-12-19T19:40:53.291259Z"
    }
   },
   "outputs": [
    {
     "ename": "ValueError",
     "evalue": "\n    Invalid element(s) received for the 'data' property of \n        Invalid elements include: [{\"initialViewState\": {\"bearing\": 0, \"latitude\": 38.91105, \"longitude\": -88.94495, \"maxZoom\": 20, \"minZoom\": 0, \"pitch\": 0, \"zoom\": 2.5}, \"layers\": [{\"autoHighlight\": true, \"data\": [{\"lat\": 47.3715, \"lon\": -122.5689}, {\"lat\": 47.6211, \"lon\": -122.3244}, {\"lat\": 47.9524, \"lon\": -122.167}, {\"lat\": 46.1991, \"lon\": -118.9728}, {\"lat\": 47.5953, \"lon\": -122.155}, {\"lat\": 47.0417, \"lon\": -122.8959}, {\"lat\": 45.6367, \"lon\": -122.597}, {\"lat\": 47.4874, \"lon\": -122.6175}, {\"lat\": 48.0013, \"lon\": -117.5612}, {\"lat\": 46.3559, \"lon\": -124.0556}, {\"lat\": 48.1697, \"lon\": -122.1446}, {\"lat\": 46.3168, \"lon\": -117.9769}, {\"lat\": 45.7838, \"lon\": -122.647}, {\"lat\": 48.5602, \"lon\": -122.431}, {\"lat\": 47.6762, \"lon\": -122.1169}, {\"lat\": 39.7783, \"lon\": -75.6049}, {\"lat\": 38.9174, \"lon\": -75.5039}, {\"lat\": 39.6776, \"lon\": -75.7573}, {\"lat\": 38.9047, \"lon\": -77.0163}, {\"lat\": 46.4354, \"lon\": -91.06}, {\"lat\": 44.9691, \"lon\": -92.4381}, {\"lat\": 43.3354, \"lon\": -89.03}, {\"lat\": 42.8854, \"lon\": -88.0104}, {\"lat\": 42.6407, \"lon\": -88.4135}, {\"lat\": 42.523, \"lon\": -89.0184}, {\"lat\": 45.2025, \"lon\": -91.8965}, {\"lat\": 43.3244, \"lon\": -88.1668}, {\"lat\": 43.322, \"lon\": -88.3782}, {\"lat\": 43.0827, \"lon\": -89.3923}, {\"lat\": 43.0642, \"lon\": -87.9673}, {\"lat\": 42.8524, \"lon\": -89.3723}, {\"lat\": 44.2602, \"lon\": -88.8715}, {\"lat\": 43.9177, \"lon\": -87.7469}, {\"lat\": 44.8906, \"lon\": -89.5487}, {\"lat\": 39.3254, \"lon\": -79.5546}, {\"lat\": 38.3484, \"lon\": -81.6323}, {\"lat\": 38.8442, \"lon\": -79.8717}, {\"lat\": 39.7024, \"lon\": -80.5147}, {\"lat\": 19.5358, \"lon\": -155.1596}, {\"lat\": 27.9942, \"lon\": -82.4451}, {\"lat\": 29.4479, \"lon\": -82.46799999999998}, {\"lat\": 28.4772, \"lon\": -81.3369}, {\"lat\": 25.867, \"lon\": -80.1779}, {\"lat\": 27.9788, \"lon\": -82.7624}, {\"lat\": 30.7736, \"lon\": -87.0808}, {\"lat\": 28.4015, \"lon\": -81.4461}, {\"lat\": 26.1412, \"lon\": -80.1464}, {\"lat\": 25.7839, \"lon\": -80.2102}, {\"lat\": 26.3749, \"lon\": -80.1077}, {\"lat\": 40.7966, \"lon\": -74.4772}, {\"lat\": 40.381, \"lon\": -74.5435}, {\"lat\": 40.7161, \"lon\": -74.0683}, {\"lat\": 39.8379, \"lon\": -75.1524}, {\"lat\": 40.9859, \"lon\": -74.7429}, {\"lat\": 40.926, \"lon\": -75.0945}, {\"lat\": 32.7773, \"lon\": -108.154}, {\"lat\": 34.7511, \"lon\": -106.653}, {\"lat\": 35.3317, \"lon\": -107.6469}, {\"lat\": 36.0367, \"lon\": -106.1004}, {\"lat\": 33.6601, \"lon\": -95.2665}, {\"lat\": 26.3654, \"lon\": -97.59}, {\"lat\": 32.8584, \"lon\": -96.9702}, {\"lat\": 35.2323, \"lon\": -100.6001}, {\"lat\": 29.6584, \"lon\": -95.1499}, {\"lat\": 33.0155, \"lon\": -99.6717}, {\"lat\": 32.0875, \"lon\": -98.3391}, {\"lat\": 33.1736, \"lon\": -94.5425}, {\"lat\": 28.6909, \"lon\": -99.8257}, {\"lat\": 32.7974, \"lon\": -96.5576}, {\"lat\": 32.989000000000004, \"lon\": -96.8999}, {\"lat\": 33.4892, \"lon\": -97.1534}, {\"lat\": 33.0502, \"lon\": -96.7487}, {\"lat\": 27.8913, \"lon\": -97.328}, {\"lat\": 28.8593, \"lon\": -98.7006}, {\"lat\": 29.5824, \"lon\": -95.7602}, {\"lat\": 30.6127, \"lon\": -94.4104}, {\"lat\": 30.3006, \"lon\": -97.7517}, {\"lat\": 26.4947, \"lon\": -97.7863}, {\"lat\": 33.1136, \"lon\": -94.1672}, {\"lat\": 32.7812, \"lon\": -97.3472}, {\"lat\": 30.4419, \"lon\": -91.131}, {\"lat\": 36.4989, \"lon\": -81.5098}, {\"lat\": 35.9693, \"lon\": -77.9552}, {\"lat\": 35.927, \"lon\": -79.0391}, {\"lat\": 35.654, \"lon\": -78.8403}, {\"lat\": 35.5849, \"lon\": -80.8266}, {\"lat\": 48.3132, \"lon\": -99.5733}, {\"lat\": 48.7012, \"lon\": -100.4981}, {\"lat\": 42.0328, \"lon\": -97.4209}, {\"lat\": 41.13399999999999, \"lon\": -102.9681}, {\"lat\": 40.9975, \"lon\": -96.1612}, {\"lat\": 40.7511, \"lon\": -96.421}, {\"lat\": 41.4232, \"lon\": -100.1936}, {\"lat\": 41.1183, \"lon\": -98.8312}, {\"lat\": 35.6467, \"lon\": -88.27}, {\"lat\": 35.9692, \"lon\": -83.9496}, {\"lat\": 35.6791, \"lon\": -84.3998}, {\"lat\": 35.0521, \"lon\": -85.0488}, {\"lat\": 35.9918, \"lon\": -86.7758}, {\"lat\": 43.4516, \"lon\": -76.5005}, {\"lat\": 43.07100000000001, \"lon\": -75.2886}, {\"lat\": 43.2316, \"lon\": -76.2961}, {\"lat\": 40.7324, \"lon\": -73.6857}, {\"lat\": 40.6943, \"lon\": -73.9249}, {\"lat\": 40.6472, \"lon\": -78.1957}, {\"lat\": 41.8637, \"lon\": -76.9575}, {\"lat\": 40.312, \"lon\": -79.8237}, {\"lat\": 40.229, \"lon\": -74.9324}, {\"lat\": 40.4396, \"lon\": -79.9763}, {\"lat\": 40.7103, \"lon\": -76.8515}, {\"lat\": 40.9756, \"lon\": -80.4878}, {\"lat\": 40.0962, \"lon\": -75.3821}, {\"lat\": 41.823, \"lon\": -71.4187}, {\"lat\": 38.8531, \"lon\": -77.2997}, {\"lat\": 38.8847, \"lon\": -77.1751}, {\"lat\": 38.0375, \"lon\": -78.4855}, {\"lat\": 37.0012, \"lon\": -80.7373}, {\"lat\": 38.7119, \"lon\": -77.1459}, {\"lat\": 38.9497, \"lon\": -77.3461}, {\"lat\": 38.8391, \"lon\": -77.4388}, {\"lat\": 34.1248, \"lon\": -117.5666}, {\"lat\": 33.7366, \"lon\": -117.8819}, {\"lat\": 34.2663, \"lon\": -118.749}, {\"lat\": 37.4686, \"lon\": -122.1672}, {\"lat\": 37.858, \"lon\": -122.4932}, {\"lat\": 38.416, \"lon\": -121.384}, {\"lat\": 37.9789, \"lon\": -121.7957}, {\"lat\": 37.6254, \"lon\": -122.4313}, {\"lat\": 37.6536, \"lon\": -122.4197}, {\"lat\": 37.7562, \"lon\": -122.443}, {\"lat\": 33.9254, \"lon\": -117.8654}, {\"lat\": 37.3168, \"lon\": -122.0465}, {\"lat\": 33.4936, \"lon\": -86.9782}, {\"lat\": 30.6782, \"lon\": -88.1163}, {\"lat\": 31.987, \"lon\": -88.3366}, {\"lat\": 33.9354, \"lon\": -88.0218}, {\"lat\": 42.1957, \"lon\": -87.9182}, {\"lat\": 42.1723, \"lon\": -87.8951}, {\"lat\": 41.8373, \"lon\": -87.6862}, {\"lat\": 41.4821, \"lon\": -90.4919}, {\"lat\": 41.767, \"lon\": -87.7915}, {\"lat\": 34.0703, \"lon\": -84.2738}, {\"lat\": 34.0262, \"lon\": -84.6177}, {\"lat\": 31.1591, \"lon\": -83.7708}, {\"lat\": 39.7771, \"lon\": -86.1458}, {\"lat\": 42.3889, \"lon\": -71.2423}, {\"lat\": 33.6872, \"lon\": -111.8651}, {\"lat\": 38.9866, \"lon\": -77.1188}, {\"lat\": 39.1346, \"lon\": -77.2132}, {\"lat\": 35.0812, \"lon\": -96.8598}, {\"lat\": 40.7774, \"lon\": -111.93}, {\"lat\": 40.5571, \"lon\": -111.9783}, {\"lat\": 44.9635, \"lon\": -93.2678}, {\"lat\": 45.3814, \"lon\": -93.8737}, {\"lat\": 44.8488, \"lon\": -93.4595}, {\"lat\": 44.7744, \"lon\": -93.4764}, {\"lat\": 38.9609, \"lon\": -94.8018}, {\"lat\": 18.3839, \"lon\": -66.1134}, {\"lat\": 32.9067, \"lon\": -80.0722}, {\"lat\": 34.9437, \"lon\": -81.9256}], \"getFillColor\": [180, 0, 200, 140], \"getPosition\": \"[lon, lat]\", \"id\": \"9f9fad45-f49f-4146-a7dd-9655a49abfba\", \"pickable\": true, \"radiusMinPixels\": 2, \"radiusScale\": 10, \"type\": \"ScatterplotLayer\"}], \"mapStyle\": \"mapbox://styles/mapbox/dark-v9\", \"views\": [{\"controller\": true, \"type\": \"MapView\"}]}]\n\n    The 'data' property is a tuple of trace instances\n    that may be specified as:\n      - A list or tuple of trace instances\n        (e.g. [Scatter(...), Bar(...)])\n      - A single trace instance\n        (e.g. Scatter(...), Bar(...), etc.)\n      - A list or tuple of dicts of string/value properties where:\n        - The 'type' property specifies the trace type\n            One of: ['area', 'bar', 'barpolar', 'box',\n                     'candlestick', 'carpet', 'choropleth',\n                     'choroplethmapbox', 'cone', 'contour',\n                     'contourcarpet', 'densitymapbox', 'funnel',\n                     'funnelarea', 'heatmap', 'heatmapgl',\n                     'histogram', 'histogram2d',\n                     'histogram2dcontour', 'indicator',\n                     'isosurface', 'mesh3d', 'ohlc', 'parcats',\n                     'parcoords', 'pie', 'pointcloud', 'sankey',\n                     'scatter', 'scatter3d', 'scattercarpet',\n                     'scattergeo', 'scattergl', 'scattermapbox',\n                     'scatterpolar', 'scatterpolargl',\n                     'scatterternary', 'splom', 'streamtube',\n                     'sunburst', 'surface', 'table', 'violin',\n                     'volume', 'waterfall']\n\n        - All remaining properties are passed to the constructor of\n          the specified trace type\n\n        (e.g. [{'type': 'scatter', ...}, {'type': 'bar, ...}])",
     "output_type": "error",
     "traceback": [
      "\u001b[0;31m---------------------------------------------------------------------------\u001b[0m",
      "\u001b[0;31mValueError\u001b[0m                                Traceback (most recent call last)",
      "\u001b[0;32m<ipython-input-53-7b24fd04cbae>\u001b[0m in \u001b[0;36m<module>\u001b[0;34m()\u001b[0m\n\u001b[1;32m      1\u001b[0m \u001b[0mfig\u001b[0m \u001b[0;34m=\u001b[0m \u001b[0mdict\u001b[0m\u001b[0;34m(\u001b[0m\u001b[0mdata\u001b[0m \u001b[0;34m=\u001b[0m \u001b[0mr\u001b[0m\u001b[0;34m)\u001b[0m\u001b[0;34m\u001b[0m\u001b[0m\n\u001b[0;32m----> 2\u001b[0;31m \u001b[0miplot\u001b[0m\u001b[0;34m(\u001b[0m\u001b[0mfig\u001b[0m\u001b[0;34m)\u001b[0m\u001b[0;34m\u001b[0m\u001b[0m\n\u001b[0m",
      "\u001b[0;32m~/anaconda3/envs/learn-env/lib/python3.6/site-packages/plotly/offline/offline.py\u001b[0m in \u001b[0;36miplot\u001b[0;34m(figure_or_data, show_link, link_text, validate, image, filename, image_width, image_height, config, auto_play, animation_opts)\u001b[0m\n\u001b[1;32m    381\u001b[0m \u001b[0;34m\u001b[0m\u001b[0m\n\u001b[1;32m    382\u001b[0m     \u001b[0;31m# Get figure\u001b[0m\u001b[0;34m\u001b[0m\u001b[0;34m\u001b[0m\u001b[0m\n\u001b[0;32m--> 383\u001b[0;31m     \u001b[0mfigure\u001b[0m \u001b[0;34m=\u001b[0m \u001b[0mtools\u001b[0m\u001b[0;34m.\u001b[0m\u001b[0mreturn_figure_from_figure_or_data\u001b[0m\u001b[0;34m(\u001b[0m\u001b[0mfigure_or_data\u001b[0m\u001b[0;34m,\u001b[0m \u001b[0mvalidate\u001b[0m\u001b[0;34m)\u001b[0m\u001b[0;34m\u001b[0m\u001b[0m\n\u001b[0m\u001b[1;32m    384\u001b[0m \u001b[0;34m\u001b[0m\u001b[0m\n\u001b[1;32m    385\u001b[0m     \u001b[0;31m# Handle image request\u001b[0m\u001b[0;34m\u001b[0m\u001b[0;34m\u001b[0m\u001b[0m\n",
      "\u001b[0;32m~/anaconda3/envs/learn-env/lib/python3.6/site-packages/plotly/tools.py\u001b[0m in \u001b[0;36mreturn_figure_from_figure_or_data\u001b[0;34m(figure_or_data, validate_figure)\u001b[0m\n\u001b[1;32m    551\u001b[0m \u001b[0;34m\u001b[0m\u001b[0m\n\u001b[1;32m    552\u001b[0m         \u001b[0;32mtry\u001b[0m\u001b[0;34m:\u001b[0m\u001b[0;34m\u001b[0m\u001b[0m\n\u001b[0;32m--> 553\u001b[0;31m             \u001b[0mfigure\u001b[0m \u001b[0;34m=\u001b[0m \u001b[0mFigure\u001b[0m\u001b[0;34m(\u001b[0m\u001b[0;34m**\u001b[0m\u001b[0mfigure\u001b[0m\u001b[0;34m)\u001b[0m\u001b[0;34m.\u001b[0m\u001b[0mto_dict\u001b[0m\u001b[0;34m(\u001b[0m\u001b[0;34m)\u001b[0m\u001b[0;34m\u001b[0m\u001b[0m\n\u001b[0m\u001b[1;32m    554\u001b[0m         \u001b[0;32mexcept\u001b[0m \u001b[0mexceptions\u001b[0m\u001b[0;34m.\u001b[0m\u001b[0mPlotlyError\u001b[0m \u001b[0;32mas\u001b[0m \u001b[0merr\u001b[0m\u001b[0;34m:\u001b[0m\u001b[0;34m\u001b[0m\u001b[0m\n\u001b[1;32m    555\u001b[0m             raise exceptions.PlotlyError(\n",
      "\u001b[0;32m~/anaconda3/envs/learn-env/lib/python3.6/site-packages/plotly/graph_objs/_figure.py\u001b[0m in \u001b[0;36m__init__\u001b[0;34m(self, data, layout, frames, skip_invalid, **kwargs)\u001b[0m\n\u001b[1;32m    586\u001b[0m             \u001b[0;32mis\u001b[0m \u001b[0minvalid\u001b[0m \u001b[0mAND\u001b[0m \u001b[0mskip_invalid\u001b[0m \u001b[0;32mis\u001b[0m \u001b[0;32mFalse\u001b[0m\u001b[0;34m\u001b[0m\u001b[0m\n\u001b[1;32m    587\u001b[0m         \"\"\"\n\u001b[0;32m--> 588\u001b[0;31m         \u001b[0msuper\u001b[0m\u001b[0;34m(\u001b[0m\u001b[0mFigure\u001b[0m\u001b[0;34m,\u001b[0m \u001b[0mself\u001b[0m\u001b[0;34m)\u001b[0m\u001b[0;34m.\u001b[0m\u001b[0m__init__\u001b[0m\u001b[0;34m(\u001b[0m\u001b[0mdata\u001b[0m\u001b[0;34m,\u001b[0m \u001b[0mlayout\u001b[0m\u001b[0;34m,\u001b[0m \u001b[0mframes\u001b[0m\u001b[0;34m,\u001b[0m \u001b[0mskip_invalid\u001b[0m\u001b[0;34m,\u001b[0m \u001b[0;34m**\u001b[0m\u001b[0mkwargs\u001b[0m\u001b[0;34m)\u001b[0m\u001b[0;34m\u001b[0m\u001b[0m\n\u001b[0m\u001b[1;32m    589\u001b[0m \u001b[0;34m\u001b[0m\u001b[0m\n\u001b[1;32m    590\u001b[0m     def add_area(\n",
      "\u001b[0;32m~/anaconda3/envs/learn-env/lib/python3.6/site-packages/plotly/basedatatypes.py\u001b[0m in \u001b[0;36m__init__\u001b[0;34m(self, data, layout_plotly, frames, skip_invalid, **kwargs)\u001b[0m\n\u001b[1;32m    155\u001b[0m \u001b[0;34m\u001b[0m\u001b[0m\n\u001b[1;32m    156\u001b[0m         \u001b[0;31m# ### Import traces ###\u001b[0m\u001b[0;34m\u001b[0m\u001b[0;34m\u001b[0m\u001b[0m\n\u001b[0;32m--> 157\u001b[0;31m         \u001b[0mdata\u001b[0m \u001b[0;34m=\u001b[0m \u001b[0mself\u001b[0m\u001b[0;34m.\u001b[0m\u001b[0m_data_validator\u001b[0m\u001b[0;34m.\u001b[0m\u001b[0mvalidate_coerce\u001b[0m\u001b[0;34m(\u001b[0m\u001b[0mdata\u001b[0m\u001b[0;34m,\u001b[0m \u001b[0mskip_invalid\u001b[0m\u001b[0;34m=\u001b[0m\u001b[0mskip_invalid\u001b[0m\u001b[0;34m)\u001b[0m\u001b[0;34m\u001b[0m\u001b[0m\n\u001b[0m\u001b[1;32m    158\u001b[0m \u001b[0;34m\u001b[0m\u001b[0m\n\u001b[1;32m    159\u001b[0m         \u001b[0;31m# ### Save tuple of trace objects ###\u001b[0m\u001b[0;34m\u001b[0m\u001b[0;34m\u001b[0m\u001b[0m\n",
      "\u001b[0;32m~/anaconda3/envs/learn-env/lib/python3.6/site-packages/_plotly_utils/basevalidators.py\u001b[0m in \u001b[0;36mvalidate_coerce\u001b[0;34m(self, v, skip_invalid)\u001b[0m\n\u001b[1;32m   2656\u001b[0m \u001b[0;34m\u001b[0m\u001b[0m\n\u001b[1;32m   2657\u001b[0m             \u001b[0;32mif\u001b[0m \u001b[0minvalid_els\u001b[0m\u001b[0;34m:\u001b[0m\u001b[0;34m\u001b[0m\u001b[0m\n\u001b[0;32m-> 2658\u001b[0;31m                 \u001b[0mself\u001b[0m\u001b[0;34m.\u001b[0m\u001b[0mraise_invalid_elements\u001b[0m\u001b[0;34m(\u001b[0m\u001b[0minvalid_els\u001b[0m\u001b[0;34m)\u001b[0m\u001b[0;34m\u001b[0m\u001b[0m\n\u001b[0m\u001b[1;32m   2659\u001b[0m \u001b[0;34m\u001b[0m\u001b[0m\n\u001b[1;32m   2660\u001b[0m             \u001b[0mv\u001b[0m \u001b[0;34m=\u001b[0m \u001b[0mto_scalar_or_list\u001b[0m\u001b[0;34m(\u001b[0m\u001b[0mres\u001b[0m\u001b[0;34m)\u001b[0m\u001b[0;34m\u001b[0m\u001b[0m\n",
      "\u001b[0;32m~/anaconda3/envs/learn-env/lib/python3.6/site-packages/_plotly_utils/basevalidators.py\u001b[0m in \u001b[0;36mraise_invalid_elements\u001b[0;34m(self, invalid_els)\u001b[0m\n\u001b[1;32m    296\u001b[0m                     \u001b[0mpname\u001b[0m\u001b[0;34m=\u001b[0m\u001b[0mself\u001b[0m\u001b[0;34m.\u001b[0m\u001b[0mparent_name\u001b[0m\u001b[0;34m,\u001b[0m\u001b[0;34m\u001b[0m\u001b[0m\n\u001b[1;32m    297\u001b[0m                     \u001b[0minvalid\u001b[0m\u001b[0;34m=\u001b[0m\u001b[0minvalid_els\u001b[0m\u001b[0;34m[\u001b[0m\u001b[0;34m:\u001b[0m\u001b[0;36m10\u001b[0m\u001b[0;34m]\u001b[0m\u001b[0;34m,\u001b[0m\u001b[0;34m\u001b[0m\u001b[0m\n\u001b[0;32m--> 298\u001b[0;31m                     \u001b[0mvalid_clr_desc\u001b[0m\u001b[0;34m=\u001b[0m\u001b[0mself\u001b[0m\u001b[0;34m.\u001b[0m\u001b[0mdescription\u001b[0m\u001b[0;34m(\u001b[0m\u001b[0;34m)\u001b[0m\u001b[0;34m,\u001b[0m\u001b[0;34m\u001b[0m\u001b[0m\n\u001b[0m\u001b[1;32m    299\u001b[0m                 )\n\u001b[1;32m    300\u001b[0m             )\n",
      "\u001b[0;31mValueError\u001b[0m: \n    Invalid element(s) received for the 'data' property of \n        Invalid elements include: [{\"initialViewState\": {\"bearing\": 0, \"latitude\": 38.91105, \"longitude\": -88.94495, \"maxZoom\": 20, \"minZoom\": 0, \"pitch\": 0, \"zoom\": 2.5}, \"layers\": [{\"autoHighlight\": true, \"data\": [{\"lat\": 47.3715, \"lon\": -122.5689}, {\"lat\": 47.6211, \"lon\": -122.3244}, {\"lat\": 47.9524, \"lon\": -122.167}, {\"lat\": 46.1991, \"lon\": -118.9728}, {\"lat\": 47.5953, \"lon\": -122.155}, {\"lat\": 47.0417, \"lon\": -122.8959}, {\"lat\": 45.6367, \"lon\": -122.597}, {\"lat\": 47.4874, \"lon\": -122.6175}, {\"lat\": 48.0013, \"lon\": -117.5612}, {\"lat\": 46.3559, \"lon\": -124.0556}, {\"lat\": 48.1697, \"lon\": -122.1446}, {\"lat\": 46.3168, \"lon\": -117.9769}, {\"lat\": 45.7838, \"lon\": -122.647}, {\"lat\": 48.5602, \"lon\": -122.431}, {\"lat\": 47.6762, \"lon\": -122.1169}, {\"lat\": 39.7783, \"lon\": -75.6049}, {\"lat\": 38.9174, \"lon\": -75.5039}, {\"lat\": 39.6776, \"lon\": -75.7573}, {\"lat\": 38.9047, \"lon\": -77.0163}, {\"lat\": 46.4354, \"lon\": -91.06}, {\"lat\": 44.9691, \"lon\": -92.4381}, {\"lat\": 43.3354, \"lon\": -89.03}, {\"lat\": 42.8854, \"lon\": -88.0104}, {\"lat\": 42.6407, \"lon\": -88.4135}, {\"lat\": 42.523, \"lon\": -89.0184}, {\"lat\": 45.2025, \"lon\": -91.8965}, {\"lat\": 43.3244, \"lon\": -88.1668}, {\"lat\": 43.322, \"lon\": -88.3782}, {\"lat\": 43.0827, \"lon\": -89.3923}, {\"lat\": 43.0642, \"lon\": -87.9673}, {\"lat\": 42.8524, \"lon\": -89.3723}, {\"lat\": 44.2602, \"lon\": -88.8715}, {\"lat\": 43.9177, \"lon\": -87.7469}, {\"lat\": 44.8906, \"lon\": -89.5487}, {\"lat\": 39.3254, \"lon\": -79.5546}, {\"lat\": 38.3484, \"lon\": -81.6323}, {\"lat\": 38.8442, \"lon\": -79.8717}, {\"lat\": 39.7024, \"lon\": -80.5147}, {\"lat\": 19.5358, \"lon\": -155.1596}, {\"lat\": 27.9942, \"lon\": -82.4451}, {\"lat\": 29.4479, \"lon\": -82.46799999999998}, {\"lat\": 28.4772, \"lon\": -81.3369}, {\"lat\": 25.867, \"lon\": -80.1779}, {\"lat\": 27.9788, \"lon\": -82.7624}, {\"lat\": 30.7736, \"lon\": -87.0808}, {\"lat\": 28.4015, \"lon\": -81.4461}, {\"lat\": 26.1412, \"lon\": -80.1464}, {\"lat\": 25.7839, \"lon\": -80.2102}, {\"lat\": 26.3749, \"lon\": -80.1077}, {\"lat\": 40.7966, \"lon\": -74.4772}, {\"lat\": 40.381, \"lon\": -74.5435}, {\"lat\": 40.7161, \"lon\": -74.0683}, {\"lat\": 39.8379, \"lon\": -75.1524}, {\"lat\": 40.9859, \"lon\": -74.7429}, {\"lat\": 40.926, \"lon\": -75.0945}, {\"lat\": 32.7773, \"lon\": -108.154}, {\"lat\": 34.7511, \"lon\": -106.653}, {\"lat\": 35.3317, \"lon\": -107.6469}, {\"lat\": 36.0367, \"lon\": -106.1004}, {\"lat\": 33.6601, \"lon\": -95.2665}, {\"lat\": 26.3654, \"lon\": -97.59}, {\"lat\": 32.8584, \"lon\": -96.9702}, {\"lat\": 35.2323, \"lon\": -100.6001}, {\"lat\": 29.6584, \"lon\": -95.1499}, {\"lat\": 33.0155, \"lon\": -99.6717}, {\"lat\": 32.0875, \"lon\": -98.3391}, {\"lat\": 33.1736, \"lon\": -94.5425}, {\"lat\": 28.6909, \"lon\": -99.8257}, {\"lat\": 32.7974, \"lon\": -96.5576}, {\"lat\": 32.989000000000004, \"lon\": -96.8999}, {\"lat\": 33.4892, \"lon\": -97.1534}, {\"lat\": 33.0502, \"lon\": -96.7487}, {\"lat\": 27.8913, \"lon\": -97.328}, {\"lat\": 28.8593, \"lon\": -98.7006}, {\"lat\": 29.5824, \"lon\": -95.7602}, {\"lat\": 30.6127, \"lon\": -94.4104}, {\"lat\": 30.3006, \"lon\": -97.7517}, {\"lat\": 26.4947, \"lon\": -97.7863}, {\"lat\": 33.1136, \"lon\": -94.1672}, {\"lat\": 32.7812, \"lon\": -97.3472}, {\"lat\": 30.4419, \"lon\": -91.131}, {\"lat\": 36.4989, \"lon\": -81.5098}, {\"lat\": 35.9693, \"lon\": -77.9552}, {\"lat\": 35.927, \"lon\": -79.0391}, {\"lat\": 35.654, \"lon\": -78.8403}, {\"lat\": 35.5849, \"lon\": -80.8266}, {\"lat\": 48.3132, \"lon\": -99.5733}, {\"lat\": 48.7012, \"lon\": -100.4981}, {\"lat\": 42.0328, \"lon\": -97.4209}, {\"lat\": 41.13399999999999, \"lon\": -102.9681}, {\"lat\": 40.9975, \"lon\": -96.1612}, {\"lat\": 40.7511, \"lon\": -96.421}, {\"lat\": 41.4232, \"lon\": -100.1936}, {\"lat\": 41.1183, \"lon\": -98.8312}, {\"lat\": 35.6467, \"lon\": -88.27}, {\"lat\": 35.9692, \"lon\": -83.9496}, {\"lat\": 35.6791, \"lon\": -84.3998}, {\"lat\": 35.0521, \"lon\": -85.0488}, {\"lat\": 35.9918, \"lon\": -86.7758}, {\"lat\": 43.4516, \"lon\": -76.5005}, {\"lat\": 43.07100000000001, \"lon\": -75.2886}, {\"lat\": 43.2316, \"lon\": -76.2961}, {\"lat\": 40.7324, \"lon\": -73.6857}, {\"lat\": 40.6943, \"lon\": -73.9249}, {\"lat\": 40.6472, \"lon\": -78.1957}, {\"lat\": 41.8637, \"lon\": -76.9575}, {\"lat\": 40.312, \"lon\": -79.8237}, {\"lat\": 40.229, \"lon\": -74.9324}, {\"lat\": 40.4396, \"lon\": -79.9763}, {\"lat\": 40.7103, \"lon\": -76.8515}, {\"lat\": 40.9756, \"lon\": -80.4878}, {\"lat\": 40.0962, \"lon\": -75.3821}, {\"lat\": 41.823, \"lon\": -71.4187}, {\"lat\": 38.8531, \"lon\": -77.2997}, {\"lat\": 38.8847, \"lon\": -77.1751}, {\"lat\": 38.0375, \"lon\": -78.4855}, {\"lat\": 37.0012, \"lon\": -80.7373}, {\"lat\": 38.7119, \"lon\": -77.1459}, {\"lat\": 38.9497, \"lon\": -77.3461}, {\"lat\": 38.8391, \"lon\": -77.4388}, {\"lat\": 34.1248, \"lon\": -117.5666}, {\"lat\": 33.7366, \"lon\": -117.8819}, {\"lat\": 34.2663, \"lon\": -118.749}, {\"lat\": 37.4686, \"lon\": -122.1672}, {\"lat\": 37.858, \"lon\": -122.4932}, {\"lat\": 38.416, \"lon\": -121.384}, {\"lat\": 37.9789, \"lon\": -121.7957}, {\"lat\": 37.6254, \"lon\": -122.4313}, {\"lat\": 37.6536, \"lon\": -122.4197}, {\"lat\": 37.7562, \"lon\": -122.443}, {\"lat\": 33.9254, \"lon\": -117.8654}, {\"lat\": 37.3168, \"lon\": -122.0465}, {\"lat\": 33.4936, \"lon\": -86.9782}, {\"lat\": 30.6782, \"lon\": -88.1163}, {\"lat\": 31.987, \"lon\": -88.3366}, {\"lat\": 33.9354, \"lon\": -88.0218}, {\"lat\": 42.1957, \"lon\": -87.9182}, {\"lat\": 42.1723, \"lon\": -87.8951}, {\"lat\": 41.8373, \"lon\": -87.6862}, {\"lat\": 41.4821, \"lon\": -90.4919}, {\"lat\": 41.767, \"lon\": -87.7915}, {\"lat\": 34.0703, \"lon\": -84.2738}, {\"lat\": 34.0262, \"lon\": -84.6177}, {\"lat\": 31.1591, \"lon\": -83.7708}, {\"lat\": 39.7771, \"lon\": -86.1458}, {\"lat\": 42.3889, \"lon\": -71.2423}, {\"lat\": 33.6872, \"lon\": -111.8651}, {\"lat\": 38.9866, \"lon\": -77.1188}, {\"lat\": 39.1346, \"lon\": -77.2132}, {\"lat\": 35.0812, \"lon\": -96.8598}, {\"lat\": 40.7774, \"lon\": -111.93}, {\"lat\": 40.5571, \"lon\": -111.9783}, {\"lat\": 44.9635, \"lon\": -93.2678}, {\"lat\": 45.3814, \"lon\": -93.8737}, {\"lat\": 44.8488, \"lon\": -93.4595}, {\"lat\": 44.7744, \"lon\": -93.4764}, {\"lat\": 38.9609, \"lon\": -94.8018}, {\"lat\": 18.3839, \"lon\": -66.1134}, {\"lat\": 32.9067, \"lon\": -80.0722}, {\"lat\": 34.9437, \"lon\": -81.9256}], \"getFillColor\": [180, 0, 200, 140], \"getPosition\": \"[lon, lat]\", \"id\": \"9f9fad45-f49f-4146-a7dd-9655a49abfba\", \"pickable\": true, \"radiusMinPixels\": 2, \"radiusScale\": 10, \"type\": \"ScatterplotLayer\"}], \"mapStyle\": \"mapbox://styles/mapbox/dark-v9\", \"views\": [{\"controller\": true, \"type\": \"MapView\"}]}]\n\n    The 'data' property is a tuple of trace instances\n    that may be specified as:\n      - A list or tuple of trace instances\n        (e.g. [Scatter(...), Bar(...)])\n      - A single trace instance\n        (e.g. Scatter(...), Bar(...), etc.)\n      - A list or tuple of dicts of string/value properties where:\n        - The 'type' property specifies the trace type\n            One of: ['area', 'bar', 'barpolar', 'box',\n                     'candlestick', 'carpet', 'choropleth',\n                     'choroplethmapbox', 'cone', 'contour',\n                     'contourcarpet', 'densitymapbox', 'funnel',\n                     'funnelarea', 'heatmap', 'heatmapgl',\n                     'histogram', 'histogram2d',\n                     'histogram2dcontour', 'indicator',\n                     'isosurface', 'mesh3d', 'ohlc', 'parcats',\n                     'parcoords', 'pie', 'pointcloud', 'sankey',\n                     'scatter', 'scatter3d', 'scattercarpet',\n                     'scattergeo', 'scattergl', 'scattermapbox',\n                     'scatterpolar', 'scatterpolargl',\n                     'scatterternary', 'splom', 'streamtube',\n                     'sunburst', 'surface', 'table', 'violin',\n                     'volume', 'waterfall']\n\n        - All remaining properties are passed to the constructor of\n          the specified trace type\n\n        (e.g. [{'type': 'scatter', ...}, {'type': 'bar, ...}])"
     ]
    }
   ],
   "source": [
    "fig = dict(data = r)\n",
    "iplot(fig)"
   ]
  },
  {
   "cell_type": "code",
   "execution_count": null,
   "metadata": {},
   "outputs": [],
   "source": []
  },
  {
   "cell_type": "code",
   "execution_count": null,
   "metadata": {},
   "outputs": [],
   "source": []
  }
 ],
 "metadata": {
  "kernelspec": {
   "display_name": "Python [conda env:learn-env] *",
   "language": "python",
   "name": "conda-env-learn-env-py"
  },
  "language_info": {
   "codemirror_mode": {
    "name": "ipython",
    "version": 3
   },
   "file_extension": ".py",
   "mimetype": "text/x-python",
   "name": "python",
   "nbconvert_exporter": "python",
   "pygments_lexer": "ipython3",
   "version": "3.6.6"
  }
 },
 "nbformat": 4,
 "nbformat_minor": 2
}
