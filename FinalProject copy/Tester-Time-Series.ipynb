{
 "cells": [
  {
   "cell_type": "code",
   "execution_count": 1,
   "metadata": {
    "ExecuteTime": {
     "end_time": "2019-12-16T21:39:33.308646Z",
     "start_time": "2019-12-16T21:39:29.948617Z"
    }
   },
   "outputs": [],
   "source": [
    "import nltk\n",
    "from nltk.corpus import stopwords\n",
    "import string\n",
    "from nltk import word_tokenize, FreqDist\n",
    "from sklearn.feature_extraction.text import TfidfVectorizer\n",
    "import matplotlib.pyplot as plt\n",
    "\n",
    "import pandas as pd \n",
    "import numpy as np\n",
    "from bs4 import BeautifulSoup\n",
    "import requests\n",
    "import json\n",
    "from time import sleep, time\n",
    "import lxml\n",
    "import re\n",
    "from urllib.parse import urljoin\n",
    "import unicodedata\n",
    "from collections import defaultdict, Counter\n",
    "import WebScrape_Indeed\n",
    "import WebScrape_LinkedIn\n",
    "import streamlit as st \n",
    "import terms \n",
    "import Cities \n",
    "import functions\n",
    "import time\n",
    "\n",
    "import plotly.graph_objects as go\n",
    "\n"
   ]
  },
  {
   "cell_type": "code",
   "execution_count": 2,
   "metadata": {
    "ExecuteTime": {
     "end_time": "2019-12-16T21:39:33.314771Z",
     "start_time": "2019-12-16T21:39:33.311110Z"
    }
   },
   "outputs": [],
   "source": [
    "def compare(word, result):\n",
    "    test = []\n",
    "    List1 = [x.lower() for x in word]\n",
    "    List2 = [x.lower() for x in result.index]\n",
    "    for x in List1:\n",
    "        if x in result.index: \n",
    "            test.append(result.loc[x])\n",
    "    return test"
   ]
  },
  {
   "cell_type": "code",
   "execution_count": 3,
   "metadata": {
    "ExecuteTime": {
     "end_time": "2019-12-16T21:39:33.320433Z",
     "start_time": "2019-12-16T21:39:33.317908Z"
    }
   },
   "outputs": [],
   "source": [
    "option = 'Data Engineer'"
   ]
  },
  {
   "cell_type": "code",
   "execution_count": 4,
   "metadata": {
    "ExecuteTime": {
     "end_time": "2019-12-16T21:39:34.877059Z",
     "start_time": "2019-12-16T21:39:34.742265Z"
    }
   },
   "outputs": [],
   "source": [
    "dtotal = pd.read_csv('total_data_date.csv')"
   ]
  },
  {
   "cell_type": "code",
   "execution_count": 13,
   "metadata": {
    "ExecuteTime": {
     "end_time": "2019-12-16T21:44:02.689843Z",
     "start_time": "2019-12-16T21:44:01.462595Z"
    }
   },
   "outputs": [],
   "source": [
    "dtotal= dtotal[dtotal['title'].astype(str).str.contains(option)]\n",
    "total_length = len(dtotal)\n",
    "dtotal2 = dtotal['description']\n",
    "dtotal1 = functions.clean(dtotal2)\n",
    "dtotal1 = functions.word_count(dtotal1)\n",
    "c_let3 = functions.cleanC(dtotal2)\n",
    "c_p3 = functions.C_plus(c_let3)\n",
    "c_s3 = functions.C_sharp(c_let3)\n",
    "test3a = Counter(c_p3) + Counter(c_s3)\n",
    "\n",
    "ctotal = Counter(dtotal1) + Counter(test3a)\n",
    "total = sum(ctotal.values())\n",
    "Ctotaldict = [(i, ctotal[i] / total * 100.0) for i in ctotal]"
   ]
  },
  {
   "cell_type": "code",
   "execution_count": 5,
   "metadata": {
    "ExecuteTime": {
     "end_time": "2019-12-16T21:39:36.211696Z",
     "start_time": "2019-12-16T21:39:36.199038Z"
    }
   },
   "outputs": [],
   "source": [
    "dtotal = dtotal[dtotal['title'].astype(str).str.contains(option)]"
   ]
  },
  {
   "cell_type": "code",
   "execution_count": 6,
   "metadata": {
    "ExecuteTime": {
     "end_time": "2019-12-16T21:39:41.822387Z",
     "start_time": "2019-12-16T21:39:41.797615Z"
    }
   },
   "outputs": [
    {
     "data": {
      "text/html": [
       "<div>\n",
       "<style scoped>\n",
       "    .dataframe tbody tr th:only-of-type {\n",
       "        vertical-align: middle;\n",
       "    }\n",
       "\n",
       "    .dataframe tbody tr th {\n",
       "        vertical-align: top;\n",
       "    }\n",
       "\n",
       "    .dataframe thead th {\n",
       "        text-align: right;\n",
       "    }\n",
       "</style>\n",
       "<table border=\"1\" class=\"dataframe\">\n",
       "  <thead>\n",
       "    <tr style=\"text-align: right;\">\n",
       "      <th></th>\n",
       "      <th>title</th>\n",
       "      <th>company</th>\n",
       "      <th>location</th>\n",
       "      <th>description</th>\n",
       "      <th>date</th>\n",
       "    </tr>\n",
       "  </thead>\n",
       "  <tbody>\n",
       "    <tr>\n",
       "      <th>1047</th>\n",
       "      <td>Data Engineer / Data Scientist</td>\n",
       "      <td>Better.com</td>\n",
       "      <td>New York, NY</td>\n",
       "      <td>[    About Better.com:     We're one of the fa...</td>\n",
       "      <td>2019-12-15 14:06:23.190232</td>\n",
       "    </tr>\n",
       "    <tr>\n",
       "      <th>1349</th>\n",
       "      <td>Data Engineer / Data Scientist</td>\n",
       "      <td>Better.com</td>\n",
       "      <td>New York, NY</td>\n",
       "      <td>[    About Better.com:     We're one of the fa...</td>\n",
       "      <td>2019-12-15 14:06:23.190232</td>\n",
       "    </tr>\n",
       "    <tr>\n",
       "      <th>1870</th>\n",
       "      <td>Lead Software Engineer, Data Engineering</td>\n",
       "      <td>PayScale</td>\n",
       "      <td>Seattle, WA</td>\n",
       "      <td>[   Job Description    Does empowering teams t...</td>\n",
       "      <td>2019-12-15 14:06:23.190232</td>\n",
       "    </tr>\n",
       "    <tr>\n",
       "      <th>2240</th>\n",
       "      <td>Lead Software Engineer, Data Engineering</td>\n",
       "      <td>PayScale</td>\n",
       "      <td>Seattle, WA</td>\n",
       "      <td>[   Job Description    Does empowering teams t...</td>\n",
       "      <td>2019-12-15 14:06:23.190232</td>\n",
       "    </tr>\n",
       "    <tr>\n",
       "      <th>3124</th>\n",
       "      <td>Big Data Engineer</td>\n",
       "      <td>NaN</td>\n",
       "      <td>NaN</td>\n",
       "      <td>[   FrugalOps is looking for several Big data ...</td>\n",
       "      <td>2019-12-15 14:06:23.190232</td>\n",
       "    </tr>\n",
       "    <tr>\n",
       "      <th>...</th>\n",
       "      <td>...</td>\n",
       "      <td>...</td>\n",
       "      <td>...</td>\n",
       "      <td>...</td>\n",
       "      <td>...</td>\n",
       "    </tr>\n",
       "    <tr>\n",
       "      <th>9553</th>\n",
       "      <td>Data Engineer</td>\n",
       "      <td>Noetic Strategies Inc.</td>\n",
       "      <td>Scott AFB, IL</td>\n",
       "      <td>[    Job Summary   Noetic is seeking a Data En...</td>\n",
       "      <td>2019-12-16 14:41:46.399328</td>\n",
       "    </tr>\n",
       "    <tr>\n",
       "      <th>9554</th>\n",
       "      <td>Data Engineer - Entry Level</td>\n",
       "      <td>American Water</td>\n",
       "      <td>Camden, NJ 08102</td>\n",
       "      <td>[     American Water  is  purpose-driven ,  pe...</td>\n",
       "      <td>2019-12-16 14:41:46.399328</td>\n",
       "    </tr>\n",
       "    <tr>\n",
       "      <th>9555</th>\n",
       "      <td>Data Engineer</td>\n",
       "      <td>Verimatrix</td>\n",
       "      <td>San Diego, CA 92121</td>\n",
       "      <td>[    Verimatrix, Inc. has an opening for a Dat...</td>\n",
       "      <td>2019-12-16 14:41:46.399328</td>\n",
       "    </tr>\n",
       "    <tr>\n",
       "      <th>9556</th>\n",
       "      <td>Big Data Engineer</td>\n",
       "      <td>NaN</td>\n",
       "      <td>NaN</td>\n",
       "      <td>[   Storm Global Analytics are inviting Senior...</td>\n",
       "      <td>2019-12-16 14:41:46.399328</td>\n",
       "    </tr>\n",
       "    <tr>\n",
       "      <th>9557</th>\n",
       "      <td>Data Engineer</td>\n",
       "      <td>OneGlobe LLC</td>\n",
       "      <td>Hanscom AFB, MA</td>\n",
       "      <td>[    At least 5 years of experience developing...</td>\n",
       "      <td>2019-12-16 14:41:46.399328</td>\n",
       "    </tr>\n",
       "  </tbody>\n",
       "</table>\n",
       "<p>1338 rows × 5 columns</p>\n",
       "</div>"
      ],
      "text/plain": [
       "                                         title                 company  \\\n",
       "1047            Data Engineer / Data Scientist              Better.com   \n",
       "1349            Data Engineer / Data Scientist              Better.com   \n",
       "1870  Lead Software Engineer, Data Engineering                PayScale   \n",
       "2240  Lead Software Engineer, Data Engineering                PayScale   \n",
       "3124                         Big Data Engineer                     NaN   \n",
       "...                                        ...                     ...   \n",
       "9553                             Data Engineer  Noetic Strategies Inc.   \n",
       "9554               Data Engineer - Entry Level          American Water   \n",
       "9555                             Data Engineer              Verimatrix   \n",
       "9556                         Big Data Engineer                     NaN   \n",
       "9557                             Data Engineer            OneGlobe LLC   \n",
       "\n",
       "                 location                                        description  \\\n",
       "1047         New York, NY  [    About Better.com:     We're one of the fa...   \n",
       "1349         New York, NY  [    About Better.com:     We're one of the fa...   \n",
       "1870          Seattle, WA  [   Job Description    Does empowering teams t...   \n",
       "2240          Seattle, WA  [   Job Description    Does empowering teams t...   \n",
       "3124                  NaN  [   FrugalOps is looking for several Big data ...   \n",
       "...                   ...                                                ...   \n",
       "9553        Scott AFB, IL  [    Job Summary   Noetic is seeking a Data En...   \n",
       "9554     Camden, NJ 08102  [     American Water  is  purpose-driven ,  pe...   \n",
       "9555  San Diego, CA 92121  [    Verimatrix, Inc. has an opening for a Dat...   \n",
       "9556                  NaN  [   Storm Global Analytics are inviting Senior...   \n",
       "9557      Hanscom AFB, MA  [    At least 5 years of experience developing...   \n",
       "\n",
       "                            date  \n",
       "1047  2019-12-15 14:06:23.190232  \n",
       "1349  2019-12-15 14:06:23.190232  \n",
       "1870  2019-12-15 14:06:23.190232  \n",
       "2240  2019-12-15 14:06:23.190232  \n",
       "3124  2019-12-15 14:06:23.190232  \n",
       "...                          ...  \n",
       "9553  2019-12-16 14:41:46.399328  \n",
       "9554  2019-12-16 14:41:46.399328  \n",
       "9555  2019-12-16 14:41:46.399328  \n",
       "9556  2019-12-16 14:41:46.399328  \n",
       "9557  2019-12-16 14:41:46.399328  \n",
       "\n",
       "[1338 rows x 5 columns]"
      ]
     },
     "execution_count": 6,
     "metadata": {},
     "output_type": "execute_result"
    }
   ],
   "source": [
    "dtotal"
   ]
  },
  {
   "cell_type": "code",
   "execution_count": 33,
   "metadata": {
    "ExecuteTime": {
     "end_time": "2019-12-16T22:01:56.976648Z",
     "start_time": "2019-12-16T22:01:56.969688Z"
    }
   },
   "outputs": [
    {
     "data": {
      "text/plain": [
       "Timestamp('2019-12-15 14:55:01.648077056')"
      ]
     },
     "execution_count": 33,
     "metadata": {},
     "output_type": "execute_result"
    }
   ],
   "source": [
    "date = dtotal['date']\n",
    "date = pd.to_datetime(date).values.astype(int)\n",
    "d = pd.to_datetime(date.mean())\n",
    "d"
   ]
  },
  {
   "cell_type": "code",
   "execution_count": 37,
   "metadata": {
    "ExecuteTime": {
     "end_time": "2019-12-16T22:03:14.472720Z",
     "start_time": "2019-12-16T22:03:14.463535Z"
    }
   },
   "outputs": [
    {
     "data": {
      "text/plain": [
       "DatetimeIndex(['2019-12-15 14:06:23.190232', '2019-12-15 14:13:10.377599',\n",
       "               '2019-12-16 14:42:23.090287', '2019-12-16 14:41:46.399328'],\n",
       "              dtype='datetime64[ns]', freq=None)"
      ]
     },
     "execution_count": 37,
     "metadata": {},
     "output_type": "execute_result"
    }
   ],
   "source": [
    "date2 = dtotal['date']\n",
    "date2 = date2.unique()\n",
    "d2 = pd.to_datetime(date2)\n",
    "d2"
   ]
  },
  {
   "cell_type": "code",
   "execution_count": 25,
   "metadata": {
    "ExecuteTime": {
     "end_time": "2019-12-16T21:57:58.856294Z",
     "start_time": "2019-12-16T21:57:58.851011Z"
    }
   },
   "outputs": [
    {
     "data": {
      "text/plain": [
       "array(['2019-12-15 14:06:23.190232', '2019-12-15 14:13:10.377599',\n",
       "       '2019-12-16 14:42:23.090287', '2019-12-16 14:41:46.399328'],\n",
       "      dtype=object)"
      ]
     },
     "execution_count": 25,
     "metadata": {},
     "output_type": "execute_result"
    }
   ],
   "source": [
    "date.unique()"
   ]
  },
  {
   "cell_type": "code",
   "execution_count": 16,
   "metadata": {
    "ExecuteTime": {
     "end_time": "2019-12-16T21:44:18.078063Z",
     "start_time": "2019-12-16T21:44:18.075494Z"
    }
   },
   "outputs": [],
   "source": [
    "search_terms = terms.total_terms"
   ]
  },
  {
   "cell_type": "code",
   "execution_count": 38,
   "metadata": {
    "ExecuteTime": {
     "end_time": "2019-12-16T22:03:30.147384Z",
     "start_time": "2019-12-16T22:03:30.144048Z"
    }
   },
   "outputs": [],
   "source": [
    "total_resulty = pd.DataFrame(Ctotaldict, columns=['Tech','Percentage'])\n"
   ]
  },
  {
   "cell_type": "code",
   "execution_count": 41,
   "metadata": {
    "ExecuteTime": {
     "end_time": "2019-12-16T22:10:59.902001Z",
     "start_time": "2019-12-16T22:10:59.897273Z"
    }
   },
   "outputs": [],
   "source": [
    "total_resulty['Date'] = d"
   ]
  },
  {
   "cell_type": "code",
   "execution_count": 42,
   "metadata": {
    "ExecuteTime": {
     "end_time": "2019-12-16T22:11:01.829085Z",
     "start_time": "2019-12-16T22:11:01.817414Z"
    }
   },
   "outputs": [
    {
     "data": {
      "text/html": [
       "<div>\n",
       "<style scoped>\n",
       "    .dataframe tbody tr th:only-of-type {\n",
       "        vertical-align: middle;\n",
       "    }\n",
       "\n",
       "    .dataframe tbody tr th {\n",
       "        vertical-align: top;\n",
       "    }\n",
       "\n",
       "    .dataframe thead th {\n",
       "        text-align: right;\n",
       "    }\n",
       "</style>\n",
       "<table border=\"1\" class=\"dataframe\">\n",
       "  <thead>\n",
       "    <tr style=\"text-align: right;\">\n",
       "      <th></th>\n",
       "      <th>Tech</th>\n",
       "      <th>Percentage</th>\n",
       "      <th>date</th>\n",
       "    </tr>\n",
       "  </thead>\n",
       "  <tbody>\n",
       "    <tr>\n",
       "      <th>0</th>\n",
       "      <td>aws</td>\n",
       "      <td>9.288029</td>\n",
       "      <td>2019-12-15 14:55:01.648077056</td>\n",
       "    </tr>\n",
       "    <tr>\n",
       "      <th>1</th>\n",
       "      <td>airflow</td>\n",
       "      <td>1.570159</td>\n",
       "      <td>2019-12-15 14:55:01.648077056</td>\n",
       "    </tr>\n",
       "    <tr>\n",
       "      <th>2</th>\n",
       "      <td>alteryx</td>\n",
       "      <td>0.033231</td>\n",
       "      <td>2019-12-15 14:55:01.648077056</td>\n",
       "    </tr>\n",
       "    <tr>\n",
       "      <th>3</th>\n",
       "      <td>android</td>\n",
       "      <td>0.182770</td>\n",
       "      <td>2019-12-15 14:55:01.648077056</td>\n",
       "    </tr>\n",
       "    <tr>\n",
       "      <th>4</th>\n",
       "      <td>angular</td>\n",
       "      <td>0.008308</td>\n",
       "      <td>2019-12-15 14:55:01.648077056</td>\n",
       "    </tr>\n",
       "    <tr>\n",
       "      <th>...</th>\n",
       "      <td>...</td>\n",
       "      <td>...</td>\n",
       "      <td>...</td>\n",
       "    </tr>\n",
       "    <tr>\n",
       "      <th>71</th>\n",
       "      <td>windows</td>\n",
       "      <td>0.116308</td>\n",
       "      <td>2019-12-15 14:55:01.648077056</td>\n",
       "    </tr>\n",
       "    <tr>\n",
       "      <th>72</th>\n",
       "      <td>xml</td>\n",
       "      <td>0.132923</td>\n",
       "      <td>2019-12-15 14:55:01.648077056</td>\n",
       "    </tr>\n",
       "    <tr>\n",
       "      <th>73</th>\n",
       "      <td>mapreduce</td>\n",
       "      <td>2.209853</td>\n",
       "      <td>2019-12-15 14:55:01.648077056</td>\n",
       "    </tr>\n",
       "    <tr>\n",
       "      <th>74</th>\n",
       "      <td>C++</td>\n",
       "      <td>0.332309</td>\n",
       "      <td>2019-12-15 14:55:01.648077056</td>\n",
       "    </tr>\n",
       "    <tr>\n",
       "      <th>75</th>\n",
       "      <td>C#</td>\n",
       "      <td>1.478774</td>\n",
       "      <td>2019-12-15 14:55:01.648077056</td>\n",
       "    </tr>\n",
       "  </tbody>\n",
       "</table>\n",
       "<p>76 rows × 3 columns</p>\n",
       "</div>"
      ],
      "text/plain": [
       "         Tech  Percentage                          date\n",
       "0         aws    9.288029 2019-12-15 14:55:01.648077056\n",
       "1     airflow    1.570159 2019-12-15 14:55:01.648077056\n",
       "2     alteryx    0.033231 2019-12-15 14:55:01.648077056\n",
       "3     android    0.182770 2019-12-15 14:55:01.648077056\n",
       "4     angular    0.008308 2019-12-15 14:55:01.648077056\n",
       "..        ...         ...                           ...\n",
       "71    windows    0.116308 2019-12-15 14:55:01.648077056\n",
       "72        xml    0.132923 2019-12-15 14:55:01.648077056\n",
       "73  mapreduce    2.209853 2019-12-15 14:55:01.648077056\n",
       "74        C++    0.332309 2019-12-15 14:55:01.648077056\n",
       "75         C#    1.478774 2019-12-15 14:55:01.648077056\n",
       "\n",
       "[76 rows x 3 columns]"
      ]
     },
     "execution_count": 42,
     "metadata": {},
     "output_type": "execute_result"
    }
   ],
   "source": [
    "total_resulty"
   ]
  },
  {
   "cell_type": "code",
   "execution_count": 43,
   "metadata": {
    "ExecuteTime": {
     "end_time": "2019-12-16T22:11:05.874630Z",
     "start_time": "2019-12-16T22:11:05.871033Z"
    }
   },
   "outputs": [],
   "source": [
    "total_resulty = total_resulty.set_index('Tech',drop=True)"
   ]
  },
  {
   "cell_type": "code",
   "execution_count": null,
   "metadata": {},
   "outputs": [],
   "source": [
    "ldate = linkedin['date']\n",
    "ldate = pd.to_datetime(ldate).values.astype(int)\n",
    "ld = pd.to_datetime(ldate.mean())\n"
   ]
  },
  {
   "cell_type": "code",
   "execution_count": null,
   "metadata": {},
   "outputs": [],
   "source": [
    "# idate = indeed['date']\n",
    "# idate = pd.to_datetime(idate).values.astype(int)\n",
    "# ida = pd.to_datetime(idate.mean())\n",
    "# ild = "
   ]
  },
  {
   "cell_type": "code",
   "execution_count": null,
   "metadata": {},
   "outputs": [],
   "source": [
    "resulty['Date'] = ld"
   ]
  },
  {
   "cell_type": "code",
   "execution_count": null,
   "metadata": {},
   "outputs": [],
   "source": [
    "resulty = pd.DataFrame(Cdict, columns=['Tech','Percentage'])\n",
    "resulty = resulty.set_index('Tech',drop=True)"
   ]
  },
  {
   "cell_type": "code",
   "execution_count": null,
   "metadata": {},
   "outputs": [],
   "source": [
    "skills = st.selectbox('Skill Comparison: ', options=search_terms)\n",
    "\n",
    "\n",
    "plz1 = functions.compare(skills, resulty)\n",
    "plz2 = functions.compare(skills, total_resulty)\n",
    "df_test1 = pd.DataFrame(plz1)\n",
    "df_test2 = pd.DataFrame(plz2)\n",
    "df_test3 = df_test1.subtract(df_test2, fill_value=0)\n",
    "df_test3 = df_test3.reset_index()\n",
    "df_test3['Date'] = ld\n",
    "df_test3 = df_test3.rename(columns={'index':'Tech'})\n",
    "\n",
    "\n",
    "if st.button('Search: ', key=2):\n",
    "    st.dataframe(df_test3.style.highlight_max(axis=0))\n",
    "#     st.write(alt.Chart(df_test3).mark_bar(size=15).encode(x='Date', y='Percentage', color='Percentage').configure_view(strokeWidth=0,height=400,width=300))\n",
    "\n",
    "st.line_chart(df_test3)"
   ]
  },
  {
   "cell_type": "code",
   "execution_count": null,
   "metadata": {},
   "outputs": [],
   "source": []
  }
 ],
 "metadata": {
  "kernelspec": {
   "display_name": "Python [conda env:learn-env] *",
   "language": "python",
   "name": "conda-env-learn-env-py"
  },
  "language_info": {
   "codemirror_mode": {
    "name": "ipython",
    "version": 3
   },
   "file_extension": ".py",
   "mimetype": "text/x-python",
   "name": "python",
   "nbconvert_exporter": "python",
   "pygments_lexer": "ipython3",
   "version": "3.6.6"
  }
 },
 "nbformat": 4,
 "nbformat_minor": 2
}
