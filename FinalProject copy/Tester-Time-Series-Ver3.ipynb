{
 "cells": [
  {
   "cell_type": "code",
   "execution_count": 1,
   "metadata": {
    "ExecuteTime": {
     "end_time": "2019-12-18T16:24:59.674729Z",
     "start_time": "2019-12-18T16:24:58.093752Z"
    }
   },
   "outputs": [],
   "source": [
    "import nltk\n",
    "from nltk.corpus import stopwords\n",
    "import string\n",
    "from nltk import word_tokenize, FreqDist\n",
    "from sklearn.feature_extraction.text import TfidfVectorizer\n",
    "import matplotlib.pyplot as plt\n",
    "from datetime import datetime\n",
    "\n",
    "import pandas as pd \n",
    "import numpy as np\n",
    "from bs4 import BeautifulSoup\n",
    "import requests\n",
    "import json\n",
    "from time import sleep, time\n",
    "import lxml\n",
    "import re\n",
    "from urllib.parse import urljoin\n",
    "import unicodedata\n",
    "from collections import defaultdict, Counter\n",
    "import WebScrape_Indeed\n",
    "import WebScrape_LinkedIn\n",
    "import streamlit as st \n",
    "import terms \n",
    "import Cities \n",
    "import functions\n",
    "import time\n",
    "\n",
    "import plotly.graph_objects as go\n",
    "\n"
   ]
  },
  {
   "cell_type": "code",
   "execution_count": 2,
   "metadata": {
    "ExecuteTime": {
     "end_time": "2019-12-18T16:24:59.679972Z",
     "start_time": "2019-12-18T16:24:59.676809Z"
    }
   },
   "outputs": [],
   "source": [
    "def compare(word, result):\n",
    "    test = []\n",
    "    List1 = [x.lower() for x in word]\n",
    "    List2 = [x.lower() for x in result.index]\n",
    "    for x in List1:\n",
    "        if x in result.index: \n",
    "            test.append(result.loc[x])\n",
    "    return test"
   ]
  },
  {
   "cell_type": "code",
   "execution_count": 26,
   "metadata": {
    "ExecuteTime": {
     "end_time": "2019-12-18T16:41:41.986631Z",
     "start_time": "2019-12-18T16:41:41.743569Z"
    },
    "scrolled": false
   },
   "outputs": [
    {
     "data": {
      "application/vnd.plotly.v1+json": {
       "config": {
        "plotlyServerURL": "https://plot.ly"
       },
       "data": [
        {
         "type": "scatter",
         "x": [
          "12-08-2019",
          "12-08-2019",
          "12-08-2019",
          "12-09-2019",
          "12-09-2019",
          "12-09-2019",
          "12-11-2019",
          "12-11-2019",
          "12-11-2019",
          "12-13-2019",
          "12-13-2019",
          "12-13-2019",
          "12-13-2019",
          "12-13-2019",
          "12-13-2019",
          "12-18-2019",
          "12-18-2019",
          "12-18-2019",
          "12-18-2019",
          "12-18-2019",
          "12-18-2019",
          "12-18-2019",
          "12-18-2019",
          "12-18-2019",
          "12-18-2019",
          "12-18-2019",
          "12-18-2019",
          "12-18-2019",
          "12-18-2019",
          "12-18-2019"
         ],
         "y": [
          "1.396619253762111",
          "1.37475002261102",
          "1.3861971888451416",
          "1.2832405689548547",
          "1.300384889808962",
          "1.290315999918399",
          "0.5390641104926819",
          "0.53161020611201",
          "0.5355066402823395",
          "0.01507401340582259",
          "11.99891467103478",
          "12.00350884350966",
          "0.013260164426038884",
          "12.02020202020202",
          "0.012368583797155226",
          "10.412573673870334",
          "0.3284072249589491",
          "1.9704433497536946",
          "0.60207991242474",
          "0.3929273084479371",
          "0.09823182711198428",
          "1.9646365422396856",
          "0.13596193065941536",
          "11.692726036709722",
          "0.27192386131883073",
          "1.9714479945615229",
          "0.6118286879673691",
          "12.479474548440066",
          "0.19646365422396855",
          "0.16420361247947454"
         ]
        }
       ],
       "layout": {
        "template": {
         "data": {
          "bar": [
           {
            "error_x": {
             "color": "#2a3f5f"
            },
            "error_y": {
             "color": "#2a3f5f"
            },
            "marker": {
             "line": {
              "color": "#E5ECF6",
              "width": 0.5
             }
            },
            "type": "bar"
           }
          ],
          "barpolar": [
           {
            "marker": {
             "line": {
              "color": "#E5ECF6",
              "width": 0.5
             }
            },
            "type": "barpolar"
           }
          ],
          "carpet": [
           {
            "aaxis": {
             "endlinecolor": "#2a3f5f",
             "gridcolor": "white",
             "linecolor": "white",
             "minorgridcolor": "white",
             "startlinecolor": "#2a3f5f"
            },
            "baxis": {
             "endlinecolor": "#2a3f5f",
             "gridcolor": "white",
             "linecolor": "white",
             "minorgridcolor": "white",
             "startlinecolor": "#2a3f5f"
            },
            "type": "carpet"
           }
          ],
          "choropleth": [
           {
            "colorbar": {
             "outlinewidth": 0,
             "ticks": ""
            },
            "type": "choropleth"
           }
          ],
          "contour": [
           {
            "colorbar": {
             "outlinewidth": 0,
             "ticks": ""
            },
            "colorscale": [
             [
              0,
              "#0d0887"
             ],
             [
              0.1111111111111111,
              "#46039f"
             ],
             [
              0.2222222222222222,
              "#7201a8"
             ],
             [
              0.3333333333333333,
              "#9c179e"
             ],
             [
              0.4444444444444444,
              "#bd3786"
             ],
             [
              0.5555555555555556,
              "#d8576b"
             ],
             [
              0.6666666666666666,
              "#ed7953"
             ],
             [
              0.7777777777777778,
              "#fb9f3a"
             ],
             [
              0.8888888888888888,
              "#fdca26"
             ],
             [
              1,
              "#f0f921"
             ]
            ],
            "type": "contour"
           }
          ],
          "contourcarpet": [
           {
            "colorbar": {
             "outlinewidth": 0,
             "ticks": ""
            },
            "type": "contourcarpet"
           }
          ],
          "heatmap": [
           {
            "colorbar": {
             "outlinewidth": 0,
             "ticks": ""
            },
            "colorscale": [
             [
              0,
              "#0d0887"
             ],
             [
              0.1111111111111111,
              "#46039f"
             ],
             [
              0.2222222222222222,
              "#7201a8"
             ],
             [
              0.3333333333333333,
              "#9c179e"
             ],
             [
              0.4444444444444444,
              "#bd3786"
             ],
             [
              0.5555555555555556,
              "#d8576b"
             ],
             [
              0.6666666666666666,
              "#ed7953"
             ],
             [
              0.7777777777777778,
              "#fb9f3a"
             ],
             [
              0.8888888888888888,
              "#fdca26"
             ],
             [
              1,
              "#f0f921"
             ]
            ],
            "type": "heatmap"
           }
          ],
          "heatmapgl": [
           {
            "colorbar": {
             "outlinewidth": 0,
             "ticks": ""
            },
            "colorscale": [
             [
              0,
              "#0d0887"
             ],
             [
              0.1111111111111111,
              "#46039f"
             ],
             [
              0.2222222222222222,
              "#7201a8"
             ],
             [
              0.3333333333333333,
              "#9c179e"
             ],
             [
              0.4444444444444444,
              "#bd3786"
             ],
             [
              0.5555555555555556,
              "#d8576b"
             ],
             [
              0.6666666666666666,
              "#ed7953"
             ],
             [
              0.7777777777777778,
              "#fb9f3a"
             ],
             [
              0.8888888888888888,
              "#fdca26"
             ],
             [
              1,
              "#f0f921"
             ]
            ],
            "type": "heatmapgl"
           }
          ],
          "histogram": [
           {
            "marker": {
             "colorbar": {
              "outlinewidth": 0,
              "ticks": ""
             }
            },
            "type": "histogram"
           }
          ],
          "histogram2d": [
           {
            "colorbar": {
             "outlinewidth": 0,
             "ticks": ""
            },
            "colorscale": [
             [
              0,
              "#0d0887"
             ],
             [
              0.1111111111111111,
              "#46039f"
             ],
             [
              0.2222222222222222,
              "#7201a8"
             ],
             [
              0.3333333333333333,
              "#9c179e"
             ],
             [
              0.4444444444444444,
              "#bd3786"
             ],
             [
              0.5555555555555556,
              "#d8576b"
             ],
             [
              0.6666666666666666,
              "#ed7953"
             ],
             [
              0.7777777777777778,
              "#fb9f3a"
             ],
             [
              0.8888888888888888,
              "#fdca26"
             ],
             [
              1,
              "#f0f921"
             ]
            ],
            "type": "histogram2d"
           }
          ],
          "histogram2dcontour": [
           {
            "colorbar": {
             "outlinewidth": 0,
             "ticks": ""
            },
            "colorscale": [
             [
              0,
              "#0d0887"
             ],
             [
              0.1111111111111111,
              "#46039f"
             ],
             [
              0.2222222222222222,
              "#7201a8"
             ],
             [
              0.3333333333333333,
              "#9c179e"
             ],
             [
              0.4444444444444444,
              "#bd3786"
             ],
             [
              0.5555555555555556,
              "#d8576b"
             ],
             [
              0.6666666666666666,
              "#ed7953"
             ],
             [
              0.7777777777777778,
              "#fb9f3a"
             ],
             [
              0.8888888888888888,
              "#fdca26"
             ],
             [
              1,
              "#f0f921"
             ]
            ],
            "type": "histogram2dcontour"
           }
          ],
          "mesh3d": [
           {
            "colorbar": {
             "outlinewidth": 0,
             "ticks": ""
            },
            "type": "mesh3d"
           }
          ],
          "parcoords": [
           {
            "line": {
             "colorbar": {
              "outlinewidth": 0,
              "ticks": ""
             }
            },
            "type": "parcoords"
           }
          ],
          "scatter": [
           {
            "marker": {
             "colorbar": {
              "outlinewidth": 0,
              "ticks": ""
             }
            },
            "type": "scatter"
           }
          ],
          "scatter3d": [
           {
            "line": {
             "colorbar": {
              "outlinewidth": 0,
              "ticks": ""
             }
            },
            "marker": {
             "colorbar": {
              "outlinewidth": 0,
              "ticks": ""
             }
            },
            "type": "scatter3d"
           }
          ],
          "scattercarpet": [
           {
            "marker": {
             "colorbar": {
              "outlinewidth": 0,
              "ticks": ""
             }
            },
            "type": "scattercarpet"
           }
          ],
          "scattergeo": [
           {
            "marker": {
             "colorbar": {
              "outlinewidth": 0,
              "ticks": ""
             }
            },
            "type": "scattergeo"
           }
          ],
          "scattergl": [
           {
            "marker": {
             "colorbar": {
              "outlinewidth": 0,
              "ticks": ""
             }
            },
            "type": "scattergl"
           }
          ],
          "scattermapbox": [
           {
            "marker": {
             "colorbar": {
              "outlinewidth": 0,
              "ticks": ""
             }
            },
            "type": "scattermapbox"
           }
          ],
          "scatterpolar": [
           {
            "marker": {
             "colorbar": {
              "outlinewidth": 0,
              "ticks": ""
             }
            },
            "type": "scatterpolar"
           }
          ],
          "scatterpolargl": [
           {
            "marker": {
             "colorbar": {
              "outlinewidth": 0,
              "ticks": ""
             }
            },
            "type": "scatterpolargl"
           }
          ],
          "scatterternary": [
           {
            "marker": {
             "colorbar": {
              "outlinewidth": 0,
              "ticks": ""
             }
            },
            "type": "scatterternary"
           }
          ],
          "surface": [
           {
            "colorbar": {
             "outlinewidth": 0,
             "ticks": ""
            },
            "colorscale": [
             [
              0,
              "#0d0887"
             ],
             [
              0.1111111111111111,
              "#46039f"
             ],
             [
              0.2222222222222222,
              "#7201a8"
             ],
             [
              0.3333333333333333,
              "#9c179e"
             ],
             [
              0.4444444444444444,
              "#bd3786"
             ],
             [
              0.5555555555555556,
              "#d8576b"
             ],
             [
              0.6666666666666666,
              "#ed7953"
             ],
             [
              0.7777777777777778,
              "#fb9f3a"
             ],
             [
              0.8888888888888888,
              "#fdca26"
             ],
             [
              1,
              "#f0f921"
             ]
            ],
            "type": "surface"
           }
          ],
          "table": [
           {
            "cells": {
             "fill": {
              "color": "#EBF0F8"
             },
             "line": {
              "color": "white"
             }
            },
            "header": {
             "fill": {
              "color": "#C8D4E3"
             },
             "line": {
              "color": "white"
             }
            },
            "type": "table"
           }
          ]
         },
         "layout": {
          "annotationdefaults": {
           "arrowcolor": "#2a3f5f",
           "arrowhead": 0,
           "arrowwidth": 1
          },
          "colorscale": {
           "diverging": [
            [
             0,
             "#8e0152"
            ],
            [
             0.1,
             "#c51b7d"
            ],
            [
             0.2,
             "#de77ae"
            ],
            [
             0.3,
             "#f1b6da"
            ],
            [
             0.4,
             "#fde0ef"
            ],
            [
             0.5,
             "#f7f7f7"
            ],
            [
             0.6,
             "#e6f5d0"
            ],
            [
             0.7,
             "#b8e186"
            ],
            [
             0.8,
             "#7fbc41"
            ],
            [
             0.9,
             "#4d9221"
            ],
            [
             1,
             "#276419"
            ]
           ],
           "sequential": [
            [
             0,
             "#0d0887"
            ],
            [
             0.1111111111111111,
             "#46039f"
            ],
            [
             0.2222222222222222,
             "#7201a8"
            ],
            [
             0.3333333333333333,
             "#9c179e"
            ],
            [
             0.4444444444444444,
             "#bd3786"
            ],
            [
             0.5555555555555556,
             "#d8576b"
            ],
            [
             0.6666666666666666,
             "#ed7953"
            ],
            [
             0.7777777777777778,
             "#fb9f3a"
            ],
            [
             0.8888888888888888,
             "#fdca26"
            ],
            [
             1,
             "#f0f921"
            ]
           ],
           "sequentialminus": [
            [
             0,
             "#0d0887"
            ],
            [
             0.1111111111111111,
             "#46039f"
            ],
            [
             0.2222222222222222,
             "#7201a8"
            ],
            [
             0.3333333333333333,
             "#9c179e"
            ],
            [
             0.4444444444444444,
             "#bd3786"
            ],
            [
             0.5555555555555556,
             "#d8576b"
            ],
            [
             0.6666666666666666,
             "#ed7953"
            ],
            [
             0.7777777777777778,
             "#fb9f3a"
            ],
            [
             0.8888888888888888,
             "#fdca26"
            ],
            [
             1,
             "#f0f921"
            ]
           ]
          },
          "colorway": [
           "#636efa",
           "#EF553B",
           "#00cc96",
           "#ab63fa",
           "#FFA15A",
           "#19d3f3",
           "#FF6692",
           "#B6E880",
           "#FF97FF",
           "#FECB52"
          ],
          "font": {
           "color": "#2a3f5f"
          },
          "geo": {
           "bgcolor": "white",
           "lakecolor": "white",
           "landcolor": "#E5ECF6",
           "showlakes": true,
           "showland": true,
           "subunitcolor": "white"
          },
          "hoverlabel": {
           "align": "left"
          },
          "hovermode": "closest",
          "mapbox": {
           "style": "light"
          },
          "paper_bgcolor": "white",
          "plot_bgcolor": "#E5ECF6",
          "polar": {
           "angularaxis": {
            "gridcolor": "white",
            "linecolor": "white",
            "ticks": ""
           },
           "bgcolor": "#E5ECF6",
           "radialaxis": {
            "gridcolor": "white",
            "linecolor": "white",
            "ticks": ""
           }
          },
          "scene": {
           "xaxis": {
            "backgroundcolor": "#E5ECF6",
            "gridcolor": "white",
            "gridwidth": 2,
            "linecolor": "white",
            "showbackground": true,
            "ticks": "",
            "zerolinecolor": "white"
           },
           "yaxis": {
            "backgroundcolor": "#E5ECF6",
            "gridcolor": "white",
            "gridwidth": 2,
            "linecolor": "white",
            "showbackground": true,
            "ticks": "",
            "zerolinecolor": "white"
           },
           "zaxis": {
            "backgroundcolor": "#E5ECF6",
            "gridcolor": "white",
            "gridwidth": 2,
            "linecolor": "white",
            "showbackground": true,
            "ticks": "",
            "zerolinecolor": "white"
           }
          },
          "shapedefaults": {
           "line": {
            "color": "#2a3f5f"
           }
          },
          "ternary": {
           "aaxis": {
            "gridcolor": "white",
            "linecolor": "white",
            "ticks": ""
           },
           "baxis": {
            "gridcolor": "white",
            "linecolor": "white",
            "ticks": ""
           },
           "bgcolor": "#E5ECF6",
           "caxis": {
            "gridcolor": "white",
            "linecolor": "white",
            "ticks": ""
           }
          },
          "title": {
           "x": 0.05
          },
          "xaxis": {
           "automargin": true,
           "gridcolor": "white",
           "linecolor": "white",
           "ticks": "",
           "zerolinecolor": "white",
           "zerolinewidth": 2
          },
          "yaxis": {
           "automargin": true,
           "gridcolor": "white",
           "linecolor": "white",
           "ticks": "",
           "zerolinecolor": "white",
           "zerolinewidth": 2
          }
         }
        },
        "xaxis": {
         "tickangle": -45
        }
       }
      },
      "text/html": [
       "<div>\n",
       "        \n",
       "        \n",
       "            <div id=\"1843d65d-f279-430f-8d03-6b85e6faf9e7\" class=\"plotly-graph-div\" style=\"height:525px; width:100%;\"></div>\n",
       "            <script type=\"text/javascript\">\n",
       "                require([\"plotly\"], function(Plotly) {\n",
       "                    window.PLOTLYENV=window.PLOTLYENV || {};\n",
       "                    \n",
       "                if (document.getElementById(\"1843d65d-f279-430f-8d03-6b85e6faf9e7\")) {\n",
       "                    Plotly.newPlot(\n",
       "                        '1843d65d-f279-430f-8d03-6b85e6faf9e7',\n",
       "                        [{\"type\": \"scatter\", \"x\": [\"12-08-2019\", \"12-08-2019\", \"12-08-2019\", \"12-09-2019\", \"12-09-2019\", \"12-09-2019\", \"12-11-2019\", \"12-11-2019\", \"12-11-2019\", \"12-13-2019\", \"12-13-2019\", \"12-13-2019\", \"12-13-2019\", \"12-13-2019\", \"12-13-2019\", \"12-18-2019\", \"12-18-2019\", \"12-18-2019\", \"12-18-2019\", \"12-18-2019\", \"12-18-2019\", \"12-18-2019\", \"12-18-2019\", \"12-18-2019\", \"12-18-2019\", \"12-18-2019\", \"12-18-2019\", \"12-18-2019\", \"12-18-2019\", \"12-18-2019\"], \"y\": [\"1.396619253762111\", \"1.37475002261102\", \"1.3861971888451416\", \"1.2832405689548547\", \"1.300384889808962\", \"1.290315999918399\", \"0.5390641104926819\", \"0.53161020611201\", \"0.5355066402823395\", \"0.01507401340582259\", \"11.99891467103478\", \"12.00350884350966\", \"0.013260164426038884\", \"12.02020202020202\", \"0.012368583797155226\", \"10.412573673870334\", \"0.3284072249589491\", \"1.9704433497536946\", \"0.60207991242474\", \"0.3929273084479371\", \"0.09823182711198428\", \"1.9646365422396856\", \"0.13596193065941536\", \"11.692726036709722\", \"0.27192386131883073\", \"1.9714479945615229\", \"0.6118286879673691\", \"12.479474548440066\", \"0.19646365422396855\", \"0.16420361247947454\"]}],\n",
       "                        {\"template\": {\"data\": {\"bar\": [{\"error_x\": {\"color\": \"#2a3f5f\"}, \"error_y\": {\"color\": \"#2a3f5f\"}, \"marker\": {\"line\": {\"color\": \"#E5ECF6\", \"width\": 0.5}}, \"type\": \"bar\"}], \"barpolar\": [{\"marker\": {\"line\": {\"color\": \"#E5ECF6\", \"width\": 0.5}}, \"type\": \"barpolar\"}], \"carpet\": [{\"aaxis\": {\"endlinecolor\": \"#2a3f5f\", \"gridcolor\": \"white\", \"linecolor\": \"white\", \"minorgridcolor\": \"white\", \"startlinecolor\": \"#2a3f5f\"}, \"baxis\": {\"endlinecolor\": \"#2a3f5f\", \"gridcolor\": \"white\", \"linecolor\": \"white\", \"minorgridcolor\": \"white\", \"startlinecolor\": \"#2a3f5f\"}, \"type\": \"carpet\"}], \"choropleth\": [{\"colorbar\": {\"outlinewidth\": 0, \"ticks\": \"\"}, \"type\": \"choropleth\"}], \"contour\": [{\"colorbar\": {\"outlinewidth\": 0, \"ticks\": \"\"}, \"colorscale\": [[0.0, \"#0d0887\"], [0.1111111111111111, \"#46039f\"], [0.2222222222222222, \"#7201a8\"], [0.3333333333333333, \"#9c179e\"], [0.4444444444444444, \"#bd3786\"], [0.5555555555555556, \"#d8576b\"], [0.6666666666666666, \"#ed7953\"], [0.7777777777777778, \"#fb9f3a\"], [0.8888888888888888, \"#fdca26\"], [1.0, \"#f0f921\"]], \"type\": \"contour\"}], \"contourcarpet\": [{\"colorbar\": {\"outlinewidth\": 0, \"ticks\": \"\"}, \"type\": \"contourcarpet\"}], \"heatmap\": [{\"colorbar\": {\"outlinewidth\": 0, \"ticks\": \"\"}, \"colorscale\": [[0.0, \"#0d0887\"], [0.1111111111111111, \"#46039f\"], [0.2222222222222222, \"#7201a8\"], [0.3333333333333333, \"#9c179e\"], [0.4444444444444444, \"#bd3786\"], [0.5555555555555556, \"#d8576b\"], [0.6666666666666666, \"#ed7953\"], [0.7777777777777778, \"#fb9f3a\"], [0.8888888888888888, \"#fdca26\"], [1.0, \"#f0f921\"]], \"type\": \"heatmap\"}], \"heatmapgl\": [{\"colorbar\": {\"outlinewidth\": 0, \"ticks\": \"\"}, \"colorscale\": [[0.0, \"#0d0887\"], [0.1111111111111111, \"#46039f\"], [0.2222222222222222, \"#7201a8\"], [0.3333333333333333, \"#9c179e\"], [0.4444444444444444, \"#bd3786\"], [0.5555555555555556, \"#d8576b\"], [0.6666666666666666, \"#ed7953\"], [0.7777777777777778, \"#fb9f3a\"], [0.8888888888888888, \"#fdca26\"], [1.0, \"#f0f921\"]], \"type\": \"heatmapgl\"}], \"histogram\": [{\"marker\": {\"colorbar\": {\"outlinewidth\": 0, \"ticks\": \"\"}}, \"type\": \"histogram\"}], \"histogram2d\": [{\"colorbar\": {\"outlinewidth\": 0, \"ticks\": \"\"}, \"colorscale\": [[0.0, \"#0d0887\"], [0.1111111111111111, \"#46039f\"], [0.2222222222222222, \"#7201a8\"], [0.3333333333333333, \"#9c179e\"], [0.4444444444444444, \"#bd3786\"], [0.5555555555555556, \"#d8576b\"], [0.6666666666666666, \"#ed7953\"], [0.7777777777777778, \"#fb9f3a\"], [0.8888888888888888, \"#fdca26\"], [1.0, \"#f0f921\"]], \"type\": \"histogram2d\"}], \"histogram2dcontour\": [{\"colorbar\": {\"outlinewidth\": 0, \"ticks\": \"\"}, \"colorscale\": [[0.0, \"#0d0887\"], [0.1111111111111111, \"#46039f\"], [0.2222222222222222, \"#7201a8\"], [0.3333333333333333, \"#9c179e\"], [0.4444444444444444, \"#bd3786\"], [0.5555555555555556, \"#d8576b\"], [0.6666666666666666, \"#ed7953\"], [0.7777777777777778, \"#fb9f3a\"], [0.8888888888888888, \"#fdca26\"], [1.0, \"#f0f921\"]], \"type\": \"histogram2dcontour\"}], \"mesh3d\": [{\"colorbar\": {\"outlinewidth\": 0, \"ticks\": \"\"}, \"type\": \"mesh3d\"}], \"parcoords\": [{\"line\": {\"colorbar\": {\"outlinewidth\": 0, \"ticks\": \"\"}}, \"type\": \"parcoords\"}], \"scatter\": [{\"marker\": {\"colorbar\": {\"outlinewidth\": 0, \"ticks\": \"\"}}, \"type\": \"scatter\"}], \"scatter3d\": [{\"line\": {\"colorbar\": {\"outlinewidth\": 0, \"ticks\": \"\"}}, \"marker\": {\"colorbar\": {\"outlinewidth\": 0, \"ticks\": \"\"}}, \"type\": \"scatter3d\"}], \"scattercarpet\": [{\"marker\": {\"colorbar\": {\"outlinewidth\": 0, \"ticks\": \"\"}}, \"type\": \"scattercarpet\"}], \"scattergeo\": [{\"marker\": {\"colorbar\": {\"outlinewidth\": 0, \"ticks\": \"\"}}, \"type\": \"scattergeo\"}], \"scattergl\": [{\"marker\": {\"colorbar\": {\"outlinewidth\": 0, \"ticks\": \"\"}}, \"type\": \"scattergl\"}], \"scattermapbox\": [{\"marker\": {\"colorbar\": {\"outlinewidth\": 0, \"ticks\": \"\"}}, \"type\": \"scattermapbox\"}], \"scatterpolar\": [{\"marker\": {\"colorbar\": {\"outlinewidth\": 0, \"ticks\": \"\"}}, \"type\": \"scatterpolar\"}], \"scatterpolargl\": [{\"marker\": {\"colorbar\": {\"outlinewidth\": 0, \"ticks\": \"\"}}, \"type\": \"scatterpolargl\"}], \"scatterternary\": [{\"marker\": {\"colorbar\": {\"outlinewidth\": 0, \"ticks\": \"\"}}, \"type\": \"scatterternary\"}], \"surface\": [{\"colorbar\": {\"outlinewidth\": 0, \"ticks\": \"\"}, \"colorscale\": [[0.0, \"#0d0887\"], [0.1111111111111111, \"#46039f\"], [0.2222222222222222, \"#7201a8\"], [0.3333333333333333, \"#9c179e\"], [0.4444444444444444, \"#bd3786\"], [0.5555555555555556, \"#d8576b\"], [0.6666666666666666, \"#ed7953\"], [0.7777777777777778, \"#fb9f3a\"], [0.8888888888888888, \"#fdca26\"], [1.0, \"#f0f921\"]], \"type\": \"surface\"}], \"table\": [{\"cells\": {\"fill\": {\"color\": \"#EBF0F8\"}, \"line\": {\"color\": \"white\"}}, \"header\": {\"fill\": {\"color\": \"#C8D4E3\"}, \"line\": {\"color\": \"white\"}}, \"type\": \"table\"}]}, \"layout\": {\"annotationdefaults\": {\"arrowcolor\": \"#2a3f5f\", \"arrowhead\": 0, \"arrowwidth\": 1}, \"colorscale\": {\"diverging\": [[0, \"#8e0152\"], [0.1, \"#c51b7d\"], [0.2, \"#de77ae\"], [0.3, \"#f1b6da\"], [0.4, \"#fde0ef\"], [0.5, \"#f7f7f7\"], [0.6, \"#e6f5d0\"], [0.7, \"#b8e186\"], [0.8, \"#7fbc41\"], [0.9, \"#4d9221\"], [1, \"#276419\"]], \"sequential\": [[0.0, \"#0d0887\"], [0.1111111111111111, \"#46039f\"], [0.2222222222222222, \"#7201a8\"], [0.3333333333333333, \"#9c179e\"], [0.4444444444444444, \"#bd3786\"], [0.5555555555555556, \"#d8576b\"], [0.6666666666666666, \"#ed7953\"], [0.7777777777777778, \"#fb9f3a\"], [0.8888888888888888, \"#fdca26\"], [1.0, \"#f0f921\"]], \"sequentialminus\": [[0.0, \"#0d0887\"], [0.1111111111111111, \"#46039f\"], [0.2222222222222222, \"#7201a8\"], [0.3333333333333333, \"#9c179e\"], [0.4444444444444444, \"#bd3786\"], [0.5555555555555556, \"#d8576b\"], [0.6666666666666666, \"#ed7953\"], [0.7777777777777778, \"#fb9f3a\"], [0.8888888888888888, \"#fdca26\"], [1.0, \"#f0f921\"]]}, \"colorway\": [\"#636efa\", \"#EF553B\", \"#00cc96\", \"#ab63fa\", \"#FFA15A\", \"#19d3f3\", \"#FF6692\", \"#B6E880\", \"#FF97FF\", \"#FECB52\"], \"font\": {\"color\": \"#2a3f5f\"}, \"geo\": {\"bgcolor\": \"white\", \"lakecolor\": \"white\", \"landcolor\": \"#E5ECF6\", \"showlakes\": true, \"showland\": true, \"subunitcolor\": \"white\"}, \"hoverlabel\": {\"align\": \"left\"}, \"hovermode\": \"closest\", \"mapbox\": {\"style\": \"light\"}, \"paper_bgcolor\": \"white\", \"plot_bgcolor\": \"#E5ECF6\", \"polar\": {\"angularaxis\": {\"gridcolor\": \"white\", \"linecolor\": \"white\", \"ticks\": \"\"}, \"bgcolor\": \"#E5ECF6\", \"radialaxis\": {\"gridcolor\": \"white\", \"linecolor\": \"white\", \"ticks\": \"\"}}, \"scene\": {\"xaxis\": {\"backgroundcolor\": \"#E5ECF6\", \"gridcolor\": \"white\", \"gridwidth\": 2, \"linecolor\": \"white\", \"showbackground\": true, \"ticks\": \"\", \"zerolinecolor\": \"white\"}, \"yaxis\": {\"backgroundcolor\": \"#E5ECF6\", \"gridcolor\": \"white\", \"gridwidth\": 2, \"linecolor\": \"white\", \"showbackground\": true, \"ticks\": \"\", \"zerolinecolor\": \"white\"}, \"zaxis\": {\"backgroundcolor\": \"#E5ECF6\", \"gridcolor\": \"white\", \"gridwidth\": 2, \"linecolor\": \"white\", \"showbackground\": true, \"ticks\": \"\", \"zerolinecolor\": \"white\"}}, \"shapedefaults\": {\"line\": {\"color\": \"#2a3f5f\"}}, \"ternary\": {\"aaxis\": {\"gridcolor\": \"white\", \"linecolor\": \"white\", \"ticks\": \"\"}, \"baxis\": {\"gridcolor\": \"white\", \"linecolor\": \"white\", \"ticks\": \"\"}, \"bgcolor\": \"#E5ECF6\", \"caxis\": {\"gridcolor\": \"white\", \"linecolor\": \"white\", \"ticks\": \"\"}}, \"title\": {\"x\": 0.05}, \"xaxis\": {\"automargin\": true, \"gridcolor\": \"white\", \"linecolor\": \"white\", \"ticks\": \"\", \"zerolinecolor\": \"white\", \"zerolinewidth\": 2}, \"yaxis\": {\"automargin\": true, \"gridcolor\": \"white\", \"linecolor\": \"white\", \"ticks\": \"\", \"zerolinecolor\": \"white\", \"zerolinewidth\": 2}}}, \"xaxis\": {\"tickangle\": -45}},\n",
       "                        {\"responsive\": true}\n",
       "                    ).then(function(){\n",
       "                            \n",
       "var gd = document.getElementById('1843d65d-f279-430f-8d03-6b85e6faf9e7');\n",
       "var x = new MutationObserver(function (mutations, observer) {{\n",
       "        var display = window.getComputedStyle(gd).display;\n",
       "        if (!display || display === 'none') {{\n",
       "            console.log([gd, 'removed!']);\n",
       "            Plotly.purge(gd);\n",
       "            observer.disconnect();\n",
       "        }}\n",
       "}});\n",
       "\n",
       "// Listen for the removal of the full notebook cells\n",
       "var notebookContainer = gd.closest('#notebook-container');\n",
       "if (notebookContainer) {{\n",
       "    x.observe(notebookContainer, {childList: true});\n",
       "}}\n",
       "\n",
       "// Listen for the clearing of the current output cell\n",
       "var outputEl = gd.closest('.output');\n",
       "if (outputEl) {{\n",
       "    x.observe(outputEl, {childList: true});\n",
       "}}\n",
       "\n",
       "                        })\n",
       "                };\n",
       "                });\n",
       "            </script>\n",
       "        </div>"
      ]
     },
     "metadata": {},
     "output_type": "display_data"
    }
   ],
   "source": [
    "time_series = pd.read_csv('time_series.csv')\n",
    "option ='Data Engineer'\n",
    "skill = 'SQL'\n",
    "\n",
    "ts_graph = time_series[time_series['Title'].astype(str).str.contains(option)]\n",
    "ts_graph2 = ts_graph[ts_graph['Tech'].astype(str).str.contains(skill.lower())]\n",
    "ts_graph2 = ts_graph2.sort_values(by='Date')\n",
    "fig = go.Figure(data=[go.Scatter(x=ts_graph2.Date,y=ts_graph2['Percentage'])])\n",
    "fig.update_layout(xaxis_tickangle=-45)                \n",
    "fig.show()"
   ]
  },
  {
   "cell_type": "code",
   "execution_count": 58,
   "metadata": {
    "ExecuteTime": {
     "end_time": "2019-12-18T16:55:58.053575Z",
     "start_time": "2019-12-18T16:55:58.040270Z"
    }
   },
   "outputs": [
    {
     "ename": "TypeError",
     "evalue": "unsupported operand type(s) for +: 'int' and 'str'",
     "output_type": "error",
     "traceback": [
      "\u001b[0;31m---------------------------------------------------------------------------\u001b[0m",
      "\u001b[0;31mTypeError\u001b[0m                                 Traceback (most recent call last)",
      "\u001b[0;32m<ipython-input-58-fad2942ef6ee>\u001b[0m in \u001b[0;36m<module>\u001b[0;34m()\u001b[0m\n\u001b[0;32m----> 1\u001b[0;31m \u001b[0mt\u001b[0m \u001b[0;34m=\u001b[0m \u001b[0msum\u001b[0m\u001b[0;34m(\u001b[0m\u001b[0mts_graph2\u001b[0m\u001b[0;34m.\u001b[0m\u001b[0mPercentage\u001b[0m\u001b[0;34m)\u001b[0m\u001b[0;34m\u001b[0m\u001b[0m\n\u001b[0m\u001b[1;32m      2\u001b[0m \u001b[0ms\u001b[0m \u001b[0;34m=\u001b[0m \u001b[0mmin\u001b[0m\u001b[0;34m(\u001b[0m\u001b[0mts_graph2\u001b[0m\u001b[0;34m.\u001b[0m\u001b[0mPercentage\u001b[0m\u001b[0;34m)\u001b[0m\u001b[0;34m\u001b[0m\u001b[0m\n",
      "\u001b[0;31mTypeError\u001b[0m: unsupported operand type(s) for +: 'int' and 'str'"
     ]
    }
   ],
   "source": [
    "t = sum(ts_graph2.Percentage)\n",
    "s = min(ts_graph2.Percentage)\n"
   ]
  },
  {
   "cell_type": "code",
   "execution_count": 52,
   "metadata": {
    "ExecuteTime": {
     "end_time": "2019-12-18T16:52:46.239210Z",
     "start_time": "2019-12-18T16:52:46.235694Z"
    }
   },
   "outputs": [
    {
     "data": {
      "text/plain": [
       "'0.012368583797155226'"
      ]
     },
     "execution_count": 52,
     "metadata": {},
     "output_type": "execute_result"
    }
   ],
   "source": [
    "s"
   ]
  },
  {
   "cell_type": "code",
   "execution_count": 49,
   "metadata": {
    "ExecuteTime": {
     "end_time": "2019-12-18T16:51:57.558115Z",
     "start_time": "2019-12-18T16:51:57.544763Z"
    }
   },
   "outputs": [
    {
     "ename": "ValueError",
     "evalue": "could not convert string to float: '705        1.396619253762111\\n1077        1.37475002261102\\n890       1.3861971888451416\\n710       1.2832405689548547\\n1082       1.300384889808962\\n895        1.290315999918399\\n721       0.5390641104926819\\n1093        0.53161020611201\\n906       0.5355066402823395\\n1109     0.01507401340582259\\n1108       11.99891467103478\\n921        12.00350884350966\\n922     0.013260164426038884\\n736        12.02020202020202\\n737     0.012368583797155226\\n820       10.412573673870334\\n1185      0.3284072249589491\\n1176      1.9704433497536946\\n1172        0.60207991242474\\n797       0.3929273084479371\\n821      0.09823182711198428\\n801       1.9646365422396856\\n1008     0.13596193065941536\\n1007      11.692726036709722\\n997      0.27192386131883073\\n988       1.9714479945615229\\n984       0.6118286879673691\\n1195      12.479474548440066\\n810      0.19646365422396855\\n1196     0.16420361247947454\\nName: Percentage, dtype: object'",
     "output_type": "error",
     "traceback": [
      "\u001b[0;31m---------------------------------------------------------------------------\u001b[0m",
      "\u001b[0;31mValueError\u001b[0m                                Traceback (most recent call last)",
      "\u001b[0;32m<ipython-input-49-13e301153e10>\u001b[0m in \u001b[0;36m<module>\u001b[0;34m()\u001b[0m\n\u001b[0;32m----> 1\u001b[0;31m \u001b[0mts\u001b[0m \u001b[0;34m=\u001b[0m \u001b[0mfloat\u001b[0m\u001b[0;34m(\u001b[0m\u001b[0mt\u001b[0m\u001b[0;34m)\u001b[0m\u001b[0;34m\u001b[0m\u001b[0m\n\u001b[0m",
      "\u001b[0;31mValueError\u001b[0m: could not convert string to float: '705        1.396619253762111\\n1077        1.37475002261102\\n890       1.3861971888451416\\n710       1.2832405689548547\\n1082       1.300384889808962\\n895        1.290315999918399\\n721       0.5390641104926819\\n1093        0.53161020611201\\n906       0.5355066402823395\\n1109     0.01507401340582259\\n1108       11.99891467103478\\n921        12.00350884350966\\n922     0.013260164426038884\\n736        12.02020202020202\\n737     0.012368583797155226\\n820       10.412573673870334\\n1185      0.3284072249589491\\n1176      1.9704433497536946\\n1172        0.60207991242474\\n797       0.3929273084479371\\n821      0.09823182711198428\\n801       1.9646365422396856\\n1008     0.13596193065941536\\n1007      11.692726036709722\\n997      0.27192386131883073\\n988       1.9714479945615229\\n984       0.6118286879673691\\n1195      12.479474548440066\\n810      0.19646365422396855\\n1196     0.16420361247947454\\nName: Percentage, dtype: object'"
     ]
    }
   ],
   "source": [
    "ts = float(t)"
   ]
  },
  {
   "cell_type": "code",
   "execution_count": 47,
   "metadata": {
    "ExecuteTime": {
     "end_time": "2019-12-18T16:51:37.663234Z",
     "start_time": "2019-12-18T16:51:37.659263Z"
    }
   },
   "outputs": [
    {
     "data": {
      "text/plain": [
       "12.479474548440066"
      ]
     },
     "execution_count": 47,
     "metadata": {},
     "output_type": "execute_result"
    }
   ],
   "source": [
    "ts"
   ]
  },
  {
   "cell_type": "code",
   "execution_count": 56,
   "metadata": {
    "ExecuteTime": {
     "end_time": "2019-12-18T16:55:24.224815Z",
     "start_time": "2019-12-18T16:55:24.221844Z"
    }
   },
   "outputs": [],
   "source": [
    "v = ts_graph2.groupby(['Date'], as_index=False)"
   ]
  },
  {
   "cell_type": "code",
   "execution_count": 57,
   "metadata": {
    "ExecuteTime": {
     "end_time": "2019-12-18T16:55:27.061162Z",
     "start_time": "2019-12-18T16:55:27.057480Z"
    }
   },
   "outputs": [
    {
     "data": {
      "text/plain": [
       "<pandas.core.groupby.generic.DataFrameGroupBy object at 0x1377b9828>"
      ]
     },
     "execution_count": 57,
     "metadata": {},
     "output_type": "execute_result"
    }
   ],
   "source": [
    "v"
   ]
  },
  {
   "cell_type": "code",
   "execution_count": 29,
   "metadata": {
    "ExecuteTime": {
     "end_time": "2019-12-18T16:42:42.140013Z",
     "start_time": "2019-12-18T16:42:42.136017Z"
    }
   },
   "outputs": [
    {
     "data": {
      "text/plain": [
       "<pandas.core.groupby.generic.DataFrameGroupBy object at 0x134f57eb8>"
      ]
     },
     "execution_count": 29,
     "metadata": {},
     "output_type": "execute_result"
    }
   ],
   "source": [
    "t"
   ]
  },
  {
   "cell_type": "code",
   "execution_count": 61,
   "metadata": {
    "ExecuteTime": {
     "end_time": "2019-12-18T16:58:00.012240Z",
     "start_time": "2019-12-18T16:58:00.009555Z"
    }
   },
   "outputs": [],
   "source": [
    "ind = \"https://www.indeed.com/jobs?q=title%3A(%22data+engineer%22)&l=United+States&sort=date\"  \n",
    "li = \"https://www.linkedin.com/jobs/search?keywords=machine%20learning&location=United%20States&trk=guest_job_search_jobs-search-bar_search-submit&redirect=false&position=1&pageNum=0&f_TP=1%2C2\""
   ]
  },
  {
   "cell_type": "code",
   "execution_count": 62,
   "metadata": {
    "ExecuteTime": {
     "end_time": "2019-12-18T16:58:35.092417Z",
     "start_time": "2019-12-18T16:58:00.707042Z"
    }
   },
   "outputs": [],
   "source": [
    "indeed = WebScrape_Indeed.extract_title(ind) "
   ]
  },
  {
   "cell_type": "code",
   "execution_count": 63,
   "metadata": {
    "ExecuteTime": {
     "end_time": "2019-12-18T16:58:35.098069Z",
     "start_time": "2019-12-18T16:58:35.094899Z"
    }
   },
   "outputs": [],
   "source": [
    "# data_li = linkedin['description']\n",
    "# data_len = len(data_li)\n",
    "# data_li2 = functions.clean(data_li)\n",
    "# test1 = functions.word_count(data_li2)\n",
    "# c_let = functions.cleanC(data_li)\n",
    "# c_p = functions.C_plus(c_let)\n",
    "# c_s = functions.C_sharp(c_let)\n",
    "# test1a = Counter(c_p) + Counter(c_s)"
   ]
  },
  {
   "cell_type": "code",
   "execution_count": 64,
   "metadata": {
    "ExecuteTime": {
     "end_time": "2019-12-18T16:58:35.122166Z",
     "start_time": "2019-12-18T16:58:35.100068Z"
    }
   },
   "outputs": [],
   "source": [
    "data_ind = indeed['description']\n",
    "data_len2 = len(data_ind)\n",
    "data_ind2 = functions.clean(data_ind)\n",
    "test2 = functions.word_count(data_ind2)\n",
    "c_let2 = functions.cleanC(data_ind)\n",
    "c_p2 = functions.C_plus(c_let2)\n",
    "c_s2 = functions.C_sharp(c_let2)\n",
    "test2a = Counter(c_p2) + Counter(c_s2)\n",
    "web_len = data_len2"
   ]
  },
  {
   "cell_type": "code",
   "execution_count": 65,
   "metadata": {
    "ExecuteTime": {
     "end_time": "2019-12-18T16:58:35.127294Z",
     "start_time": "2019-12-18T16:58:35.124176Z"
    }
   },
   "outputs": [],
   "source": [
    "c = Counter(test2) + Counter(test2a)\n",
    "total = sum(c.values())\n",
    "Cdict = [(i, c[i] / total * 100.0) for i in c]"
   ]
  },
  {
   "cell_type": "code",
   "execution_count": 70,
   "metadata": {
    "ExecuteTime": {
     "end_time": "2019-12-18T16:59:28.420278Z",
     "start_time": "2019-12-18T16:59:28.415193Z"
    }
   },
   "outputs": [
    {
     "data": {
      "text/plain": [
       "[('aws', 5.88235294117647),\n",
       " ('airflow', 0.53475935828877),\n",
       " ('angular', 0.53475935828877),\n",
       " ('apache', 0.53475935828877),\n",
       " ('azure', 1.06951871657754),\n",
       " ('bash', 1.06951871657754),\n",
       " ('cassandra', 1.6042780748663104),\n",
       " ('chef', 0.53475935828877),\n",
       " ('gcp', 0.53475935828877),\n",
       " ('hadoop', 6.951871657754011),\n",
       " ('hbase', 2.6737967914438503),\n",
       " ('hive', 4.27807486631016),\n",
       " ('intellij', 0.53475935828877),\n",
       " ('java', 7.4866310160427805),\n",
       " ('linux', 1.6042780748663104),\n",
       " ('mariadb', 0.53475935828877),\n",
       " ('matlab', 0.53475935828877),\n",
       " ('microsoft', 1.06951871657754),\n",
       " ('mongodb', 1.06951871657754),\n",
       " ('mysql', 1.06951871657754),\n",
       " ('net', 0.53475935828877),\n",
       " ('netbeans', 0.53475935828877),\n",
       " ('nosql', 3.7433155080213902),\n",
       " ('node', 1.06951871657754),\n",
       " ('oracle', 1.6042780748663104),\n",
       " ('php', 0.53475935828877),\n",
       " ('pig', 1.06951871657754),\n",
       " ('postgresql', 0.53475935828877),\n",
       " ('python', 10.16042780748663),\n",
       " ('r', 1.6042780748663104),\n",
       " ('ruby', 0.53475935828877),\n",
       " ('sap', 1.06951871657754),\n",
       " ('sas', 1.06951871657754),\n",
       " ('sql', 12.299465240641712),\n",
       " ('sqlite', 0.53475935828877),\n",
       " ('scala', 4.27807486631016),\n",
       " ('spark', 11.76470588235294),\n",
       " ('spring', 2.6737967914438503),\n",
       " ('tableau', 1.6042780748663104),\n",
       " ('mapreduce', 1.6042780748663104),\n",
       " ('C++', 0.53475935828877),\n",
       " ('C#', 0.53475935828877)]"
      ]
     },
     "execution_count": 70,
     "metadata": {},
     "output_type": "execute_result"
    }
   ],
   "source": [
    "Cdict"
   ]
  },
  {
   "cell_type": "code",
   "execution_count": 71,
   "metadata": {
    "ExecuteTime": {
     "end_time": "2019-12-18T16:59:52.691642Z",
     "start_time": "2019-12-18T16:59:52.687738Z"
    }
   },
   "outputs": [],
   "source": [
    "results = pd.DataFrame(Cdict, columns=['Tech','Percentage'])"
   ]
  },
  {
   "cell_type": "code",
   "execution_count": 73,
   "metadata": {
    "ExecuteTime": {
     "end_time": "2019-12-18T17:00:10.092070Z",
     "start_time": "2019-12-18T17:00:10.088250Z"
    }
   },
   "outputs": [
    {
     "data": {
      "text/plain": [
       "dtype('float64')"
      ]
     },
     "execution_count": 73,
     "metadata": {},
     "output_type": "execute_result"
    }
   ],
   "source": [
    "results.Percentage.dtype"
   ]
  },
  {
   "cell_type": "code",
   "execution_count": 74,
   "metadata": {
    "ExecuteTime": {
     "end_time": "2019-12-18T17:00:47.370192Z",
     "start_time": "2019-12-18T17:00:47.366938Z"
    }
   },
   "outputs": [],
   "source": [
    "resulty = pd.DataFrame(Cdict, columns=['Tech','Percentage'])"
   ]
  },
  {
   "cell_type": "code",
   "execution_count": 75,
   "metadata": {
    "ExecuteTime": {
     "end_time": "2019-12-18T17:00:48.293846Z",
     "start_time": "2019-12-18T17:00:48.290267Z"
    }
   },
   "outputs": [],
   "source": [
    "resulty = resulty.set_index('Tech',drop=True)"
   ]
  },
  {
   "cell_type": "code",
   "execution_count": 76,
   "metadata": {
    "ExecuteTime": {
     "end_time": "2019-12-18T17:00:50.537417Z",
     "start_time": "2019-12-18T17:00:50.533596Z"
    }
   },
   "outputs": [],
   "source": [
    "result_chart = results.sort_values('Percentage', ascending=False).head(10)"
   ]
  },
  {
   "cell_type": "code",
   "execution_count": 77,
   "metadata": {
    "ExecuteTime": {
     "end_time": "2019-12-18T17:00:52.761456Z",
     "start_time": "2019-12-18T17:00:52.759013Z"
    },
    "scrolled": true
   },
   "outputs": [],
   "source": [
    "option = 'Data Engineer'"
   ]
  },
  {
   "cell_type": "code",
   "execution_count": 82,
   "metadata": {
    "ExecuteTime": {
     "end_time": "2019-12-18T17:04:37.054146Z",
     "start_time": "2019-12-18T17:04:37.048715Z"
    },
    "scrolled": true
   },
   "outputs": [
    {
     "name": "stdout",
     "output_type": "stream",
     "text": [
      "<class 'pandas.core.frame.DataFrame'>\n",
      "Index: 42 entries, aws to C#\n",
      "Data columns (total 1 columns):\n",
      "Percentage    42 non-null float64\n",
      "dtypes: float64(1)\n",
      "memory usage: 672.0+ bytes\n"
     ]
    }
   ],
   "source": [
    "resulty.info()"
   ]
  },
  {
   "cell_type": "code",
   "execution_count": 130,
   "metadata": {
    "ExecuteTime": {
     "end_time": "2019-12-18T18:21:57.669588Z",
     "start_time": "2019-12-18T18:21:57.652346Z"
    },
    "scrolled": true
   },
   "outputs": [
    {
     "data": {
      "text/html": [
       "<div>\n",
       "<style scoped>\n",
       "    .dataframe tbody tr th:only-of-type {\n",
       "        vertical-align: middle;\n",
       "    }\n",
       "\n",
       "    .dataframe tbody tr th {\n",
       "        vertical-align: top;\n",
       "    }\n",
       "\n",
       "    .dataframe thead th {\n",
       "        text-align: right;\n",
       "    }\n",
       "</style>\n",
       "<table border=\"1\" class=\"dataframe\">\n",
       "  <thead>\n",
       "    <tr style=\"text-align: right;\">\n",
       "      <th></th>\n",
       "      <th>Unnamed: 0</th>\n",
       "      <th>Tech</th>\n",
       "      <th>Percentage</th>\n",
       "      <th>Date</th>\n",
       "      <th>Title</th>\n",
       "    </tr>\n",
       "  </thead>\n",
       "  <tbody>\n",
       "    <tr>\n",
       "      <th>0</th>\n",
       "      <td>0</td>\n",
       "      <td>ajax</td>\n",
       "      <td>0.258408</td>\n",
       "      <td>12-01-2019</td>\n",
       "      <td>Data Analyst</td>\n",
       "    </tr>\n",
       "    <tr>\n",
       "      <th>1</th>\n",
       "      <td>1</td>\n",
       "      <td>asp</td>\n",
       "      <td>0.436786</td>\n",
       "      <td>12-01-2019</td>\n",
       "      <td>Data Analyst</td>\n",
       "    </tr>\n",
       "    <tr>\n",
       "      <th>2</th>\n",
       "      <td>2</td>\n",
       "      <td>aws</td>\n",
       "      <td>4.005322</td>\n",
       "      <td>12-01-2019</td>\n",
       "      <td>Data Analyst</td>\n",
       "    </tr>\n",
       "    <tr>\n",
       "      <th>3</th>\n",
       "      <td>3</td>\n",
       "      <td>acrobat</td>\n",
       "      <td>0.003857</td>\n",
       "      <td>12-01-2019</td>\n",
       "      <td>Data Analyst</td>\n",
       "    </tr>\n",
       "    <tr>\n",
       "      <th>4</th>\n",
       "      <td>4</td>\n",
       "      <td>airflow</td>\n",
       "      <td>0.435822</td>\n",
       "      <td>12-01-2019</td>\n",
       "      <td>Data Analyst</td>\n",
       "    </tr>\n",
       "    <tr>\n",
       "      <th>...</th>\n",
       "      <td>...</td>\n",
       "      <td>...</td>\n",
       "      <td>...</td>\n",
       "      <td>...</td>\n",
       "      <td>...</td>\n",
       "    </tr>\n",
       "    <tr>\n",
       "      <th>673</th>\n",
       "      <td>673</td>\n",
       "      <td>tableau</td>\n",
       "      <td>6.565657</td>\n",
       "      <td>12-18-2019</td>\n",
       "      <td>Data Analyst</td>\n",
       "    </tr>\n",
       "    <tr>\n",
       "      <th>674</th>\n",
       "      <td>674</td>\n",
       "      <td>windows</td>\n",
       "      <td>0.336700</td>\n",
       "      <td>12-18-2019</td>\n",
       "      <td>Data Analyst</td>\n",
       "    </tr>\n",
       "    <tr>\n",
       "      <th>675</th>\n",
       "      <td>675</td>\n",
       "      <td>xml</td>\n",
       "      <td>0.505051</td>\n",
       "      <td>12-18-2019</td>\n",
       "      <td>Data Analyst</td>\n",
       "    </tr>\n",
       "    <tr>\n",
       "      <th>676</th>\n",
       "      <td>676</td>\n",
       "      <td>C++</td>\n",
       "      <td>0.505051</td>\n",
       "      <td>12-18-2019</td>\n",
       "      <td>Data Analyst</td>\n",
       "    </tr>\n",
       "    <tr>\n",
       "      <th>677</th>\n",
       "      <td>677</td>\n",
       "      <td>C#</td>\n",
       "      <td>0.841751</td>\n",
       "      <td>12-18-2019</td>\n",
       "      <td>Data Analyst</td>\n",
       "    </tr>\n",
       "  </tbody>\n",
       "</table>\n",
       "<p>678 rows × 5 columns</p>\n",
       "</div>"
      ],
      "text/plain": [
       "     Unnamed: 0     Tech  Percentage        Date         Title\n",
       "0             0     ajax    0.258408  12-01-2019  Data Analyst\n",
       "1             1      asp    0.436786  12-01-2019  Data Analyst\n",
       "2             2      aws    4.005322  12-01-2019  Data Analyst\n",
       "3             3  acrobat    0.003857  12-01-2019  Data Analyst\n",
       "4             4  airflow    0.435822  12-01-2019  Data Analyst\n",
       "..          ...      ...         ...         ...           ...\n",
       "673         673  tableau    6.565657  12-18-2019  Data Analyst\n",
       "674         674  windows    0.336700  12-18-2019  Data Analyst\n",
       "675         675      xml    0.505051  12-18-2019  Data Analyst\n",
       "676         676      C++    0.505051  12-18-2019  Data Analyst\n",
       "677         677       C#    0.841751  12-18-2019  Data Analyst\n",
       "\n",
       "[678 rows x 5 columns]"
      ]
     },
     "execution_count": 130,
     "metadata": {},
     "output_type": "execute_result"
    }
   ],
   "source": [
    "hmm = pd.read_csv('time_series.csv')\n",
    "hmm"
   ]
  },
  {
   "cell_type": "code",
   "execution_count": 132,
   "metadata": {
    "ExecuteTime": {
     "end_time": "2019-12-18T18:23:16.396003Z",
     "start_time": "2019-12-18T18:23:16.392151Z"
    }
   },
   "outputs": [],
   "source": [
    "hmm.drop(['Unnamed: 0'], axis=1, inplace=True)"
   ]
  },
  {
   "cell_type": "code",
   "execution_count": 133,
   "metadata": {
    "ExecuteTime": {
     "end_time": "2019-12-18T18:23:21.038618Z",
     "start_time": "2019-12-18T18:23:21.025338Z"
    }
   },
   "outputs": [
    {
     "data": {
      "text/html": [
       "<div>\n",
       "<style scoped>\n",
       "    .dataframe tbody tr th:only-of-type {\n",
       "        vertical-align: middle;\n",
       "    }\n",
       "\n",
       "    .dataframe tbody tr th {\n",
       "        vertical-align: top;\n",
       "    }\n",
       "\n",
       "    .dataframe thead th {\n",
       "        text-align: right;\n",
       "    }\n",
       "</style>\n",
       "<table border=\"1\" class=\"dataframe\">\n",
       "  <thead>\n",
       "    <tr style=\"text-align: right;\">\n",
       "      <th></th>\n",
       "      <th>Tech</th>\n",
       "      <th>Percentage</th>\n",
       "      <th>Date</th>\n",
       "      <th>Title</th>\n",
       "    </tr>\n",
       "  </thead>\n",
       "  <tbody>\n",
       "    <tr>\n",
       "      <th>0</th>\n",
       "      <td>ajax</td>\n",
       "      <td>0.258408</td>\n",
       "      <td>12-01-2019</td>\n",
       "      <td>Data Analyst</td>\n",
       "    </tr>\n",
       "    <tr>\n",
       "      <th>1</th>\n",
       "      <td>asp</td>\n",
       "      <td>0.436786</td>\n",
       "      <td>12-01-2019</td>\n",
       "      <td>Data Analyst</td>\n",
       "    </tr>\n",
       "    <tr>\n",
       "      <th>2</th>\n",
       "      <td>aws</td>\n",
       "      <td>4.005322</td>\n",
       "      <td>12-01-2019</td>\n",
       "      <td>Data Analyst</td>\n",
       "    </tr>\n",
       "    <tr>\n",
       "      <th>3</th>\n",
       "      <td>acrobat</td>\n",
       "      <td>0.003857</td>\n",
       "      <td>12-01-2019</td>\n",
       "      <td>Data Analyst</td>\n",
       "    </tr>\n",
       "    <tr>\n",
       "      <th>4</th>\n",
       "      <td>airflow</td>\n",
       "      <td>0.435822</td>\n",
       "      <td>12-01-2019</td>\n",
       "      <td>Data Analyst</td>\n",
       "    </tr>\n",
       "    <tr>\n",
       "      <th>...</th>\n",
       "      <td>...</td>\n",
       "      <td>...</td>\n",
       "      <td>...</td>\n",
       "      <td>...</td>\n",
       "    </tr>\n",
       "    <tr>\n",
       "      <th>673</th>\n",
       "      <td>tableau</td>\n",
       "      <td>6.565657</td>\n",
       "      <td>12-18-2019</td>\n",
       "      <td>Data Analyst</td>\n",
       "    </tr>\n",
       "    <tr>\n",
       "      <th>674</th>\n",
       "      <td>windows</td>\n",
       "      <td>0.336700</td>\n",
       "      <td>12-18-2019</td>\n",
       "      <td>Data Analyst</td>\n",
       "    </tr>\n",
       "    <tr>\n",
       "      <th>675</th>\n",
       "      <td>xml</td>\n",
       "      <td>0.505051</td>\n",
       "      <td>12-18-2019</td>\n",
       "      <td>Data Analyst</td>\n",
       "    </tr>\n",
       "    <tr>\n",
       "      <th>676</th>\n",
       "      <td>C++</td>\n",
       "      <td>0.505051</td>\n",
       "      <td>12-18-2019</td>\n",
       "      <td>Data Analyst</td>\n",
       "    </tr>\n",
       "    <tr>\n",
       "      <th>677</th>\n",
       "      <td>C#</td>\n",
       "      <td>0.841751</td>\n",
       "      <td>12-18-2019</td>\n",
       "      <td>Data Analyst</td>\n",
       "    </tr>\n",
       "  </tbody>\n",
       "</table>\n",
       "<p>678 rows × 4 columns</p>\n",
       "</div>"
      ],
      "text/plain": [
       "        Tech  Percentage        Date         Title\n",
       "0       ajax    0.258408  12-01-2019  Data Analyst\n",
       "1        asp    0.436786  12-01-2019  Data Analyst\n",
       "2        aws    4.005322  12-01-2019  Data Analyst\n",
       "3    acrobat    0.003857  12-01-2019  Data Analyst\n",
       "4    airflow    0.435822  12-01-2019  Data Analyst\n",
       "..       ...         ...         ...           ...\n",
       "673  tableau    6.565657  12-18-2019  Data Analyst\n",
       "674  windows    0.336700  12-18-2019  Data Analyst\n",
       "675      xml    0.505051  12-18-2019  Data Analyst\n",
       "676      C++    0.505051  12-18-2019  Data Analyst\n",
       "677       C#    0.841751  12-18-2019  Data Analyst\n",
       "\n",
       "[678 rows x 4 columns]"
      ]
     },
     "execution_count": 133,
     "metadata": {},
     "output_type": "execute_result"
    }
   ],
   "source": [
    "hmm"
   ]
  },
  {
   "cell_type": "code",
   "execution_count": 134,
   "metadata": {
    "ExecuteTime": {
     "end_time": "2019-12-18T18:24:05.091978Z",
     "start_time": "2019-12-18T18:24:05.084509Z"
    }
   },
   "outputs": [],
   "source": [
    "hmm.to_csv('/users/dmauger/Flatiron/FinalProject/' + 'time_series.csv', mode='w', encoding='utf-8', index=False)"
   ]
  },
  {
   "cell_type": "code",
   "execution_count": 110,
   "metadata": {
    "ExecuteTime": {
     "end_time": "2019-12-18T18:01:05.088187Z",
     "start_time": "2019-12-18T18:01:05.078018Z"
    }
   },
   "outputs": [],
   "source": [
    "h = hmm.groupby(['Date','Tech','Title'], as_index=False)['Percentage'].mean()"
   ]
  },
  {
   "cell_type": "code",
   "execution_count": 135,
   "metadata": {
    "ExecuteTime": {
     "end_time": "2019-12-18T18:24:27.231336Z",
     "start_time": "2019-12-18T18:24:27.213987Z"
    },
    "scrolled": true
   },
   "outputs": [
    {
     "data": {
      "text/html": [
       "<div>\n",
       "<style scoped>\n",
       "    .dataframe tbody tr th:only-of-type {\n",
       "        vertical-align: middle;\n",
       "    }\n",
       "\n",
       "    .dataframe tbody tr th {\n",
       "        vertical-align: top;\n",
       "    }\n",
       "\n",
       "    .dataframe thead th {\n",
       "        text-align: right;\n",
       "    }\n",
       "</style>\n",
       "<table border=\"1\" class=\"dataframe\">\n",
       "  <thead>\n",
       "    <tr style=\"text-align: right;\">\n",
       "      <th></th>\n",
       "      <th>Tech</th>\n",
       "      <th>Percentage</th>\n",
       "      <th>Date</th>\n",
       "      <th>Title</th>\n",
       "    </tr>\n",
       "  </thead>\n",
       "  <tbody>\n",
       "    <tr>\n",
       "      <th>0</th>\n",
       "      <td>ajax</td>\n",
       "      <td>0.258408</td>\n",
       "      <td>12-01-2019</td>\n",
       "      <td>Data Analyst</td>\n",
       "    </tr>\n",
       "    <tr>\n",
       "      <th>1</th>\n",
       "      <td>asp</td>\n",
       "      <td>0.436786</td>\n",
       "      <td>12-01-2019</td>\n",
       "      <td>Data Analyst</td>\n",
       "    </tr>\n",
       "    <tr>\n",
       "      <th>2</th>\n",
       "      <td>aws</td>\n",
       "      <td>4.005322</td>\n",
       "      <td>12-01-2019</td>\n",
       "      <td>Data Analyst</td>\n",
       "    </tr>\n",
       "    <tr>\n",
       "      <th>3</th>\n",
       "      <td>acrobat</td>\n",
       "      <td>0.003857</td>\n",
       "      <td>12-01-2019</td>\n",
       "      <td>Data Analyst</td>\n",
       "    </tr>\n",
       "    <tr>\n",
       "      <th>4</th>\n",
       "      <td>airflow</td>\n",
       "      <td>0.435822</td>\n",
       "      <td>12-01-2019</td>\n",
       "      <td>Data Analyst</td>\n",
       "    </tr>\n",
       "    <tr>\n",
       "      <th>...</th>\n",
       "      <td>...</td>\n",
       "      <td>...</td>\n",
       "      <td>...</td>\n",
       "      <td>...</td>\n",
       "    </tr>\n",
       "    <tr>\n",
       "      <th>673</th>\n",
       "      <td>tableau</td>\n",
       "      <td>6.565657</td>\n",
       "      <td>12-18-2019</td>\n",
       "      <td>Data Analyst</td>\n",
       "    </tr>\n",
       "    <tr>\n",
       "      <th>674</th>\n",
       "      <td>windows</td>\n",
       "      <td>0.336700</td>\n",
       "      <td>12-18-2019</td>\n",
       "      <td>Data Analyst</td>\n",
       "    </tr>\n",
       "    <tr>\n",
       "      <th>675</th>\n",
       "      <td>xml</td>\n",
       "      <td>0.505051</td>\n",
       "      <td>12-18-2019</td>\n",
       "      <td>Data Analyst</td>\n",
       "    </tr>\n",
       "    <tr>\n",
       "      <th>676</th>\n",
       "      <td>C++</td>\n",
       "      <td>0.505051</td>\n",
       "      <td>12-18-2019</td>\n",
       "      <td>Data Analyst</td>\n",
       "    </tr>\n",
       "    <tr>\n",
       "      <th>677</th>\n",
       "      <td>C#</td>\n",
       "      <td>0.841751</td>\n",
       "      <td>12-18-2019</td>\n",
       "      <td>Data Analyst</td>\n",
       "    </tr>\n",
       "  </tbody>\n",
       "</table>\n",
       "<p>678 rows × 4 columns</p>\n",
       "</div>"
      ],
      "text/plain": [
       "        Tech  Percentage        Date         Title\n",
       "0       ajax    0.258408  12-01-2019  Data Analyst\n",
       "1        asp    0.436786  12-01-2019  Data Analyst\n",
       "2        aws    4.005322  12-01-2019  Data Analyst\n",
       "3    acrobat    0.003857  12-01-2019  Data Analyst\n",
       "4    airflow    0.435822  12-01-2019  Data Analyst\n",
       "..       ...         ...         ...           ...\n",
       "673  tableau    6.565657  12-18-2019  Data Analyst\n",
       "674  windows    0.336700  12-18-2019  Data Analyst\n",
       "675      xml    0.505051  12-18-2019  Data Analyst\n",
       "676      C++    0.505051  12-18-2019  Data Analyst\n",
       "677       C#    0.841751  12-18-2019  Data Analyst\n",
       "\n",
       "[678 rows x 4 columns]"
      ]
     },
     "execution_count": 135,
     "metadata": {},
     "output_type": "execute_result"
    }
   ],
   "source": [
    "d = pd.read_csv('time_series.csv')\n",
    "d"
   ]
  },
  {
   "cell_type": "code",
   "execution_count": 136,
   "metadata": {
    "ExecuteTime": {
     "end_time": "2019-12-18T18:24:40.794324Z",
     "start_time": "2019-12-18T18:24:40.788332Z"
    }
   },
   "outputs": [
    {
     "data": {
      "text/plain": [
       "Tech          0\n",
       "Percentage    0\n",
       "Date          0\n",
       "Title         0\n",
       "dtype: int64"
      ]
     },
     "execution_count": 136,
     "metadata": {},
     "output_type": "execute_result"
    }
   ],
   "source": [
    "d.isna().sum()"
   ]
  },
  {
   "cell_type": "code",
   "execution_count": 123,
   "metadata": {
    "ExecuteTime": {
     "end_time": "2019-12-18T18:18:05.577068Z",
     "start_time": "2019-12-18T18:18:05.565492Z"
    },
    "scrolled": false
   },
   "outputs": [
    {
     "data": {
      "text/html": [
       "<div>\n",
       "<style scoped>\n",
       "    .dataframe tbody tr th:only-of-type {\n",
       "        vertical-align: middle;\n",
       "    }\n",
       "\n",
       "    .dataframe tbody tr th {\n",
       "        vertical-align: top;\n",
       "    }\n",
       "\n",
       "    .dataframe thead th {\n",
       "        text-align: right;\n",
       "    }\n",
       "</style>\n",
       "<table border=\"1\" class=\"dataframe\">\n",
       "  <thead>\n",
       "    <tr style=\"text-align: right;\">\n",
       "      <th></th>\n",
       "      <th>Date</th>\n",
       "      <th>Tech</th>\n",
       "      <th>Title</th>\n",
       "      <th>Percentage</th>\n",
       "    </tr>\n",
       "  </thead>\n",
       "  <tbody>\n",
       "    <tr>\n",
       "      <th>0</th>\n",
       "      <td>False</td>\n",
       "      <td>False</td>\n",
       "      <td>False</td>\n",
       "      <td>False</td>\n",
       "    </tr>\n",
       "    <tr>\n",
       "      <th>1</th>\n",
       "      <td>False</td>\n",
       "      <td>False</td>\n",
       "      <td>False</td>\n",
       "      <td>False</td>\n",
       "    </tr>\n",
       "    <tr>\n",
       "      <th>2</th>\n",
       "      <td>False</td>\n",
       "      <td>False</td>\n",
       "      <td>False</td>\n",
       "      <td>False</td>\n",
       "    </tr>\n",
       "    <tr>\n",
       "      <th>3</th>\n",
       "      <td>False</td>\n",
       "      <td>False</td>\n",
       "      <td>False</td>\n",
       "      <td>False</td>\n",
       "    </tr>\n",
       "    <tr>\n",
       "      <th>4</th>\n",
       "      <td>False</td>\n",
       "      <td>False</td>\n",
       "      <td>False</td>\n",
       "      <td>False</td>\n",
       "    </tr>\n",
       "    <tr>\n",
       "      <th>...</th>\n",
       "      <td>...</td>\n",
       "      <td>...</td>\n",
       "      <td>...</td>\n",
       "      <td>...</td>\n",
       "    </tr>\n",
       "    <tr>\n",
       "      <th>146</th>\n",
       "      <td>False</td>\n",
       "      <td>False</td>\n",
       "      <td>False</td>\n",
       "      <td>False</td>\n",
       "    </tr>\n",
       "    <tr>\n",
       "      <th>147</th>\n",
       "      <td>False</td>\n",
       "      <td>False</td>\n",
       "      <td>False</td>\n",
       "      <td>False</td>\n",
       "    </tr>\n",
       "    <tr>\n",
       "      <th>148</th>\n",
       "      <td>False</td>\n",
       "      <td>False</td>\n",
       "      <td>False</td>\n",
       "      <td>False</td>\n",
       "    </tr>\n",
       "    <tr>\n",
       "      <th>149</th>\n",
       "      <td>False</td>\n",
       "      <td>False</td>\n",
       "      <td>False</td>\n",
       "      <td>False</td>\n",
       "    </tr>\n",
       "    <tr>\n",
       "      <th>150</th>\n",
       "      <td>False</td>\n",
       "      <td>False</td>\n",
       "      <td>False</td>\n",
       "      <td>False</td>\n",
       "    </tr>\n",
       "  </tbody>\n",
       "</table>\n",
       "<p>151 rows × 4 columns</p>\n",
       "</div>"
      ],
      "text/plain": [
       "      Date   Tech  Title  Percentage\n",
       "0    False  False  False       False\n",
       "1    False  False  False       False\n",
       "2    False  False  False       False\n",
       "3    False  False  False       False\n",
       "4    False  False  False       False\n",
       "..     ...    ...    ...         ...\n",
       "146  False  False  False       False\n",
       "147  False  False  False       False\n",
       "148  False  False  False       False\n",
       "149  False  False  False       False\n",
       "150  False  False  False       False\n",
       "\n",
       "[151 rows x 4 columns]"
      ]
     },
     "execution_count": 123,
     "metadata": {},
     "output_type": "execute_result"
    }
   ],
   "source": [
    "h.isna()"
   ]
  },
  {
   "cell_type": "code",
   "execution_count": null,
   "metadata": {},
   "outputs": [],
   "source": [
    "# resulty['Date'] = datetime.now().strftime(\"%m-%d-%Y\")\n",
    "# resulty['Title'] = option"
   ]
  },
  {
   "cell_type": "code",
   "execution_count": null,
   "metadata": {
    "scrolled": false
   },
   "outputs": [],
   "source": [
    "dtotal = pd.read_csv('total_data_date.csv')\n",
    "dtotal.head(100)"
   ]
  },
  {
   "cell_type": "code",
   "execution_count": null,
   "metadata": {
    "scrolled": true
   },
   "outputs": [],
   "source": [
    "# dtotal['date'][8500:10500] = dtotal['date'][8500:10500].map({'12-17-2019': '12-16-2019'})"
   ]
  },
  {
   "cell_type": "code",
   "execution_count": null,
   "metadata": {},
   "outputs": [],
   "source": [
    "dtotal = pd.read_csv('total_data_date.csv')"
   ]
  },
  {
   "cell_type": "code",
   "execution_count": null,
   "metadata": {},
   "outputs": [],
   "source": [
    "date = (dtotal.date)\n",
    "date = date.replace({'date': \"12-15-2019\"})"
   ]
  },
  {
   "cell_type": "code",
   "execution_count": null,
   "metadata": {},
   "outputs": [],
   "source": [
    "mode"
   ]
  },
  {
   "cell_type": "code",
   "execution_count": null,
   "metadata": {},
   "outputs": [],
   "source": [
    "date.unique()"
   ]
  },
  {
   "cell_type": "code",
   "execution_count": null,
   "metadata": {
    "scrolled": true
   },
   "outputs": [],
   "source": [
    "date = pd.to_datetime(date, format=\"%m-%d-%Y\")"
   ]
  },
  {
   "cell_type": "code",
   "execution_count": null,
   "metadata": {},
   "outputs": [],
   "source": [
    "date"
   ]
  },
  {
   "cell_type": "code",
   "execution_count": null,
   "metadata": {},
   "outputs": [],
   "source": [
    "date = date.dt.strftime(\"%m-%d-%Y\")"
   ]
  },
  {
   "cell_type": "code",
   "execution_count": null,
   "metadata": {},
   "outputs": [],
   "source": [
    "dtotal['date'] = date"
   ]
  },
  {
   "cell_type": "code",
   "execution_count": null,
   "metadata": {},
   "outputs": [],
   "source": [
    "dtotal.date.unique()"
   ]
  },
  {
   "cell_type": "code",
   "execution_count": null,
   "metadata": {},
   "outputs": [],
   "source": [
    "# dtotal.to_csv('/users/dmauger/Flatiron/FinalProject/' + 'total_data_date.csv', mode='w', encoding='utf-8', index=False)"
   ]
  },
  {
   "cell_type": "code",
   "execution_count": null,
   "metadata": {},
   "outputs": [],
   "source": [
    "dtotal= dtotal[dtotal['title'].astype(str).str.contains(option)]\n",
    "total_length = len(dtotal)\n",
    "dtotal2 = dtotal['description']\n",
    "dtotal1 = functions.clean(dtotal2)\n",
    "dtotal1 = functions.word_count(dtotal1)\n",
    "c_let3 = functions.cleanC(dtotal2)\n",
    "c_p3 = functions.C_plus(c_let3)\n",
    "c_s3 = functions.C_sharp(c_let3)\n",
    "test3a = Counter(c_p3) + Counter(c_s3)\n",
    "\n",
    "ctotal = Counter(dtotal1) + Counter(test3a)\n",
    "total = sum(ctotal.values())\n",
    "Ctotaldict = [(i, ctotal[i] / total * 100.0) for i in ctotal]\n",
    "\n"
   ]
  },
  {
   "cell_type": "code",
   "execution_count": null,
   "metadata": {},
   "outputs": [],
   "source": [
    "total_result = pd.DataFrame(Ctotaldict, columns=['Tech','Percentage'])\n",
    "# total_results= total_result.nlargest(10, 'Percentage')\n",
    "total_resulty = pd.DataFrame(Ctotaldict, columns=['Tech','Percentage'])\n",
    "total_resulty = total_resulty.set_index('Tech',drop=True)\n",
    "total_result_chart = total_result.sort_values('Percentage', ascending=False).head(10)\n",
    "\n"
   ]
  },
  {
   "cell_type": "code",
   "execution_count": null,
   "metadata": {},
   "outputs": [],
   "source": [
    "t = datetime.now().strftime(\"%m-%d-%Y\")\n",
    "t"
   ]
  },
  {
   "cell_type": "code",
   "execution_count": null,
   "metadata": {},
   "outputs": [],
   "source": [
    "d = pd.read_csv('time_series.csv')\n"
   ]
  },
  {
   "cell_type": "code",
   "execution_count": null,
   "metadata": {},
   "outputs": [],
   "source": [
    "test = d.strftime(\"%m-%d-%Y\")"
   ]
  },
  {
   "cell_type": "code",
   "execution_count": null,
   "metadata": {},
   "outputs": [],
   "source": [
    "# low = pd.to_datetime(min(dtotal.date), format='%m-%d-%Y')\n",
    "low = (min(dtotal.date, key=lambda x: str(x)))\n",
    "high = (max(dtotal.date, key=lambda x: str(x)))\n"
   ]
  },
  {
   "cell_type": "code",
   "execution_count": null,
   "metadata": {},
   "outputs": [],
   "source": []
  },
  {
   "cell_type": "code",
   "execution_count": null,
   "metadata": {},
   "outputs": [],
   "source": [
    "f = pd.to_datetime(dtotal.date)"
   ]
  },
  {
   "cell_type": "code",
   "execution_count": null,
   "metadata": {
    "scrolled": true
   },
   "outputs": [],
   "source": [
    "f"
   ]
  },
  {
   "cell_type": "code",
   "execution_count": null,
   "metadata": {},
   "outputs": [],
   "source": [
    "low = min(f)"
   ]
  },
  {
   "cell_type": "code",
   "execution_count": null,
   "metadata": {},
   "outputs": [],
   "source": [
    "low"
   ]
  },
  {
   "cell_type": "code",
   "execution_count": null,
   "metadata": {},
   "outputs": [],
   "source": [
    "high = max(f)"
   ]
  },
  {
   "cell_type": "code",
   "execution_count": null,
   "metadata": {},
   "outputs": [],
   "source": [
    "periods = len(total_resulty)\n"
   ]
  },
  {
   "cell_type": "code",
   "execution_count": null,
   "metadata": {},
   "outputs": [],
   "source": [
    "date = pd.date_range(low,high,periods=periods)"
   ]
  },
  {
   "cell_type": "code",
   "execution_count": null,
   "metadata": {},
   "outputs": [],
   "source": [
    "date"
   ]
  },
  {
   "cell_type": "code",
   "execution_count": null,
   "metadata": {},
   "outputs": [],
   "source": [
    "date = date.strftime(\"%m-%d-%Y\")"
   ]
  },
  {
   "cell_type": "code",
   "execution_count": null,
   "metadata": {},
   "outputs": [],
   "source": [
    "date = pd.to_datetime(date)"
   ]
  },
  {
   "cell_type": "code",
   "execution_count": null,
   "metadata": {},
   "outputs": [],
   "source": [
    "date"
   ]
  },
  {
   "cell_type": "code",
   "execution_count": null,
   "metadata": {},
   "outputs": [],
   "source": [
    "total_resulty['Date'] = date"
   ]
  },
  {
   "cell_type": "code",
   "execution_count": null,
   "metadata": {},
   "outputs": [],
   "source": [
    "total_resulty['Date'] = pd.date_range(low,high,periods=periods)"
   ]
  },
  {
   "cell_type": "code",
   "execution_count": null,
   "metadata": {
    "scrolled": true
   },
   "outputs": [],
   "source": [
    "total_resulty"
   ]
  },
  {
   "cell_type": "code",
   "execution_count": null,
   "metadata": {},
   "outputs": [],
   "source": [
    "# start_date = pd.to_datetime(min(dtotal.date))\n",
    "# end_date = pd.to_datetime(max(dtotal.date))"
   ]
  },
  {
   "cell_type": "code",
   "execution_count": null,
   "metadata": {},
   "outputs": [],
   "source": [
    "# end_dates"
   ]
  },
  {
   "cell_type": "code",
   "execution_count": null,
   "metadata": {},
   "outputs": [],
   "source": [
    "# date = pd.date_range(start_date,end_date)\n",
    "# df2 = pd.DataFrame (index=date)\n",
    "# df2 ['count'] = 0\n",
    "\n",
    "# for index, row in df.iterrows ():\n",
    "#     dates = pd.date_range(row['start_date'], row['end_date'])\n",
    "#     for date in dates:\n",
    "#         df2.loc['date']['count'] += 1"
   ]
  },
  {
   "cell_type": "code",
   "execution_count": null,
   "metadata": {},
   "outputs": [],
   "source": [
    "\n",
    "\n",
    "# pd.Series(dt.date() for group in [pd.date_range(start, end) for start, end in (start_dates, end_dates)] for dt in group).value_counts()"
   ]
  },
  {
   "cell_type": "code",
   "execution_count": null,
   "metadata": {},
   "outputs": [],
   "source": [
    "# total_resulty['Date'] = pd.date_range(min(dtotal.date), max(dtotal.date),freq='D')"
   ]
  },
  {
   "cell_type": "code",
   "execution_count": null,
   "metadata": {},
   "outputs": [],
   "source": [
    "# def date_expander(dataframe: pd.DataFrame,\n",
    "#                   start_dt_colname: str,\n",
    "#                   end_dt_colname: str,\n",
    "#                   time_unit: str,\n",
    "#                   new_colname: str,\n",
    "#                   end_inclusive: bool) -> pd.DataFrame:\n",
    "#     td = pd.Timedelta(1, time_unit)\n",
    "\n",
    "#     # add a timediff column:\n",
    "#     dataframe['_dt_diff'] = dataframe[end_dt_colname] - dataframe[start_dt_colname]\n",
    "\n",
    "#     # get the maximum timediff:\n",
    "#     max_diff = int((dataframe['_dt_diff'] / td).max())\n",
    "\n",
    "#     # for each possible timediff, get the intermediate time-differences:\n",
    "#     df_diffs = pd.concat([pd.DataFrame({'_to_add': np.arange(0, dt_diff + end_inclusive) * td}).assign(_dt_diff=dt_diff * td)\n",
    "#                           for dt_diff in range(max_diff + 1)])\n",
    "\n",
    "#     # join to the original dataframe\n",
    "#     data_expanded = dataframe.merge(df_diffs, on='_dt_diff')\n",
    "\n",
    "#     # the new dt column is just start plus the intermediate diffs:\n",
    "#     data_expanded[new_colname] = data_expanded[start_dt_colname] + data_expanded['_to_add']\n",
    "\n",
    "#     # remove start-end cols, as well as temp cols used for calculations:\n",
    "#     data_expanded = data_expanded.drop(columns=[start_dt_colname, end_dt_colname, '_to_add', '_dt_diff'])\n",
    "\n",
    "#     # don't modify dataframe in place:\n",
    "#     del dataframe['_dt_diff']\n",
    "\n",
    "#     return data_expanded"
   ]
  },
  {
   "cell_type": "code",
   "execution_count": null,
   "metadata": {},
   "outputs": [],
   "source": [
    "date_expander(dtotal, 'date', 'date', 'days', 'date2', True)"
   ]
  },
  {
   "cell_type": "code",
   "execution_count": null,
   "metadata": {},
   "outputs": [],
   "source": [
    "dtotal.date=pd.to_datetime(dtotal.date)\n",
    "# dtotal=dtotal.set_index(dtotal.date)\n",
    "dtotal.set_index(dtotal.date).groupby('title').apply(lambda x : x.reindex(pd.date_range(min(x.index), max(x.index),freq='D'))).ffill().reset_index(drop=True)"
   ]
  },
  {
   "cell_type": "code",
   "execution_count": null,
   "metadata": {},
   "outputs": [],
   "source": [
    "dtotal.set_index('date').groupby('title').resample('1D')['Value'].ffill().reset_index()"
   ]
  },
  {
   "cell_type": "code",
   "execution_count": null,
   "metadata": {},
   "outputs": [],
   "source": [
    "dtotal['date'].unique()"
   ]
  },
  {
   "cell_type": "code",
   "execution_count": null,
   "metadata": {},
   "outputs": [],
   "source": [
    "total_resulty['Date'] = first"
   ]
  },
  {
   "cell_type": "code",
   "execution_count": null,
   "metadata": {},
   "outputs": [],
   "source": [
    "total_resulty['Title'] = option"
   ]
  },
  {
   "cell_type": "code",
   "execution_count": null,
   "metadata": {},
   "outputs": [],
   "source": [
    "total_resulty"
   ]
  },
  {
   "cell_type": "code",
   "execution_count": null,
   "metadata": {},
   "outputs": [],
   "source": [
    "# tot_date = pd.to_datetime(dtotal['date'])\n",
    "# tot_date = tot_date.values.astype(int)\n",
    "# tot_date = pd.to_datetime(tot_date.mean())\n",
    "# tot_date = tot_date.dt.strftime('%m/%d/%Y')\n",
    "total_resulty['Date'] = test\n",
    "total_resulty['Title'] = option"
   ]
  },
  {
   "cell_type": "code",
   "execution_count": null,
   "metadata": {},
   "outputs": [],
   "source": [
    "# tot_date = pd.to_datetime(dtotal['date'])\n",
    "# tot_date = pd.to_datetime(time_series['date'].values.astype(int))\n",
    "# tot_date = pd.to_datetime(tot_date.mean())\n",
    "# tot_date = tot_date.dt.strftime('%m/%d/%Y')\n",
    "tot_date = pd.to_datetime(time_series.date)\n",
    "tot_date = co_date.dt.strftime('%m/%d/%Y')\n",
    "total_resulty['Date'] = tot_date\n",
    "total_resulty['Title'] = option"
   ]
  },
  {
   "cell_type": "code",
   "execution_count": null,
   "metadata": {},
   "outputs": [],
   "source": [
    "dtotal= dtotal[dtotal['title'].astype(str).str.contains(option)]\n",
    "total_length = len(dtotal)\n",
    "dtotal2 = dtotal['description']\n",
    "dtotal1 = functions.clean(dtotal2)\n",
    "dtotal1 = functions.word_count(dtotal1)\n",
    "c_let3 = functions.cleanC(dtotal2)\n",
    "c_p3 = functions.C_plus(c_let3)\n",
    "c_s3 = functions.C_sharp(c_let3)\n",
    "test3a = Counter(c_p3) + Counter(c_s3)\n",
    "\n",
    "ctotal = Counter(dtotal1) + Counter(test3a)\n",
    "total = sum(ctotal.values())\n",
    "Ctotaldict = [(i, ctotal[i] / total * 100.0) for i in ctotal]\n",
    "\n",
    "total_result = pd.DataFrame(Ctotaldict, columns=['Tech','Percentage'])\n",
    "# total_results= total_result.nlargest(10, 'Percentage')\n",
    "total_resulty = pd.DataFrame(Ctotaldict, columns=['Tech','Percentage'])\n",
    "total_resulty = total_resulty.set_index('Tech',drop=True)\n",
    "total_result_chart = total_result.sort_values('Percentage', ascending=False).head(10)"
   ]
  },
  {
   "cell_type": "code",
   "execution_count": null,
   "metadata": {},
   "outputs": [],
   "source": [
    "tot_date = dtotal['date']\n",
    "tot_date = pd.to_datetime(tot_date, format=\"%m/%d/%y\")\n",
    "# tot_date = pd.to_datetime(tot_date.mean())\n",
    "total_resulty['Date'] = tot_date\n",
    "# total_resulty['Title'] = option"
   ]
  },
  {
   "cell_type": "code",
   "execution_count": null,
   "metadata": {},
   "outputs": [],
   "source": [
    "tot_date = dtotal['date']\n",
    "tot_date = pd.to_datetime(tot_date).values.astype(int)\n",
    "tot_date = pd.to_datetime(tot_date.mean())\n",
    "total_resulty['Date'] = tot_date\n",
    "total_resulty['Title'] = option"
   ]
  },
  {
   "cell_type": "code",
   "execution_count": null,
   "metadata": {},
   "outputs": [],
   "source": [
    "total_resulty.to_csv('/users/dmauger/Flatiron/FinalProject/' + 'time_series.csv', mode='a', encoding='utf-8', index=False)"
   ]
  },
  {
   "cell_type": "code",
   "execution_count": null,
   "metadata": {},
   "outputs": [],
   "source": []
  },
  {
   "cell_type": "code",
   "execution_count": null,
   "metadata": {},
   "outputs": [],
   "source": []
  },
  {
   "cell_type": "code",
   "execution_count": null,
   "metadata": {},
   "outputs": [],
   "source": []
  },
  {
   "cell_type": "code",
   "execution_count": null,
   "metadata": {},
   "outputs": [],
   "source": []
  },
  {
   "cell_type": "code",
   "execution_count": null,
   "metadata": {},
   "outputs": [],
   "source": []
  },
  {
   "cell_type": "code",
   "execution_count": null,
   "metadata": {},
   "outputs": [],
   "source": []
  },
  {
   "cell_type": "code",
   "execution_count": null,
   "metadata": {},
   "outputs": [],
   "source": []
  },
  {
   "cell_type": "code",
   "execution_count": null,
   "metadata": {},
   "outputs": [],
   "source": []
  },
  {
   "cell_type": "code",
   "execution_count": null,
   "metadata": {},
   "outputs": [],
   "source": []
  },
  {
   "cell_type": "code",
   "execution_count": null,
   "metadata": {},
   "outputs": [],
   "source": [
    "date2 = dtotal['date']\n",
    "date2 = date2.unique()\n",
    "d2 = pd.to_datetime(date2)\n",
    "d2"
   ]
  },
  {
   "cell_type": "code",
   "execution_count": null,
   "metadata": {},
   "outputs": [],
   "source": [
    "date.unique()"
   ]
  },
  {
   "cell_type": "code",
   "execution_count": null,
   "metadata": {},
   "outputs": [],
   "source": [
    "search_terms = terms.total_terms"
   ]
  },
  {
   "cell_type": "code",
   "execution_count": null,
   "metadata": {},
   "outputs": [],
   "source": [
    "total_resulty = pd.DataFrame(Ctotaldict, columns=['Tech','Percentage'])\n"
   ]
  },
  {
   "cell_type": "code",
   "execution_count": null,
   "metadata": {},
   "outputs": [],
   "source": [
    "total_resulty['Date'] = d"
   ]
  },
  {
   "cell_type": "code",
   "execution_count": null,
   "metadata": {
    "scrolled": true
   },
   "outputs": [],
   "source": [
    "total_resulty"
   ]
  },
  {
   "cell_type": "code",
   "execution_count": null,
   "metadata": {},
   "outputs": [],
   "source": [
    "total_resulty = total_resulty.set_index('Tech',drop=True)"
   ]
  },
  {
   "cell_type": "code",
   "execution_count": null,
   "metadata": {},
   "outputs": [],
   "source": [
    "total_series.to_csv('/users/dmauger/Flatiron/FinalProject/' + 'time_series.csv', mode='w', encoding='utf-8', index=False)"
   ]
  },
  {
   "cell_type": "code",
   "execution_count": null,
   "metadata": {},
   "outputs": [],
   "source": [
    "ldate = linkedin['date']\n",
    "ldate = pd.to_datetime(ldate).values.astype(int)\n",
    "ld = pd.to_datetime(ldate.mean())\n"
   ]
  },
  {
   "cell_type": "code",
   "execution_count": null,
   "metadata": {},
   "outputs": [],
   "source": [
    "# idate = indeed['date']\n",
    "# idate = pd.to_datetime(idate).values.astype(int)\n",
    "# ida = pd.to_datetime(idate.mean())\n",
    "# ild = "
   ]
  },
  {
   "cell_type": "code",
   "execution_count": null,
   "metadata": {},
   "outputs": [],
   "source": [
    "resulty['Date'] = ld"
   ]
  },
  {
   "cell_type": "code",
   "execution_count": null,
   "metadata": {},
   "outputs": [],
   "source": [
    "resulty = pd.DataFrame(Cdict, columns=['Tech','Percentage'])\n",
    "resulty = resulty.set_index('Tech',drop=True)"
   ]
  },
  {
   "cell_type": "code",
   "execution_count": null,
   "metadata": {},
   "outputs": [],
   "source": [
    "\n",
    "# df.to_csv('time_series.csv', mode='w', encoding='utf-8')"
   ]
  },
  {
   "cell_type": "code",
   "execution_count": null,
   "metadata": {},
   "outputs": [],
   "source": [
    "df = pd.read_csv('time_series.csv')\n",
    "df.head()"
   ]
  },
  {
   "cell_type": "code",
   "execution_count": null,
   "metadata": {},
   "outputs": [],
   "source": [
    "skills = st.selectbox('Skill Comparison: ', options=search_terms)\n",
    "\n",
    "\n",
    "plz1 = functions.compare(skills, resulty)\n",
    "plz2 = functions.compare(skills, total_resulty)\n",
    "df_test1 = pd.DataFrame(plz1)\n",
    "df_test2 = pd.DataFrame(plz2)\n",
    "df_test3 = df_test1.subtract(df_test2, fill_value=0)\n",
    "df_test3 = df_test3.reset_index()\n",
    "df_test3['Date'] = ld\n",
    "df_test3 = df_test3.rename(columns={'index':'Tech'})\n",
    "\n",
    "\n",
    "if st.button('Search: ', key=2):\n",
    "    st.dataframe(df_test3.style.highlight_max(axis=0))\n",
    "#     st.write(alt.Chart(df_test3).mark_bar(size=15).encode(x='Date', y='Percentage', color='Percentage').configure_view(strokeWidth=0,height=400,width=300))\n",
    "\n",
    "st.line_chart(df_test3)"
   ]
  },
  {
   "cell_type": "code",
   "execution_count": null,
   "metadata": {},
   "outputs": [],
   "source": [
    "time_series = pd.read_csv('time_series.csv', index_col='Tech')"
   ]
  },
  {
   "cell_type": "code",
   "execution_count": null,
   "metadata": {},
   "outputs": [],
   "source": [
    "time_series['Date']"
   ]
  },
  {
   "cell_type": "code",
   "execution_count": null,
   "metadata": {
    "scrolled": true
   },
   "outputs": [],
   "source": [
    "time_series['Date'] = pd.to_datetime(time_series['Date'])"
   ]
  },
  {
   "cell_type": "code",
   "execution_count": null,
   "metadata": {},
   "outputs": [],
   "source": [
    "time_series = pd.read_csv('time_series.csv')\n",
    "time_series.head()"
   ]
  },
  {
   "cell_type": "code",
   "execution_count": null,
   "metadata": {},
   "outputs": [],
   "source": [
    "option = 'Web Developer'"
   ]
  },
  {
   "cell_type": "code",
   "execution_count": null,
   "metadata": {},
   "outputs": [],
   "source": [
    "ts_original = total_resulty[total_resulty['Title'].astype(str).str.contains(option)]"
   ]
  },
  {
   "cell_type": "code",
   "execution_count": null,
   "metadata": {},
   "outputs": [],
   "source": []
  },
  {
   "cell_type": "code",
   "execution_count": null,
   "metadata": {},
   "outputs": [],
   "source": [
    "ts_graph = time_series[time_series['Title'].astype(str).str.contains(option)]"
   ]
  },
  {
   "cell_type": "code",
   "execution_count": null,
   "metadata": {
    "scrolled": true
   },
   "outputs": [],
   "source": [
    "ts_graph.sort_values('Date')"
   ]
  },
  {
   "cell_type": "code",
   "execution_count": null,
   "metadata": {
    "scrolled": true
   },
   "outputs": [],
   "source": [
    "resulty.info()"
   ]
  },
  {
   "cell_type": "code",
   "execution_count": null,
   "metadata": {},
   "outputs": [],
   "source": [
    "dtotal = pd.read_csv('/users/dmauger/Flatiron/FinalProject/' + 'total_data_date.csv', mode='a', encoding='utf-8', index=False))\n"
   ]
  },
  {
   "cell_type": "code",
   "execution_count": null,
   "metadata": {},
   "outputs": [],
   "source": [
    "dtotal['Date'] = datetime.now().strftime(\"%m-%d-%Y\")\n"
   ]
  },
  {
   "cell_type": "code",
   "execution_count": null,
   "metadata": {
    "scrolled": true
   },
   "outputs": [],
   "source": [
    "dtotal = dtotal.drop('date', axis=1)\n"
   ]
  },
  {
   "cell_type": "code",
   "execution_count": null,
   "metadata": {},
   "outputs": [],
   "source": [
    "d = pd.read_csv('time_series.csv')"
   ]
  },
  {
   "cell_type": "code",
   "execution_count": null,
   "metadata": {},
   "outputs": [],
   "source": [
    "d"
   ]
  },
  {
   "cell_type": "code",
   "execution_count": null,
   "metadata": {},
   "outputs": [],
   "source": [
    "dtotal.to_csv('/users/dmauger/Flatiron/FinalProject/' + 'total_data.csv', mode='w', encoding='utf-8', index=False)\n"
   ]
  },
  {
   "cell_type": "code",
   "execution_count": null,
   "metadata": {},
   "outputs": [],
   "source": [
    "d2 = pd.read_csv('total_data.csv')\n",
    "d2.head()"
   ]
  },
  {
   "cell_type": "code",
   "execution_count": null,
   "metadata": {},
   "outputs": [],
   "source": [
    "dtotal= dtotal[dtotal['title'].astype(str).str.contains(option)]"
   ]
  },
  {
   "cell_type": "code",
   "execution_count": null,
   "metadata": {
    "scrolled": true
   },
   "outputs": [],
   "source": [
    "\n",
    "tot_date = datetime(dtotal['date'])\n",
    "# tot_date2 = pd.to_datetime(tot_date.values.astype(int))\n",
    "# tot_date2 = pd.to_datetime(tot_date.mean())\n",
    "# dtotal['Date'] = pd.to_datetime(tot_date2)"
   ]
  },
  {
   "cell_type": "code",
   "execution_count": null,
   "metadata": {},
   "outputs": [],
   "source": [
    "tot_date"
   ]
  },
  {
   "cell_type": "code",
   "execution_count": null,
   "metadata": {},
   "outputs": [],
   "source": [
    "dtotal"
   ]
  },
  {
   "cell_type": "code",
   "execution_count": null,
   "metadata": {},
   "outputs": [],
   "source": [
    "fig = go.Figure(go.Scatter(\n",
    "                x=dtotal.Date,\n",
    "                y=dtotal['percentage'],\n",
    "                name=\"Historic Pattern\",\n",
    "                line_color='deepskyblue',\n",
    "                opacity=0.8))\n",
    "\n",
    "# fig.add_trace(go.Scatter(\n",
    "#                 x=ts_graph.Date,\n",
    "#                 y=ts_graph['Percentage'],\n",
    "#                 name=\"Web Results\",\n",
    "#                 line_color='dimgray',\n",
    "#                 opacity=0.8))\n",
    "\n",
    "fig.show()"
   ]
  },
  {
   "cell_type": "code",
   "execution_count": null,
   "metadata": {
    "scrolled": true
   },
   "outputs": [],
   "source": [
    "fig = go.Figure(go.Scatter(\n",
    "                x=resulty.Date,\n",
    "                y=resulty['Percentage'],\n",
    "                name=\"Historic Pattern\",\n",
    "                line_color='deepskyblue',\n",
    "                opacity=0.8))\n",
    "\n",
    "# fig.add_trace(go.Scatter(\n",
    "#                 x=ts_graph.Date,\n",
    "#                 y=ts_graph['Percentage'],\n",
    "#                 name=\"Web Results\",\n",
    "#                 line_color='dimgray',\n",
    "#                 opacity=0.8))\n",
    "\n",
    "fig.show()"
   ]
  },
  {
   "cell_type": "code",
   "execution_count": null,
   "metadata": {
    "scrolled": true
   },
   "outputs": [],
   "source": [
    "skill = 'python'\n",
    "time_series = pd.read_csv('time_series.csv')\n",
    "ts_graph = time_series[time_series['Title'].astype(str).str.contains(option)]\n",
    "ts_graph_b = time_series[time_series['Tech'].astype(str).str.contains(skill)]\n",
    "\n",
    "ts_graph_b"
   ]
  },
  {
   "cell_type": "code",
   "execution_count": null,
   "metadata": {},
   "outputs": [],
   "source": [
    "ts_graph_b"
   ]
  },
  {
   "cell_type": "code",
   "execution_count": null,
   "metadata": {},
   "outputs": [],
   "source": [
    "fig = go.Figure(data=[go.Scatter(x=ts_graph_b.Date,y=ts_graph_b['Percentage'])])\n",
    "                \n",
    "fig.show()"
   ]
  },
  {
   "cell_type": "code",
   "execution_count": null,
   "metadata": {
    "scrolled": false
   },
   "outputs": [],
   "source": [
    "tot = pd.read_csv('total_data_date.csv')\n",
    "tot.head()"
   ]
  },
  {
   "cell_type": "code",
   "execution_count": null,
   "metadata": {},
   "outputs": [],
   "source": [
    "tot.info()"
   ]
  },
  {
   "cell_type": "code",
   "execution_count": null,
   "metadata": {},
   "outputs": [],
   "source": [
    "tot_date = pd.to_datetime(tot['date'], infer_datetime_format=True)"
   ]
  },
  {
   "cell_type": "code",
   "execution_count": null,
   "metadata": {},
   "outputs": [],
   "source": []
  },
  {
   "cell_type": "code",
   "execution_count": null,
   "metadata": {},
   "outputs": [],
   "source": [
    "tot.date"
   ]
  },
  {
   "cell_type": "code",
   "execution_count": null,
   "metadata": {},
   "outputs": [],
   "source": [
    "tot_new = tot['date'].dt.strfttime(\"%Y-%m-%d\")"
   ]
  },
  {
   "cell_type": "code",
   "execution_count": null,
   "metadata": {},
   "outputs": [],
   "source": [
    "d = pd.read_csv('time_series.csv')\n",
    "d"
   ]
  },
  {
   "cell_type": "code",
   "execution_count": null,
   "metadata": {},
   "outputs": [],
   "source": [
    "dtotal = pd.read_csv('total_data_date.csv')\n",
    "\n",
    "# dtotal= dtotal[dtotal['title'].astype(str).str.contains(option)]"
   ]
  },
  {
   "cell_type": "code",
   "execution_count": null,
   "metadata": {},
   "outputs": [],
   "source": [
    "dtotal.date = datetime.now().strftime(\"%m-%d-%Y\")\n",
    "# dtotal['date'] = dtotal['date'].replace({12-17-2019: 12-15-2019})"
   ]
  },
  {
   "cell_type": "code",
   "execution_count": null,
   "metadata": {},
   "outputs": [],
   "source": [
    "dtotal.to_csv('/users/dmauger/Flatiron/FinalProject/' + 'total_data_date.csv', mode='w', encoding='utf-8', index=False)"
   ]
  },
  {
   "cell_type": "code",
   "execution_count": null,
   "metadata": {
    "scrolled": true
   },
   "outputs": [],
   "source": [
    "d = pd.read_csv('time_series.csv')\n",
    "d"
   ]
  },
  {
   "cell_type": "code",
   "execution_count": null,
   "metadata": {},
   "outputs": [],
   "source": [
    "d2=d[d['title'].astype(str).str.contains('Scientist')]"
   ]
  },
  {
   "cell_type": "code",
   "execution_count": null,
   "metadata": {
    "scrolled": true
   },
   "outputs": [],
   "source": [
    "d2['date'][0]"
   ]
  },
  {
   "cell_type": "code",
   "execution_count": null,
   "metadata": {},
   "outputs": [],
   "source": [
    "t"
   ]
  },
  {
   "cell_type": "code",
   "execution_count": null,
   "metadata": {},
   "outputs": [],
   "source": [
    "d2.date = t"
   ]
  },
  {
   "cell_type": "code",
   "execution_count": null,
   "metadata": {},
   "outputs": [],
   "source": [
    "# d2['date'].replace(day = 15)\n",
    "new = d2['date'].apply(lambda dt: dt.replace(day=1))"
   ]
  },
  {
   "cell_type": "code",
   "execution_count": null,
   "metadata": {},
   "outputs": [],
   "source": [
    "t"
   ]
  },
  {
   "cell_type": "code",
   "execution_count": null,
   "metadata": {},
   "outputs": [],
   "source": [
    "c = d.tail(50)"
   ]
  },
  {
   "cell_type": "code",
   "execution_count": null,
   "metadata": {},
   "outputs": [],
   "source": [
    "ts = d[d['Title'].astype(str).str.contains('Web Developer')]"
   ]
  },
  {
   "cell_type": "code",
   "execution_count": null,
   "metadata": {},
   "outputs": [],
   "source": [
    "skill = 'SQL'"
   ]
  },
  {
   "cell_type": "code",
   "execution_count": null,
   "metadata": {},
   "outputs": [],
   "source": [
    "ts2 = ts[ts.Tech.astype(str).str.contains(skill.lower())]"
   ]
  },
  {
   "cell_type": "code",
   "execution_count": null,
   "metadata": {},
   "outputs": [],
   "source": [
    "fig = go.Figure(data=[go.Scatter(x=ts2.Date,y=ts2['Percentage'])])\n",
    "fig.update_layout(xaxis_tickangle=-45)\n",
    "fig.show()"
   ]
  },
  {
   "cell_type": "code",
   "execution_count": null,
   "metadata": {},
   "outputs": [],
   "source": [
    "d.head(50)"
   ]
  },
  {
   "cell_type": "code",
   "execution_count": null,
   "metadata": {},
   "outputs": [],
   "source": []
  }
 ],
 "metadata": {
  "kernelspec": {
   "display_name": "Python [conda env:learn-env] *",
   "language": "python",
   "name": "conda-env-learn-env-py"
  },
  "language_info": {
   "codemirror_mode": {
    "name": "ipython",
    "version": 3
   },
   "file_extension": ".py",
   "mimetype": "text/x-python",
   "name": "python",
   "nbconvert_exporter": "python",
   "pygments_lexer": "ipython3",
   "version": "3.6.6"
  }
 },
 "nbformat": 4,
 "nbformat_minor": 2
}
