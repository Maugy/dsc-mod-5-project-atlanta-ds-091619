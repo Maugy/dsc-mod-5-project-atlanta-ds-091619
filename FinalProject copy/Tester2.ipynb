{
 "cells": [
  {
   "cell_type": "code",
   "execution_count": 1,
   "metadata": {
    "ExecuteTime": {
     "end_time": "2019-12-13T19:35:06.722039Z",
     "start_time": "2019-12-13T19:35:05.156738Z"
    }
   },
   "outputs": [],
   "source": [
    "import nltk\n",
    "from nltk.corpus import stopwords\n",
    "import string\n",
    "from nltk import word_tokenize, FreqDist\n",
    "from sklearn.feature_extraction.text import TfidfVectorizer\n",
    "import matplotlib.pyplot as plt\n",
    "\n",
    "import pandas as pd \n",
    "import numpy as np\n",
    "from bs4 import BeautifulSoup\n",
    "import requests\n",
    "import json\n",
    "from time import sleep, time\n",
    "import lxml\n",
    "import re\n",
    "from urllib.parse import urljoin\n",
    "import unicodedata\n",
    "from collections import defaultdict, Counter\n",
    "import WebScrape_Indeed\n",
    "import WebScrape_LinkedIn\n",
    "import streamlit as st \n",
    "import terms \n",
    "import Cities \n",
    "import functions\n",
    "import time\n",
    "\n",
    "\n"
   ]
  },
  {
   "cell_type": "code",
   "execution_count": 2,
   "metadata": {
    "ExecuteTime": {
     "end_time": "2019-12-13T19:35:06.727293Z",
     "start_time": "2019-12-13T19:35:06.724555Z"
    }
   },
   "outputs": [],
   "source": [
    "search_terms = terms.total_terms"
   ]
  },
  {
   "cell_type": "code",
   "execution_count": 3,
   "metadata": {
    "ExecuteTime": {
     "end_time": "2019-12-13T19:35:06.732075Z",
     "start_time": "2019-12-13T19:35:06.729377Z"
    }
   },
   "outputs": [],
   "source": [
    "skills = search_terms[10:20]"
   ]
  },
  {
   "cell_type": "code",
   "execution_count": 4,
   "metadata": {
    "ExecuteTime": {
     "end_time": "2019-12-13T19:35:06.773759Z",
     "start_time": "2019-12-13T19:35:06.734339Z"
    }
   },
   "outputs": [],
   "source": [
    "linkedin = pd.read_csv('linkedin.csv')\n",
    "indeed = pd.read_csv('indeed.csv')"
   ]
  },
  {
   "cell_type": "code",
   "execution_count": 5,
   "metadata": {
    "ExecuteTime": {
     "end_time": "2019-12-13T19:35:08.591041Z",
     "start_time": "2019-12-13T19:35:07.315616Z"
    }
   },
   "outputs": [],
   "source": [
    "data_li = linkedin['description']\n",
    "data_len = len(data_li)\n",
    "data_li = functions.clean(data_li)\n",
    "test = functions.word_count(data_li)\n",
    "\n",
    "data_ind = indeed['description']\n",
    "data_len2 = len(data_ind)\n",
    "data_ind = functions.clean(data_ind)\n",
    "test2 = functions.word_count(data_ind)\n",
    "web_len = data_len + data_len2\n",
    "\n",
    "c = Counter(test) + Counter(test2) \n",
    "total = sum(c.values())\n",
    "Cdict = [(i, c[i] / total * 100.0) for i in c]\n",
    "\n",
    "results = pd.DataFrame(Cdict, columns=['Tech','Percentage'])"
   ]
  },
  {
   "cell_type": "code",
   "execution_count": 6,
   "metadata": {
    "ExecuteTime": {
     "end_time": "2019-12-13T19:35:08.660030Z",
     "start_time": "2019-12-13T19:35:08.593053Z"
    }
   },
   "outputs": [],
   "source": [
    "dtotal = pd.read_csv('total_data.csv')"
   ]
  },
  {
   "cell_type": "code",
   "execution_count": 7,
   "metadata": {
    "ExecuteTime": {
     "end_time": "2019-12-13T19:35:08.684213Z",
     "start_time": "2019-12-13T19:35:08.661991Z"
    },
    "scrolled": true
   },
   "outputs": [
    {
     "data": {
      "text/html": [
       "<div>\n",
       "<style scoped>\n",
       "    .dataframe tbody tr th:only-of-type {\n",
       "        vertical-align: middle;\n",
       "    }\n",
       "\n",
       "    .dataframe tbody tr th {\n",
       "        vertical-align: top;\n",
       "    }\n",
       "\n",
       "    .dataframe thead th {\n",
       "        text-align: right;\n",
       "    }\n",
       "</style>\n",
       "<table border=\"1\" class=\"dataframe\">\n",
       "  <thead>\n",
       "    <tr style=\"text-align: right;\">\n",
       "      <th></th>\n",
       "      <th>title</th>\n",
       "      <th>company</th>\n",
       "      <th>location</th>\n",
       "      <th>description</th>\n",
       "    </tr>\n",
       "  </thead>\n",
       "  <tbody>\n",
       "    <tr>\n",
       "      <th>0</th>\n",
       "      <td>Data Scientist</td>\n",
       "      <td>Esurance</td>\n",
       "      <td>San Francisco, CA 94105</td>\n",
       "      <td>[     Summary       Esurance is looking for a ...</td>\n",
       "    </tr>\n",
       "    <tr>\n",
       "      <th>1</th>\n",
       "      <td>DATA SCIENTIST</td>\n",
       "      <td>Walmart</td>\n",
       "      <td>Sunnyvale, CA 94087</td>\n",
       "      <td>[     Position Description    Data Scientist i...</td>\n",
       "    </tr>\n",
       "    <tr>\n",
       "      <th>2</th>\n",
       "      <td>Data Scientist</td>\n",
       "      <td>Kohl's</td>\n",
       "      <td>Milpitas, CA 95035</td>\n",
       "      <td>[  Interpret and apply data analyses and expla...</td>\n",
       "    </tr>\n",
       "    <tr>\n",
       "      <th>3</th>\n",
       "      <td>DATA SCIENTIST</td>\n",
       "      <td>Walmart eCommerce</td>\n",
       "      <td>Sunnyvale, CA 94087</td>\n",
       "      <td>[     Position Description    Data Scientist i...</td>\n",
       "    </tr>\n",
       "    <tr>\n",
       "      <th>4</th>\n",
       "      <td>Staff Data Scientist (GEC11903)</td>\n",
       "      <td>NaN</td>\n",
       "      <td>NaN</td>\n",
       "      <td>[     Position Description      Understands an...</td>\n",
       "    </tr>\n",
       "  </tbody>\n",
       "</table>\n",
       "</div>"
      ],
      "text/plain": [
       "                             title            company  \\\n",
       "0                   Data Scientist           Esurance   \n",
       "1                   DATA SCIENTIST            Walmart   \n",
       "2                   Data Scientist             Kohl's   \n",
       "3                   DATA SCIENTIST  Walmart eCommerce   \n",
       "4  Staff Data Scientist (GEC11903)                NaN   \n",
       "\n",
       "                  location                                        description  \n",
       "0  San Francisco, CA 94105  [     Summary       Esurance is looking for a ...  \n",
       "1      Sunnyvale, CA 94087  [     Position Description    Data Scientist i...  \n",
       "2       Milpitas, CA 95035  [  Interpret and apply data analyses and expla...  \n",
       "3      Sunnyvale, CA 94087  [     Position Description    Data Scientist i...  \n",
       "4                      NaN  [     Position Description      Understands an...  "
      ]
     },
     "execution_count": 7,
     "metadata": {},
     "output_type": "execute_result"
    }
   ],
   "source": [
    "dtotal.head()"
   ]
  },
  {
   "cell_type": "code",
   "execution_count": 8,
   "metadata": {
    "ExecuteTime": {
     "end_time": "2019-12-13T19:35:08.689192Z",
     "start_time": "2019-12-13T19:35:08.686681Z"
    }
   },
   "outputs": [],
   "source": [
    "dtotal = dtotal['description']"
   ]
  },
  {
   "cell_type": "code",
   "execution_count": 9,
   "metadata": {
    "ExecuteTime": {
     "end_time": "2019-12-13T19:35:09.391026Z",
     "start_time": "2019-12-13T19:35:08.817082Z"
    }
   },
   "outputs": [],
   "source": [
    "dtotal = functions.clean(dtotal)"
   ]
  },
  {
   "cell_type": "code",
   "execution_count": 10,
   "metadata": {
    "ExecuteTime": {
     "end_time": "2019-12-13T19:35:13.033456Z",
     "start_time": "2019-12-13T19:35:09.698140Z"
    }
   },
   "outputs": [],
   "source": [
    "dtotal = functions.word_count(dtotal)"
   ]
  },
  {
   "cell_type": "code",
   "execution_count": 11,
   "metadata": {
    "ExecuteTime": {
     "end_time": "2019-12-13T19:35:13.039377Z",
     "start_time": "2019-12-13T19:35:13.036204Z"
    }
   },
   "outputs": [],
   "source": [
    "ctotal = Counter(dtotal)"
   ]
  },
  {
   "cell_type": "code",
   "execution_count": 12,
   "metadata": {
    "ExecuteTime": {
     "end_time": "2019-12-13T19:35:13.044156Z",
     "start_time": "2019-12-13T19:35:13.041745Z"
    }
   },
   "outputs": [],
   "source": [
    "total = sum(ctotal.values())"
   ]
  },
  {
   "cell_type": "code",
   "execution_count": 13,
   "metadata": {
    "ExecuteTime": {
     "end_time": "2019-12-13T19:35:13.049414Z",
     "start_time": "2019-12-13T19:35:13.046258Z"
    }
   },
   "outputs": [
    {
     "data": {
      "text/plain": [
       "33123"
      ]
     },
     "execution_count": 13,
     "metadata": {},
     "output_type": "execute_result"
    }
   ],
   "source": [
    "total"
   ]
  },
  {
   "cell_type": "code",
   "execution_count": 14,
   "metadata": {
    "ExecuteTime": {
     "end_time": "2019-12-13T19:35:13.054629Z",
     "start_time": "2019-12-13T19:35:13.052252Z"
    }
   },
   "outputs": [],
   "source": [
    "Ctotaldict = [(i, ctotal[i] / total * 100.0) for i in ctotal]"
   ]
  },
  {
   "cell_type": "code",
   "execution_count": 15,
   "metadata": {
    "ExecuteTime": {
     "end_time": "2019-12-13T19:35:13.063094Z",
     "start_time": "2019-12-13T19:35:13.056770Z"
    }
   },
   "outputs": [
    {
     "data": {
      "text/plain": [
       "[('ajax', 0.3683241252302026),\n",
       " ('asp', 0.48908613350240016),\n",
       " ('asp.net', 0.0),\n",
       " ('aws', 4.133079733115961),\n",
       " ('acrobat', 0.006038100413609878),\n",
       " ('airflow', 0.4045527277118618),\n",
       " ('alteryx', 0.024152401654439513),\n",
       " ('android', 0.4166289285390816),\n",
       " ('angular', 1.3163058901669533),\n",
       " ('ansible', 0.1449144099266371),\n",
       " ('apache', 0.9238293632823114),\n",
       " ('arduino', 0.006038100413609878),\n",
       " ('atom', 0.0),\n",
       " ('azure', 3.3692600307943117),\n",
       " ('bsd', 0.006038100413609878),\n",
       " ('bash', 0.5796576397065484),\n",
       " ('bigquery', 0.24152401654439515),\n",
       " ('c#', 0.0),\n",
       " ('c++', 0.0),\n",
       " ('css', 2.686954684056396),\n",
       " ('caffe', 0.018114301240829637),\n",
       " ('cassandra', 0.446819430607131),\n",
       " ('chef', 0.24152401654439515),\n",
       " ('couchbase', 0.024152401654439513),\n",
       " ('cryengine', 0.0),\n",
       " ('d3', 0.0),\n",
       " ('databricks', 0.1449144099266371),\n",
       " ('django', 0.11774295806539262),\n",
       " ('docker', 0.7909911541828941),\n",
       " ('drupal', 0.07245720496331855),\n",
       " ('dynamodb', 0.1449144099266371),\n",
       " ('elixir', 0.04226670289526915),\n",
       " ('excel', 1.2166772333423903),\n",
       " ('fastai', 0.0),\n",
       " ('firebase', 0.04226670289526915),\n",
       " ('flask', 0.030190502068049394),\n",
       " ('gcp', 0.5524861878453038),\n",
       " ('git', 1.5850013585725928),\n",
       " ('google cloud', 0.0),\n",
       " ('html', 3.058297859493403),\n",
       " ('hadoop', 2.4212782658575613),\n",
       " ('hbase', 0.6038100413609878),\n",
       " ('hive', 1.5095251034024695),\n",
       " ('ibm', 0.38040032605742236),\n",
       " ('ipython', 0.0),\n",
       " ('illustrator', 0.09660960661775805),\n",
       " ('indesign', 0.07245720496331855),\n",
       " ('intellij', 0.012076200827219757),\n",
       " ('java', 4.3202608459378675),\n",
       " ('javascript', 4.136098783322767),\n",
       " ('jupyter', 0.18718111282190622),\n",
       " ('keras', 0.09660960661775805),\n",
       " ('komodo', 0.0),\n",
       " ('kubernetes', 0.45889563143435075),\n",
       " ('laravel', 0.1932192132355161),\n",
       " ('linux', 2.451468767925611),\n",
       " ('macos', 0.05434290372248891),\n",
       " ('mariadb', 0.12680010868580746),\n",
       " ('matlab', 0.591733840533768),\n",
       " ('microsoft', 4.392718050901187),\n",
       " ('mongodb', 0.6128671919814027),\n",
       " ('mysql', 1.7842586722217189),\n",
       " ('net', 1.745011019533255),\n",
       " ('nlp', 0.8815626603870422),\n",
       " ('netbeans', 0.0),\n",
       " ('netsuite', 0.030190502068049394),\n",
       " ('nosql', 1.1653533798267066),\n",
       " ('node', 0.5736195392929385),\n",
       " ('notepad', 0.0),\n",
       " ('numpy', 0.35624792440298286),\n",
       " ('objective c', 0.0),\n",
       " ('oracle', 1.24082963499683),\n",
       " ('php', 1.24686773541044),\n",
       " ('phpstorm', 0.0),\n",
       " ('pmp', 0.018114301240829637),\n",
       " ('pandas', 0.4679527820547656),\n",
       " ('perl', 0.4649337318479606),\n",
       " ('photoshop', 0.19925731364912597),\n",
       " ('pi', 0.21133351447634574),\n",
       " ('pig', 0.298885970473689),\n",
       " ('postgresql', 0.49512423391601),\n",
       " ('powerpoint', 0.4226670289526915),\n",
       " ('powershell', 0.15699061075385684),\n",
       " ('project management', 0.0),\n",
       " ('puppet', 0.10264770703136794),\n",
       " ('pycharm', 0.0),\n",
       " ('pytorch', 0.15397156054705188),\n",
       " ('python', 9.353017540681702),\n",
       " ('r', 4.359508498626332),\n",
       " ('rails', 0.3683241252302026),\n",
       " ('raspberry', 0.036228602481659274),\n",
       " ('react', 1.3646106934758324),\n",
       " ('ruby', 1.0747818736225583),\n",
       " ('rubymine', 0.0),\n",
       " ('sap', 0.446819430607131),\n",
       " ('sas', 1.3464963922350028),\n",
       " ('spss', 0.1932192132355161),\n",
       " ('sql', 10.711590133743924),\n",
       " ('sqlite', 0.0),\n",
       " ('salesforce', 0.1932192132355161),\n",
       " ('scala', 1.147239078585877),\n",
       " ('scikit-learn', 0.0),\n",
       " ('scrum', 1.0747818736225583),\n",
       " ('shell', 0.742686350874015),\n",
       " ('spark', 2.372973462548682),\n",
       " ('spring', 0.5675814388793285),\n",
       " ('sublime', 0.0),\n",
       " ('swift', 0.10868580744497781),\n",
       " ('tableau', 1.9020016302871117),\n",
       " ('tensorflow', 0.3381336231621532),\n",
       " ('textmate', 0.0),\n",
       " ('torch', 0.07245720496331855),\n",
       " ('unity', 0.07245720496331855),\n",
       " ('unreal engine', 0.0),\n",
       " ('visual studio', 0.0),\n",
       " ('vue', 0.23548591613078523),\n",
       " ('watson', 0.030190502068049394),\n",
       " ('webassembly', 0.018114301240829637),\n",
       " ('windows', 0.99024846783202),\n",
       " ('wordpress', 0.2898288198532742),\n",
       " ('xgboost', 0.057361953929293844),\n",
       " ('xml', 0.47700993267518044),\n",
       " ('xamarin', 0.06641910454970866),\n",
       " ('xcode', 0.018114301240829637),\n",
       " ('zend', 0.0),\n",
       " ('ios', 0.3139812215077137),\n",
       " ('jquery', 0.9177912628687015),\n",
       " ('mapreduce', 0.3441717235757631),\n",
       " ('sklearn', 0.015095251034024697)]"
      ]
     },
     "execution_count": 15,
     "metadata": {},
     "output_type": "execute_result"
    }
   ],
   "source": [
    "Ctotaldict"
   ]
  },
  {
   "cell_type": "code",
   "execution_count": 16,
   "metadata": {
    "ExecuteTime": {
     "end_time": "2019-12-13T19:35:13.067641Z",
     "start_time": "2019-12-13T19:35:13.064510Z"
    }
   },
   "outputs": [],
   "source": [
    "\n",
    "# dtotal= pd.DataFrame(dtotal['title'].astype(str))\n",
    "\n",
    "\n",
    "\n",
    "\n",
    "\n",
    "\n",
    "\n",
    "\n",
    "\n",
    "total_result = pd.DataFrame(Ctotaldict, columns=['Tech','Percentage'])"
   ]
  },
  {
   "cell_type": "code",
   "execution_count": 17,
   "metadata": {
    "ExecuteTime": {
     "end_time": "2019-12-13T19:35:14.665595Z",
     "start_time": "2019-12-13T19:35:14.661416Z"
    }
   },
   "outputs": [],
   "source": [
    "total_result = total_result.set_index('Tech', drop=True)"
   ]
  },
  {
   "cell_type": "code",
   "execution_count": 18,
   "metadata": {
    "ExecuteTime": {
     "end_time": "2019-12-13T19:35:15.715680Z",
     "start_time": "2019-12-13T19:35:15.711280Z"
    }
   },
   "outputs": [
    {
     "data": {
      "text/plain": [
       "list"
      ]
     },
     "execution_count": 18,
     "metadata": {},
     "output_type": "execute_result"
    }
   ],
   "source": [
    "type(skills)"
   ]
  },
  {
   "cell_type": "code",
   "execution_count": 19,
   "metadata": {
    "ExecuteTime": {
     "end_time": "2019-12-13T19:35:18.208398Z",
     "start_time": "2019-12-13T19:35:18.203679Z"
    }
   },
   "outputs": [],
   "source": [
    "results = results.set_index('Tech', drop=True)"
   ]
  },
  {
   "cell_type": "code",
   "execution_count": 20,
   "metadata": {
    "ExecuteTime": {
     "end_time": "2019-12-13T19:35:18.793478Z",
     "start_time": "2019-12-13T19:35:18.785236Z"
    },
    "scrolled": true
   },
   "outputs": [
    {
     "data": {
      "text/html": [
       "<div>\n",
       "<style scoped>\n",
       "    .dataframe tbody tr th:only-of-type {\n",
       "        vertical-align: middle;\n",
       "    }\n",
       "\n",
       "    .dataframe tbody tr th {\n",
       "        vertical-align: top;\n",
       "    }\n",
       "\n",
       "    .dataframe thead th {\n",
       "        text-align: right;\n",
       "    }\n",
       "</style>\n",
       "<table border=\"1\" class=\"dataframe\">\n",
       "  <thead>\n",
       "    <tr style=\"text-align: right;\">\n",
       "      <th></th>\n",
       "      <th>Percentage</th>\n",
       "    </tr>\n",
       "    <tr>\n",
       "      <th>Tech</th>\n",
       "      <th></th>\n",
       "    </tr>\n",
       "  </thead>\n",
       "  <tbody>\n",
       "    <tr>\n",
       "      <th>ajax</th>\n",
       "      <td>0.011815</td>\n",
       "    </tr>\n",
       "    <tr>\n",
       "      <th>asp</th>\n",
       "      <td>0.035444</td>\n",
       "    </tr>\n",
       "    <tr>\n",
       "      <th>aws</th>\n",
       "      <td>2.611059</td>\n",
       "    </tr>\n",
       "    <tr>\n",
       "      <th>airflow</th>\n",
       "      <td>0.189036</td>\n",
       "    </tr>\n",
       "    <tr>\n",
       "      <th>alteryx</th>\n",
       "      <td>0.366257</td>\n",
       "    </tr>\n",
       "    <tr>\n",
       "      <th>...</th>\n",
       "      <td>...</td>\n",
       "    </tr>\n",
       "    <tr>\n",
       "      <th>xgboost</th>\n",
       "      <td>0.259924</td>\n",
       "    </tr>\n",
       "    <tr>\n",
       "      <th>xml</th>\n",
       "      <td>0.141777</td>\n",
       "    </tr>\n",
       "    <tr>\n",
       "      <th>jquery</th>\n",
       "      <td>0.011815</td>\n",
       "    </tr>\n",
       "    <tr>\n",
       "      <th>mapreduce</th>\n",
       "      <td>0.685255</td>\n",
       "    </tr>\n",
       "    <tr>\n",
       "      <th>sklearn</th>\n",
       "      <td>0.189036</td>\n",
       "    </tr>\n",
       "  </tbody>\n",
       "</table>\n",
       "<p>88 rows × 1 columns</p>\n",
       "</div>"
      ],
      "text/plain": [
       "           Percentage\n",
       "Tech                 \n",
       "ajax         0.011815\n",
       "asp          0.035444\n",
       "aws          2.611059\n",
       "airflow      0.189036\n",
       "alteryx      0.366257\n",
       "...               ...\n",
       "xgboost      0.259924\n",
       "xml          0.141777\n",
       "jquery       0.011815\n",
       "mapreduce    0.685255\n",
       "sklearn      0.189036\n",
       "\n",
       "[88 rows x 1 columns]"
      ]
     },
     "execution_count": 20,
     "metadata": {},
     "output_type": "execute_result"
    }
   ],
   "source": [
    "results"
   ]
  },
  {
   "cell_type": "code",
   "execution_count": 21,
   "metadata": {
    "ExecuteTime": {
     "end_time": "2019-12-13T19:35:20.428988Z",
     "start_time": "2019-12-13T19:35:20.424102Z"
    }
   },
   "outputs": [
    {
     "data": {
      "text/plain": [
       "['Apache',\n",
       " 'Arduino',\n",
       " 'Atom',\n",
       " 'Azure',\n",
       " 'BSD',\n",
       " 'Bash',\n",
       " 'BigQuery',\n",
       " 'C#',\n",
       " 'C++',\n",
       " 'CSS']"
      ]
     },
     "execution_count": 21,
     "metadata": {},
     "output_type": "execute_result"
    }
   ],
   "source": [
    "skills"
   ]
  },
  {
   "cell_type": "code",
   "execution_count": null,
   "metadata": {},
   "outputs": [],
   "source": [
    "# skills = st.multiselect('Skill Comparison: ', options=search_terms)\n",
    "# st.write('You selected: ', skills)"
   ]
  },
  {
   "cell_type": "code",
   "execution_count": 22,
   "metadata": {
    "ExecuteTime": {
     "end_time": "2019-12-13T19:35:59.576272Z",
     "start_time": "2019-12-13T19:35:59.572195Z"
    }
   },
   "outputs": [],
   "source": [
    "def compare(word):\n",
    "    \n",
    "    test = []\n",
    "    for x in word:\n",
    "        if x in results.index: \n",
    "            test.append(results.loc[x])\n",
    "        return test\n",
    "        \n",
    "        "
   ]
  },
  {
   "cell_type": "code",
   "execution_count": null,
   "metadata": {},
   "outputs": [],
   "source": [
    "def compare(word):\n",
    "    \n",
    "    test = []\n",
    "    if word in results.index: \n",
    "        test.append(results.loc[word])\n",
    "        return test\n",
    "        "
   ]
  },
  {
   "cell_type": "code",
   "execution_count": 23,
   "metadata": {
    "ExecuteTime": {
     "end_time": "2019-12-13T19:36:09.447783Z",
     "start_time": "2019-12-13T19:36:09.444658Z"
    }
   },
   "outputs": [],
   "source": [
    "example = compare('BigQuery')"
   ]
  },
  {
   "cell_type": "code",
   "execution_count": 24,
   "metadata": {
    "ExecuteTime": {
     "end_time": "2019-12-13T19:36:10.240502Z",
     "start_time": "2019-12-13T19:36:10.235698Z"
    }
   },
   "outputs": [
    {
     "data": {
      "text/plain": [
       "[]"
      ]
     },
     "execution_count": 24,
     "metadata": {},
     "output_type": "execute_result"
    }
   ],
   "source": [
    "example"
   ]
  },
  {
   "cell_type": "code",
   "execution_count": null,
   "metadata": {},
   "outputs": [],
   "source": [
    "def compare(word, result):\n",
    "    \n",
    "    test = []\n",
    "#     perc = ' '.join([str(elem) for elem in skills])\n",
    "    for x in perc.split(' '): \n",
    "        [test.append(result.loc[x]) for x in word if x in result.index]       \n",
    "    return test"
   ]
  },
  {
   "cell_type": "code",
   "execution_count": null,
   "metadata": {},
   "outputs": [],
   "source": [
    "test = compare(skills, results)"
   ]
  },
  {
   "cell_type": "code",
   "execution_count": null,
   "metadata": {},
   "outputs": [],
   "source": [
    "test"
   ]
  },
  {
   "cell_type": "code",
   "execution_count": null,
   "metadata": {},
   "outputs": [],
   "source": [
    "perc = ' '.join([str(elem) for elem in skills])"
   ]
  },
  {
   "cell_type": "code",
   "execution_count": null,
   "metadata": {},
   "outputs": [],
   "source": [
    "for x in perc.split(' '):\n",
    "    print(x)"
   ]
  },
  {
   "cell_type": "code",
   "execution_count": null,
   "metadata": {},
   "outputs": [],
   "source": [
    "t = compare(skills, results)"
   ]
  },
  {
   "cell_type": "code",
   "execution_count": null,
   "metadata": {},
   "outputs": [],
   "source": [
    "t"
   ]
  },
  {
   "cell_type": "code",
   "execution_count": null,
   "metadata": {},
   "outputs": [],
   "source": [
    "testy1 = compare('mapreduce', results)"
   ]
  },
  {
   "cell_type": "code",
   "execution_count": null,
   "metadata": {},
   "outputs": [],
   "source": [
    "testy2 = compare('mapreduce', total_result)"
   ]
  },
  {
   "cell_type": "code",
   "execution_count": null,
   "metadata": {},
   "outputs": [],
   "source": [
    "df_test1 = pd.DataFrame(testy1)"
   ]
  },
  {
   "cell_type": "code",
   "execution_count": null,
   "metadata": {},
   "outputs": [],
   "source": [
    "df_test2 = pd.DataFrame(testy2)"
   ]
  },
  {
   "cell_type": "code",
   "execution_count": null,
   "metadata": {
    "scrolled": true
   },
   "outputs": [],
   "source": [
    "df_test3 = df_test1.subtract(df_test2, fill_value=0)"
   ]
  },
  {
   "cell_type": "code",
   "execution_count": null,
   "metadata": {},
   "outputs": [],
   "source": [
    "df_test3"
   ]
  },
  {
   "cell_type": "code",
   "execution_count": null,
   "metadata": {
    "scrolled": true
   },
   "outputs": [],
   "source": [
    "df_test2"
   ]
  },
  {
   "cell_type": "code",
   "execution_count": null,
   "metadata": {},
   "outputs": [],
   "source": [
    "df_test1"
   ]
  },
  {
   "cell_type": "code",
   "execution_count": null,
   "metadata": {},
   "outputs": [],
   "source": [
    "equal = (str(testy))"
   ]
  },
  {
   "cell_type": "code",
   "execution_count": null,
   "metadata": {},
   "outputs": [],
   "source": [
    "equal2 = (str(testy2))"
   ]
  },
  {
   "cell_type": "code",
   "execution_count": null,
   "metadata": {},
   "outputs": [],
   "source": [
    "equal3 = equal - equal2"
   ]
  },
  {
   "cell_type": "code",
   "execution_count": null,
   "metadata": {},
   "outputs": [],
   "source": [
    "search_terms = terms.total_terms"
   ]
  },
  {
   "cell_type": "code",
   "execution_count": null,
   "metadata": {},
   "outputs": [],
   "source": [
    "def clean(raw):\n",
    "    raw = ' '.join(raw.tolist())\n",
    "    for char in '-.,\\n':\n",
    "        raw = raw.replace(char,' ')\n",
    "    \n",
    "    pattern = \"([a-zA-Z]+(?:'[a-z]+)?)\"\n",
    "    raw = nltk.regexp_tokenize(raw, pattern)\n",
    "    return raw\n",
    "\n"
   ]
  },
  {
   "cell_type": "code",
   "execution_count": null,
   "metadata": {},
   "outputs": [],
   "source": [
    "def clean_C(raw):\n",
    "    sharp = [i for i in raw.split() if i.endswith(\"#\")]\n",
    "    plus = [i for i in raw.split() if i.endswith(\"+\")]\n",
    "    return sharp, plus"
   ]
  },
  {
   "cell_type": "code",
   "execution_count": null,
   "metadata": {},
   "outputs": [],
   "source": [
    "def word_count(string):\n",
    "    freq = defaultdict(int)\n",
    "    List1 = [x.lower() for x in search_terms]\n",
    "    List2 = [x.lower() for x in string]\n",
    "\n",
    "    for item in List1:\n",
    "        if item in List2:\n",
    "            freq[item] = List2.count(item)\n",
    "        else:\n",
    "            freq[item] = 0 \n",
    "    return freq"
   ]
  },
  {
   "cell_type": "code",
   "execution_count": null,
   "metadata": {},
   "outputs": [],
   "source": [
    "raw = pd.read_csv('linkedin.csv')"
   ]
  },
  {
   "cell_type": "code",
   "execution_count": null,
   "metadata": {},
   "outputs": [],
   "source": [
    "raw = raw['description']"
   ]
  },
  {
   "cell_type": "code",
   "execution_count": null,
   "metadata": {},
   "outputs": [],
   "source": [
    "raw = str(raw)"
   ]
  },
  {
   "cell_type": "code",
   "execution_count": null,
   "metadata": {},
   "outputs": [],
   "source": [
    "for char in '-.,\\n':\n",
    "        raw = raw.replace(char,' ')"
   ]
  },
  {
   "cell_type": "code",
   "execution_count": null,
   "metadata": {},
   "outputs": [],
   "source": [
    "test = re.compile(r'([^a-zA-Z0-9])(%s)([^a-zA-Z0-9])' % re.escape(\"C++\"), re.I)\n",
    "raw_new = nltk.regexp_tokenize(raw, test)"
   ]
  },
  {
   "cell_type": "code",
   "execution_count": null,
   "metadata": {},
   "outputs": [],
   "source": [
    "raw_new"
   ]
  },
  {
   "cell_type": "code",
   "execution_count": null,
   "metadata": {},
   "outputs": [],
   "source": [
    "def word_count(string):\n",
    "    freq = defaultdict(int)\n",
    "    List1 = [x.lower() for x in search_terms]\n",
    "    List2 = [x.lower() for x in string]\n",
    "\n",
    "    for item in List1:\n",
    "        if item in List2:\n",
    "            freq[item] = List2.count(item)\n",
    "        else:\n",
    "            freq[item] = 0 \n",
    "    return freq\n"
   ]
  },
  {
   "cell_type": "code",
   "execution_count": null,
   "metadata": {},
   "outputs": [],
   "source": [
    "test.head(50)"
   ]
  },
  {
   "cell_type": "code",
   "execution_count": null,
   "metadata": {},
   "outputs": [],
   "source": [
    "import nltk\n",
    "from nltk.corpus import stopwords\n",
    "import string\n",
    "from nltk import word_tokenize, FreqDist\n",
    "from sklearn.feature_extraction.text import TfidfVectorizer\n",
    "import matplotlib.pyplot as plt\n",
    "\n",
    "import pandas as pd \n",
    "import numpy as np\n",
    "from bs4 import BeautifulSoup\n",
    "import requests\n",
    "import json\n",
    "from time import sleep, time\n",
    "import lxml\n",
    "import re\n",
    "from urllib.parse import urljoin\n",
    "import unicodedata\n",
    "from collections import defaultdict, Counter\n",
    "import WebScrape_Indeed\n",
    "import WebScrape_LinkedIn\n",
    "import streamlit as st \n",
    "import terms \n",
    "import Cities \n",
    "import functions\n",
    "import time\n"
   ]
  },
  {
   "cell_type": "code",
   "execution_count": null,
   "metadata": {},
   "outputs": [],
   "source": [
    "def clean(raw):\n",
    "#     raw = ' '.join(raw.tolist())\n",
    "    for char in '-.,\\n':\n",
    "        raw = raw.replace(char,' ')\n",
    "    \n",
    "    pattern = \"([a-zA-Z]+(?:'[a-z]+)?)\"\n",
    "    raw = nltk.regexp_tokenize(raw, pattern)\n",
    "    return raw"
   ]
  },
  {
   "cell_type": "code",
   "execution_count": null,
   "metadata": {},
   "outputs": [],
   "source": [
    "test = pd.read_csv('total_data.csv')"
   ]
  },
  {
   "cell_type": "code",
   "execution_count": null,
   "metadata": {},
   "outputs": [],
   "source": [
    "location = test['location']"
   ]
  },
  {
   "cell_type": "code",
   "execution_count": null,
   "metadata": {},
   "outputs": [],
   "source": [
    "location = location.to_list()"
   ]
  },
  {
   "cell_type": "code",
   "execution_count": null,
   "metadata": {},
   "outputs": [],
   "source": [
    "location"
   ]
  },
  {
   "cell_type": "code",
   "execution_count": null,
   "metadata": {},
   "outputs": [],
   "source": [
    "# for x in location:\n",
    "#     city = x.split(',')[0]\n",
    "    \n",
    "#     print(city)\n",
    "\n",
    "cities = [x.split(',')[0] for x in location if isinstance(x, str)]"
   ]
  },
  {
   "cell_type": "code",
   "execution_count": null,
   "metadata": {},
   "outputs": [],
   "source": [
    "cities = list(set(cities))"
   ]
  },
  {
   "cell_type": "code",
   "execution_count": null,
   "metadata": {},
   "outputs": [],
   "source": [
    "cities"
   ]
  },
  {
   "cell_type": "code",
   "execution_count": null,
   "metadata": {},
   "outputs": [],
   "source": [
    "census = pd.read_csv('uscities.csv')\n",
    "census.head()"
   ]
  },
  {
   "cell_type": "code",
   "execution_count": null,
   "metadata": {},
   "outputs": [],
   "source": [
    "census = census[['city', 'lat', 'lng']]\n",
    "# census.set_index(\"city\", inplace=True)"
   ]
  },
  {
   "cell_type": "code",
   "execution_count": null,
   "metadata": {},
   "outputs": [],
   "source": [
    "census = census.drop_duplicates('city', keep='first')"
   ]
  },
  {
   "cell_type": "code",
   "execution_count": null,
   "metadata": {},
   "outputs": [],
   "source": [
    "census = census.set_index('city',drop=True)"
   ]
  },
  {
   "cell_type": "code",
   "execution_count": null,
   "metadata": {},
   "outputs": [],
   "source": [
    "census.to_csv('census_location.csv', index_label='city')"
   ]
  },
  {
   "cell_type": "code",
   "execution_count": null,
   "metadata": {
    "scrolled": true
   },
   "outputs": [],
   "source": [
    "census = pd.read_csv('census_location.csv', index_col='city')\n",
    "census = census.rename(columns={'lat':'lat','lng':'lon'})"
   ]
  },
  {
   "cell_type": "code",
   "execution_count": null,
   "metadata": {},
   "outputs": [],
   "source": [
    "census.to_csv('census_location.csv', index_label='city')"
   ]
  },
  {
   "cell_type": "code",
   "execution_count": null,
   "metadata": {},
   "outputs": [],
   "source": [
    "census = pd.read_csv('census_location.csv', index_col='city')\n",
    "census.head()"
   ]
  },
  {
   "cell_type": "code",
   "execution_count": null,
   "metadata": {},
   "outputs": [],
   "source": [
    "st.deck_gl_chart(\n",
    "            viewport={\n",
    "                'latitude': midpoint[0],\n",
    "                'longitude':  midpoint[1],\n",
    "                'zoom': 4\n",
    "            },\n",
    "            layers=[{\n",
    "                'type': 'ScatterplotLayer',\n",
    "                'data': map_graph,\n",
    "                'radiusScale': 250,\n",
    "   'radiusMinPixels': 5,\n",
    "                'getFillColor': [248, 24, 148],\n",
    "            }]\n",
    "        )"
   ]
  },
  {
   "cell_type": "code",
   "execution_count": null,
   "metadata": {},
   "outputs": [],
   "source": [
    "# location = defaultdict()\n",
    "# for x in cities:\n",
    "#     if x in census.index:\n",
    "#         location[x] = census.loc[x]\n",
    "    "
   ]
  },
  {
   "cell_type": "code",
   "execution_count": null,
   "metadata": {},
   "outputs": [],
   "source": [
    "# List1 = [x.lower() for x in census['city']]\n",
    "# List2 = [x.lower() for x in cities]\n",
    "\n",
    "\n",
    "def new(word):\n",
    "    location = []\n",
    "    for x in census.index:\n",
    "        if x in cities:\n",
    "            location.append(census.loc[x])\n",
    "    return location\n",
    "    \n",
    "    "
   ]
  },
  {
   "cell_type": "code",
   "execution_count": null,
   "metadata": {},
   "outputs": [],
   "source": [
    "test = new(cities)"
   ]
  },
  {
   "cell_type": "code",
   "execution_count": null,
   "metadata": {},
   "outputs": [],
   "source": [
    "df_location = pd.DataFrame(test, columns=['lat','lng'])"
   ]
  },
  {
   "cell_type": "code",
   "execution_count": null,
   "metadata": {},
   "outputs": [],
   "source": [
    "df_location"
   ]
  },
  {
   "cell_type": "code",
   "execution_count": null,
   "metadata": {},
   "outputs": [],
   "source": [
    "data = pd.DataFrame(test, columns=['lat','lng'])"
   ]
  },
  {
   "cell_type": "code",
   "execution_count": null,
   "metadata": {},
   "outputs": [],
   "source": []
  },
  {
   "cell_type": "code",
   "execution_count": null,
   "metadata": {},
   "outputs": [],
   "source": [
    "\n",
    "dblocation = dtotal['location']\n",
    "dblocation = dblocation.to_list()\n",
    "dbcity = [x.split(',')[0] for x in dblocation if isinstance(x, str)]\n",
    "\n",
    "census = pd.read_csv('census_location.csv', index_col='city')\n",
    "\n",
    "def dblocate(word):\n",
    "    locationdb = []\n",
    "    for x in census.index:\n",
    "        if x in dbcity:\n",
    "            locationdb.append(census.loc[x])\n",
    "    return locationdb\n",
    "\n",
    "db_city = dblocate(city)\n",
    "db_graph = pd.DataFrame(db_city, columns=['lat','lon'])\n",
    "\n",
    "st.deck_gl_chart(\n",
    "            viewport={\n",
    "                'latitude': map_graph['lat'].median(),\n",
    "                'longitude':  map_graph['lon'].median(),\n",
    "                'zoom': 2\n",
    "            },\n",
    "            layers=[{\n",
    "                'type': 'ScatterplotLayer',\n",
    "                'data': map_graph,\n",
    "                'radiusScale': 250,\n",
    "   'radiusMinPixels': 5,\n",
    "                'getFillColor': [43,241,7],\n",
    "            },\n",
    "            {'type': 'ScatterplotLayer',\n",
    "            'data': db_graph,\n",
    "            'radiusScale': 250,\n",
    "            'radiusMinPixels': 5,\n",
    "            'getFillColor': [75,205,250],\n",
    "            }]\n",
    "        )"
   ]
  },
  {
   "cell_type": "code",
   "execution_count": null,
   "metadata": {},
   "outputs": [],
   "source": [
    "ScatterplotLayer({\n",
    "    id: 'scatterplot-layer',\n",
    "    data: [\n",
    "      { position: [-122.4, 37.78], radius: 5, color: [0, 255, 0] },\n",
    "    ],\n",
    "    radiusScale: 100,\n",
    "  })"
   ]
  }
 ],
 "metadata": {
  "kernelspec": {
   "display_name": "Python [conda env:learn-env] *",
   "language": "python",
   "name": "conda-env-learn-env-py"
  },
  "language_info": {
   "codemirror_mode": {
    "name": "ipython",
    "version": 3
   },
   "file_extension": ".py",
   "mimetype": "text/x-python",
   "name": "python",
   "nbconvert_exporter": "python",
   "pygments_lexer": "ipython3",
   "version": "3.6.6"
  }
 },
 "nbformat": 4,
 "nbformat_minor": 2
}
