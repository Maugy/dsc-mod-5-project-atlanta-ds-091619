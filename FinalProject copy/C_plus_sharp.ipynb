{
 "cells": [
  {
   "cell_type": "code",
   "execution_count": 1,
   "metadata": {
    "ExecuteTime": {
     "end_time": "2019-12-15T15:50:04.147481Z",
     "start_time": "2019-12-15T15:50:02.848327Z"
    }
   },
   "outputs": [],
   "source": [
    "import nltk\n",
    "from nltk.corpus import stopwords\n",
    "import string\n",
    "from nltk import word_tokenize, FreqDist\n",
    "from sklearn.feature_extraction.text import TfidfVectorizer\n",
    "import matplotlib.pyplot as plt\n",
    "\n",
    "import pandas as pd \n",
    "import numpy as np\n",
    "from bs4 import BeautifulSoup\n",
    "import requests\n",
    "import json\n",
    "from time import sleep, time\n",
    "import lxml\n",
    "import re\n",
    "from urllib.parse import urljoin\n",
    "import unicodedata\n",
    "from collections import defaultdict, Counter\n",
    "import WebScrape_Indeed\n",
    "import WebScrape_LinkedIn\n",
    "import streamlit as st \n",
    "import terms \n",
    "import Cities \n",
    "import functions\n",
    "import time\n",
    "\n",
    "\n"
   ]
  },
  {
   "cell_type": "code",
   "execution_count": 2,
   "metadata": {
    "ExecuteTime": {
     "end_time": "2019-12-15T15:50:04.152056Z",
     "start_time": "2019-12-15T15:50:04.149658Z"
    }
   },
   "outputs": [],
   "source": [
    "search_terms = terms.total_terms"
   ]
  },
  {
   "cell_type": "code",
   "execution_count": 3,
   "metadata": {
    "ExecuteTime": {
     "end_time": "2019-12-15T15:50:04.566142Z",
     "start_time": "2019-12-15T15:50:04.563072Z"
    }
   },
   "outputs": [],
   "source": [
    "# test = \"I am just trying to find and match C++ or c++ as well as C# and also c#. Sometimes Java or javascript are important. I hear that python and ruby are starting to overtake them all. I also need to write python and java a few times to test this function. So I'll just write Python again a few ways, like python, Python.\""
   ]
  },
  {
   "cell_type": "code",
   "execution_count": 4,
   "metadata": {
    "ExecuteTime": {
     "end_time": "2019-12-15T15:50:06.391389Z",
     "start_time": "2019-12-15T15:50:06.286850Z"
    }
   },
   "outputs": [],
   "source": [
    "test2 = pd.read_csv('total_data.csv')\n",
    "test = test2['description']"
   ]
  },
  {
   "cell_type": "code",
   "execution_count": 5,
   "metadata": {
    "ExecuteTime": {
     "end_time": "2019-12-15T15:50:08.023731Z",
     "start_time": "2019-12-15T15:50:08.010684Z"
    }
   },
   "outputs": [
    {
     "data": {
      "text/plain": [
       "pandas.core.series.Series"
      ]
     },
     "execution_count": 5,
     "metadata": {},
     "output_type": "execute_result"
    }
   ],
   "source": [
    "type(test)"
   ]
  },
  {
   "cell_type": "code",
   "execution_count": 6,
   "metadata": {
    "ExecuteTime": {
     "end_time": "2019-12-15T15:50:09.415752Z",
     "start_time": "2019-12-15T15:50:09.411744Z"
    }
   },
   "outputs": [],
   "source": [
    "def cleanhtml(raw_html):\n",
    "    cleanr = re.compile('<.*?>')\n",
    "    clean = re.sub(cleanr, ' ', str(raw_html))\n",
    "    cleaner = clean.strip()\n",
    "    cleantext = re.sub('\\n', ' ', cleaner)\n",
    "    return cleantext"
   ]
  },
  {
   "cell_type": "code",
   "execution_count": 7,
   "metadata": {
    "ExecuteTime": {
     "end_time": "2019-12-15T15:50:09.901520Z",
     "start_time": "2019-12-15T15:50:09.897801Z"
    }
   },
   "outputs": [],
   "source": [
    "def cleanC(raw):\n",
    "    raw = ' '.join(raw.tolist())\n",
    "    for char in '-.,\\n':\n",
    "        raw = raw.replace(char,' ')\n",
    "    return raw"
   ]
  },
  {
   "cell_type": "code",
   "execution_count": 8,
   "metadata": {
    "ExecuteTime": {
     "end_time": "2019-12-15T15:50:10.388883Z",
     "start_time": "2019-12-15T15:50:10.384757Z"
    }
   },
   "outputs": [],
   "source": [
    "def clean(raw):\n",
    "    raw = ' '.join(raw.tolist())\n",
    "    for char in '-.,\\n':\n",
    "        raw = raw.replace(char,' ')\n",
    "    \n",
    "    pattern = \"([a-zA-Z]+(?:'[a-z]+)?)\"\n",
    "    raw = nltk.regexp_tokenize(raw, pattern)\n",
    "    return raw"
   ]
  },
  {
   "cell_type": "code",
   "execution_count": 9,
   "metadata": {
    "ExecuteTime": {
     "end_time": "2019-12-15T15:50:10.870933Z",
     "start_time": "2019-12-15T15:50:10.867263Z"
    }
   },
   "outputs": [],
   "source": [
    "def C_plus(raw):\n",
    "    Cplus = re.findall(r'(?i)\\bC\\+\\+(?!\\w)', str(raw))\n",
    "    return Cplus\n"
   ]
  },
  {
   "cell_type": "code",
   "execution_count": 10,
   "metadata": {
    "ExecuteTime": {
     "end_time": "2019-12-15T15:50:11.320867Z",
     "start_time": "2019-12-15T15:50:11.317526Z"
    }
   },
   "outputs": [],
   "source": [
    "def C_sharp(raw):\n",
    "    Csharp = re.findall(r'(?i)\\bC\\#(?!\\w)', str(raw))\n",
    "    return Csharp"
   ]
  },
  {
   "cell_type": "code",
   "execution_count": 11,
   "metadata": {
    "ExecuteTime": {
     "end_time": "2019-12-15T15:50:11.773476Z",
     "start_time": "2019-12-15T15:50:11.770212Z"
    }
   },
   "outputs": [],
   "source": [
    "def tokenize(raw):\n",
    "    pattern = \"([a-zA-Z]+(?:'[a-z]+)?)\"\n",
    "    raw = nltk.regexp_tokenize(raw, pattern)\n",
    "    return raw "
   ]
  },
  {
   "cell_type": "code",
   "execution_count": 12,
   "metadata": {
    "ExecuteTime": {
     "end_time": "2019-12-15T15:50:12.264469Z",
     "start_time": "2019-12-15T15:50:12.259825Z"
    }
   },
   "outputs": [],
   "source": [
    "def word_count(string):\n",
    "    freq = defaultdict(int)\n",
    "    List1 = [x.lower() for x in search_terms]\n",
    "    List2 = [x.lower() for x in string]\n",
    "\n",
    "    for item in List1:\n",
    "        if item in List2:\n",
    "            freq[item] = List2.count(item)\n",
    "        else:\n",
    "            freq[item] = 0 \n",
    "    return freq"
   ]
  },
  {
   "cell_type": "code",
   "execution_count": 13,
   "metadata": {
    "ExecuteTime": {
     "end_time": "2019-12-15T15:50:19.581573Z",
     "start_time": "2019-12-15T15:50:13.658639Z"
    },
    "scrolled": true
   },
   "outputs": [
    {
     "data": {
      "text/plain": [
       "Counter({'ajax': 189,\n",
       "         'asp': 344,\n",
       "         'asp.net': 0,\n",
       "         'aws': 2323,\n",
       "         'acrobat': 2,\n",
       "         'airflow': 236,\n",
       "         'alteryx': 10,\n",
       "         'android': 262,\n",
       "         'angular': 716,\n",
       "         'ansible': 64,\n",
       "         'apache': 581,\n",
       "         'arduino': 2,\n",
       "         'atom': 0,\n",
       "         'azure': 1505,\n",
       "         'bsd': 2,\n",
       "         'bash': 212,\n",
       "         'bigquery': 82,\n",
       "         'c#': 0,\n",
       "         'c++': 0,\n",
       "         'css': 1712,\n",
       "         'caffe': 6,\n",
       "         'cassandra': 227,\n",
       "         'chef': 126,\n",
       "         'couchbase': 8,\n",
       "         'cryengine': 0,\n",
       "         'd3': 0,\n",
       "         'databricks': 152,\n",
       "         'django': 79,\n",
       "         'docker': 368,\n",
       "         'drupal': 28,\n",
       "         'dynamodb': 77,\n",
       "         'elixir': 14,\n",
       "         'excel': 1354,\n",
       "         'fastai': 0,\n",
       "         'firebase': 14,\n",
       "         'flask': 16,\n",
       "         'gcp': 223,\n",
       "         'git': 899,\n",
       "         'google cloud': 0,\n",
       "         'html': 2016,\n",
       "         'hadoop': 1312,\n",
       "         'hbase': 309,\n",
       "         'hive': 810,\n",
       "         'ibm': 231,\n",
       "         'ipython': 0,\n",
       "         'illustrator': 32,\n",
       "         'indesign': 24,\n",
       "         'intellij': 4,\n",
       "         'java': 2508,\n",
       "         'javascript': 2488,\n",
       "         'jupyter': 186,\n",
       "         'keras': 32,\n",
       "         'komodo': 0,\n",
       "         'kubernetes': 229,\n",
       "         'laravel': 250,\n",
       "         'linux': 1258,\n",
       "         'macos': 18,\n",
       "         'mariadb': 92,\n",
       "         'matlab': 257,\n",
       "         'microsoft': 2341,\n",
       "         'mongodb': 243,\n",
       "         'mysql': 895,\n",
       "         'net': 1153,\n",
       "         'nlp': 428,\n",
       "         'netbeans': 0,\n",
       "         'netsuite': 19,\n",
       "         'nosql': 772,\n",
       "         'node': 280,\n",
       "         'notepad': 0,\n",
       "         'numpy': 118,\n",
       "         'objective c': 0,\n",
       "         'oracle': 928,\n",
       "         'php': 1019,\n",
       "         'phpstorm': 0,\n",
       "         'pmp': 26,\n",
       "         'pandas': 187,\n",
       "         'perl': 266,\n",
       "         'photoshop': 96,\n",
       "         'pi': 70,\n",
       "         'pig': 203,\n",
       "         'postgresql': 241,\n",
       "         'powerpoint': 213,\n",
       "         'powershell': 202,\n",
       "         'project management': 0,\n",
       "         'puppet': 42,\n",
       "         'pycharm': 0,\n",
       "         'pytorch': 77,\n",
       "         'python': 5113,\n",
       "         'r': 2528,\n",
       "         'rails': 215,\n",
       "         'raspberry': 12,\n",
       "         'react': 738,\n",
       "         'ruby': 492,\n",
       "         'rubymine': 0,\n",
       "         'sap': 290,\n",
       "         'sas': 654,\n",
       "         'spss': 186,\n",
       "         'sql': 7362,\n",
       "         'sqlite': 0,\n",
       "         'salesforce': 394,\n",
       "         'scala': 811,\n",
       "         'scikit-learn': 0,\n",
       "         'scrum': 522,\n",
       "         'shell': 408,\n",
       "         'spark': 1510,\n",
       "         'spring': 350,\n",
       "         'sublime': 0,\n",
       "         'swift': 51,\n",
       "         'tableau': 1651,\n",
       "         'tensorflow': 140,\n",
       "         'textmate': 0,\n",
       "         'torch': 24,\n",
       "         'unity': 39,\n",
       "         'unreal engine': 0,\n",
       "         'visual studio': 0,\n",
       "         'vue': 238,\n",
       "         'watson': 10,\n",
       "         'webassembly': 6,\n",
       "         'windows': 635,\n",
       "         'wordpress': 262,\n",
       "         'xgboost': 19,\n",
       "         'xml': 244,\n",
       "         'xamarin': 28,\n",
       "         'xcode': 6,\n",
       "         'zend': 2,\n",
       "         'ios': 182,\n",
       "         'jquery': 522,\n",
       "         'mapreduce': 256,\n",
       "         'sklearn': 5})"
      ]
     },
     "execution_count": 13,
     "metadata": {},
     "output_type": "execute_result"
    }
   ],
   "source": [
    "\n",
    "z = clean(test)\n",
    "j = word_count(z)\n",
    "k = Counter(j)\n",
    "k"
   ]
  },
  {
   "cell_type": "code",
   "execution_count": 14,
   "metadata": {
    "ExecuteTime": {
     "end_time": "2019-12-15T15:50:24.289900Z",
     "start_time": "2019-12-15T15:50:24.206848Z"
    }
   },
   "outputs": [],
   "source": [
    "e = cleanC(test)"
   ]
  },
  {
   "cell_type": "code",
   "execution_count": 15,
   "metadata": {
    "ExecuteTime": {
     "end_time": "2019-12-15T15:50:31.656447Z",
     "start_time": "2019-12-15T15:50:30.974633Z"
    }
   },
   "outputs": [
    {
     "data": {
      "text/plain": [
       "Counter({'C++': 891, 'c++': 6, 'C#': 957})"
      ]
     },
     "execution_count": 15,
     "metadata": {},
     "output_type": "execute_result"
    }
   ],
   "source": [
    "t = C_plus(e)\n",
    "s = C_sharp(e)\n",
    "h = Counter(t) + Counter(s)\n",
    "h"
   ]
  },
  {
   "cell_type": "code",
   "execution_count": 19,
   "metadata": {
    "ExecuteTime": {
     "end_time": "2019-12-15T16:00:36.020549Z",
     "start_time": "2019-12-15T16:00:36.015265Z"
    }
   },
   "outputs": [
    {
     "data": {
      "text/plain": [
       "Counter({'C++': 891, 'c++': 6, 'C#': 957})"
      ]
     },
     "execution_count": 19,
     "metadata": {},
     "output_type": "execute_result"
    }
   ],
   "source": [
    "Counter(h)"
   ]
  },
  {
   "cell_type": "code",
   "execution_count": 16,
   "metadata": {
    "ExecuteTime": {
     "end_time": "2019-12-15T15:50:41.393811Z",
     "start_time": "2019-12-15T15:50:41.390133Z"
    }
   },
   "outputs": [],
   "source": [
    "t2 = Counter(t) + Counter(s) + Counter(j)"
   ]
  },
  {
   "cell_type": "code",
   "execution_count": 17,
   "metadata": {
    "ExecuteTime": {
     "end_time": "2019-12-15T15:50:42.778495Z",
     "start_time": "2019-12-15T15:50:42.774490Z"
    }
   },
   "outputs": [],
   "source": [
    "c = t2\n",
    "total = sum(c.values())\n",
    "Cdict = [(i, c[i] / total * 100.0) for i in c]"
   ]
  },
  {
   "cell_type": "code",
   "execution_count": 18,
   "metadata": {
    "ExecuteTime": {
     "end_time": "2019-12-15T15:50:43.740547Z",
     "start_time": "2019-12-15T15:50:43.730364Z"
    }
   },
   "outputs": [
    {
     "data": {
      "text/plain": [
       "[('C++', 1.449558299575382),\n",
       " ('c++', 0.009761335350675972),\n",
       " ('C#', 1.5569329884328176),\n",
       " ('ajax', 0.30748206354629315),\n",
       " ('asp', 0.5596498934387558),\n",
       " ('aws', 3.779263669936714),\n",
       " ('acrobat', 0.003253778450225324),\n",
       " ('airflow', 0.3839458571265883),\n",
       " ('alteryx', 0.016268892251126623),\n",
       " ('android', 0.42624497697951746),\n",
       " ('angular', 1.1648526851806662),\n",
       " ('ansible', 0.10412091040721037),\n",
       " ('apache', 0.9452226397904566),\n",
       " ('arduino', 0.003253778450225324),\n",
       " ('azure', 2.4484682837945564),\n",
       " ('bsd', 0.003253778450225324),\n",
       " ('bash', 0.34490051572388436),\n",
       " ('bigquery', 0.13340491645923827),\n",
       " ('css', 2.7852343533928776),\n",
       " ('caffe', 0.009761335350675972),\n",
       " ('cassandra', 0.3693038541005743),\n",
       " ('chef', 0.20498804236419543),\n",
       " ('couchbase', 0.013015113800901297),\n",
       " ('databricks', 0.24728716221712466),\n",
       " ('django', 0.12852424878390029),\n",
       " ('docker', 0.5986952348414596),\n",
       " ('drupal', 0.04555289830315454),\n",
       " ('dynamodb', 0.12527047033367497),\n",
       " ('elixir', 0.02277644915157727),\n",
       " ('excel', 2.2028080108025443),\n",
       " ('firebase', 0.02277644915157727),\n",
       " ('flask', 0.026030227601802593),\n",
       " ('gcp', 0.3627962972001237),\n",
       " ('git', 1.462573413376283),\n",
       " ('html', 3.279808677827127),\n",
       " ('hadoop', 2.1344786633478123),\n",
       " ('hbase', 0.5027087705598126),\n",
       " ('hive', 1.3177802723412564),\n",
       " ('ibm', 0.37581141100102494),\n",
       " ('illustrator', 0.05206045520360519),\n",
       " ('indesign', 0.03904534140270389),\n",
       " ('intellij', 0.006507556900450648),\n",
       " ('java', 4.080238176582557),\n",
       " ('javascript', 4.047700392080303),\n",
       " ('jupyter', 0.30260139587095514),\n",
       " ('keras', 0.05206045520360519),\n",
       " ('kubernetes', 0.3725576325507996),\n",
       " ('laravel', 0.40672230627816547),\n",
       " ('linux', 2.0466266451917288),\n",
       " ('macos', 0.029284006052027915),\n",
       " ('mariadb', 0.1496738087103649),\n",
       " ('matlab', 0.4181105308539541),\n",
       " ('microsoft', 3.8085476759887418),\n",
       " ('mongodb', 0.3953340817023769),\n",
       " ('mysql', 1.4560658564758326),\n",
       " ('net', 1.8758032765548993),\n",
       " ('nlp', 0.6963085883482194),\n",
       " ('netsuite', 0.030910895277140582),\n",
       " ('nosql', 1.2559584817869751),\n",
       " ('node', 0.45552898303154543),\n",
       " ('numpy', 0.19197292856329415),\n",
       " ('oracle', 1.5097532009045505),\n",
       " ('php', 1.6578001203898025),\n",
       " ('pmp', 0.04229911985292921),\n",
       " ('pandas', 0.3042282850960678),\n",
       " ('perl', 0.43275253387996815),\n",
       " ('photoshop', 0.15618136561081555),\n",
       " ('pi', 0.11388224575788636),\n",
       " ('pig', 0.3302585126978704),\n",
       " ('postgresql', 0.39208030325215154),\n",
       " ('powerpoint', 0.34652740494899703),\n",
       " ('powershell', 0.3286316234727577),\n",
       " ('puppet', 0.0683293474547318),\n",
       " ('pytorch', 0.12527047033367497),\n",
       " ('python', 8.31828460800104),\n",
       " ('r', 4.112775961084809),\n",
       " ('rails', 0.3497811833992223),\n",
       " ('raspberry', 0.019522670701351944),\n",
       " ('react', 1.2006442481331445),\n",
       " ('ruby', 0.8004294987554297),\n",
       " ('sap', 0.471797875282672),\n",
       " ('sas', 1.063985553223681),\n",
       " ('spss', 0.30260139587095514),\n",
       " ('sql', 11.977158475279419),\n",
       " ('salesforce', 0.6409943546943888),\n",
       " ('scala', 1.319407161566369),\n",
       " ('scrum', 0.8492361755088097),\n",
       " ('shell', 0.6637708038459662),\n",
       " ('spark', 2.4566027299201196),\n",
       " ('spring', 0.5694112287894317),\n",
       " ('swift', 0.08297135048074578),\n",
       " ('tableau', 2.6859941106610052),\n",
       " ('tensorflow', 0.22776449151577272),\n",
       " ('torch', 0.03904534140270389),\n",
       " ('unity', 0.06344867977939382),\n",
       " ('vue', 0.3871996355768136),\n",
       " ('watson', 0.016268892251126623),\n",
       " ('webassembly', 0.009761335350675972),\n",
       " ('windows', 1.0330746579465404),\n",
       " ('wordpress', 0.42624497697951746),\n",
       " ('xgboost', 0.030910895277140582),\n",
       " ('xml', 0.39696097092748955),\n",
       " ('xamarin', 0.04555289830315454),\n",
       " ('xcode', 0.009761335350675972),\n",
       " ('zend', 0.003253778450225324),\n",
       " ('ios', 0.2960938389705045),\n",
       " ('jquery', 0.8492361755088097),\n",
       " ('mapreduce', 0.4164836416288415),\n",
       " ('sklearn', 0.008134446125563312)]"
      ]
     },
     "execution_count": 18,
     "metadata": {},
     "output_type": "execute_result"
    }
   ],
   "source": [
    "Cdict"
   ]
  },
  {
   "cell_type": "code",
   "execution_count": null,
   "metadata": {},
   "outputs": [],
   "source": []
  }
 ],
 "metadata": {
  "kernelspec": {
   "display_name": "Python [conda env:learn-env] *",
   "language": "python",
   "name": "conda-env-learn-env-py"
  },
  "language_info": {
   "codemirror_mode": {
    "name": "ipython",
    "version": 3
   },
   "file_extension": ".py",
   "mimetype": "text/x-python",
   "name": "python",
   "nbconvert_exporter": "python",
   "pygments_lexer": "ipython3",
   "version": "3.6.6"
  }
 },
 "nbformat": 4,
 "nbformat_minor": 2
}
